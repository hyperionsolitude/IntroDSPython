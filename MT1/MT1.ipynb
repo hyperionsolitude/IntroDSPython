{
 "cells": [
  {
   "cell_type": "code",
   "execution_count": 18,
   "metadata": {},
   "outputs": [],
   "source": [
    "#IMPORTANT NOTE: YOU ARE NOT ALLOWED TO USE ANY LIBRARY THAT HAS NOT BEEN DISCUSSED IN CLASS"
   ]
  },
  {
   "cell_type": "markdown",
   "metadata": {},
   "source": [
    "DS501.V: Introduction to Data Science Using Python  \n",
    "Homework 1  \n",
    "Utku Acar  "
   ]
  },
  {
   "cell_type": "markdown",
   "metadata": {},
   "source": [
    "Q1) Given the duration (number of months to pay), the interest rate and monthly payment, write a code that determines the original loan amount withdrawed from the bank? \n",
    "\n",
    "\n",
    "LoanAmount = ?\n",
    "InterestRate = 1.2\n",
    "MonthlyPayment = 2500\n",
    "duration = 22"
   ]
  },
  {
   "cell_type": "markdown",
   "metadata": {},
   "source": [
    "1.2 percent per month *22 = 26.4    \n",
    "126.4 percent of original loan should nearly equal to 2500x22 (55k)\n",
    "\n",
    "55k/126,4 * 100 = 43,512k this result is while the cumulative interest not take into a account I expect to this value should be increased if we take it into account the result would be like below:"
   ]
  },
  {
   "cell_type": "code",
   "execution_count": 19,
   "metadata": {},
   "outputs": [
    {
     "name": "stdout",
     "output_type": "stream",
     "text": [
      "The original (Principal) loan amount withdrawn from the bank is: $48087.23\n"
     ]
    }
   ],
   "source": [
    "def calculateLoanAmount(interest_rate, monthly_payment, duration):\n",
    "    # Convert interest rate to decimal\n",
    "    interest_rate_percentage = interest_rate / 100\n",
    "    \n",
    "    # Annuity Formula for Loans (Principal Value)\n",
    "    loan_amount = (monthly_payment * (1 - (1 + interest_rate_percentage)**(-duration))) / interest_rate_percentage\n",
    "    return loan_amount\n",
    "\n",
    "# Inserting given values\n",
    "interest_rate, monthly_payment, duration = 1.2, 2500, 22\n",
    "\n",
    "# Calculate the loan amount\n",
    "loan_amount = calculateLoanAmount(interest_rate, monthly_payment, duration)\n",
    "# Print the result\n",
    "print(f\"The original (Principal) loan amount withdrawn from the bank is: ${loan_amount:.2f}\")\n"
   ]
  },
  {
   "cell_type": "code",
   "execution_count": 20,
   "metadata": {},
   "outputs": [
    {
     "name": "stdout",
     "output_type": "stream",
     "text": [
      "[17 11 19  0 13  1 10 14 10 16  5  2 12  5  1 17 11 16 13 18 11  8  5 14\n",
      " 19 10 12 17 14 18  7  3  6 13 17 17 12  0  6  8 16  4  5  4 15 12  1 14\n",
      " 10 11  3  3  6  1 17 12  9  2 11  0  8  5  7  3 17 14  3  1 14  4  9  8\n",
      " 13  2  7  2  0 14  4  9 14  2  9  6 18 14 10 15 16  9 12 16  5  2  0 15\n",
      "  0  2  9 16]\n"
     ]
    }
   ],
   "source": [
    "import numpy as np\n",
    "\n",
    "np.random.seed(1907)\n",
    "\n",
    "List = np.random.randint(20, size=100)\n",
    "print(List)"
   ]
  },
  {
   "cell_type": "markdown",
   "metadata": {},
   "source": [
    "Q2) Suppose you have long list of integers (unsorted) and you would like to find the second smallest value (excluding the repeated values) in that list? Write a code that determines the second smallest value WITHOUT using any kind of sorting. Hint: if the list = [5, 1, 3, 4] your code should return 3, if the list = [5, 1, 3, 1] your code should still return 3. "
   ]
  },
  {
   "cell_type": "markdown",
   "metadata": {},
   "source": [
    "Answer: \n",
    "First, initialize two smallest value to the greater value(>=20 --> 21) than a List's maximum range(20)  \n",
    "But I would use maximum value that integer can represent in 64 bit system (9223372036854775807 --> sys.maxsize) for make it more general.    \n",
    "Then, I would find the maximum value with searching through the List(for loop)  \n",
    "Also I would exclude the repeated values with some control condition(and num != smallest) in code part below."
   ]
  },
  {
   "cell_type": "code",
   "execution_count": 21,
   "metadata": {},
   "outputs": [
    {
     "name": "stdout",
     "output_type": "stream",
     "text": [
      "Second smallest value in List is 3 while list is [5, 1, 3, 4]\n",
      "Second smallest value in List is 3 while list is [5, 1, 3, 1]\n"
     ]
    }
   ],
   "source": [
    "def findSecondSmallestValue(nums):\n",
    "    smallest = 21\n",
    "    second_smallest = 21\n",
    "\n",
    "    for num in nums:\n",
    "        if num < smallest:\n",
    "            second_smallest = smallest\n",
    "            smallest = num\n",
    "        elif num < second_smallest and num != smallest:\n",
    "            second_smallest = num\n",
    "\n",
    "    return second_smallest\n",
    "mylist1 = [5, 1, 3, 4]\n",
    "mylist2 = [5, 1, 3, 1]\n",
    "print(\"Second smallest value in List is\", findSecondSmallestValue(mylist1),\"while list is\",mylist1)\n",
    "print(\"Second smallest value in List is\", findSecondSmallestValue(mylist2),\"while list is\",mylist2)"
   ]
  },
  {
   "cell_type": "markdown",
   "metadata": {},
   "source": [
    "Q3) Suppose you have an unsorted long list of integers with even number of elements (2n integers) and you would like to find the pairs (n pairs) so that the sum of absoulte difference in mod 3 between two values of all pairs is minimized. Write a code that determines these pairs. Hint: if list = [5, 1, 2, 3, 6, 8] your code should return [(1,8), (2,5), (3,6)] or [(1,2), (5,8), (3,6)] with SUM = 1 + 0 + 0 or 1 + 0 + 0 = 1."
   ]
  },
  {
   "cell_type": "markdown",
   "metadata": {},
   "source": [
    "I have supposed that we can sort this array"
   ]
  },
  {
   "cell_type": "code",
   "execution_count": 22,
   "metadata": {},
   "outputs": [
    {
     "name": "stdout",
     "output_type": "stream",
     "text": [
      "Pairs with minimized sum of absolute differences modulo 3: [(1, 2), (3, 6), (5, 8)]\n",
      "Sum of absolute differences modulo 3: 1\n"
     ]
    }
   ],
   "source": [
    "def findPairs(num_list):\n",
    "    num_list.sort()  # Sort the num_list to simplify pair finding\n",
    "    pairs = []\n",
    "\n",
    "    while num_list:\n",
    "        first_of_pair = num_list.pop(0) # To get first value of the pair this will enable us to logically optimize the code a bit\n",
    "        closest = None\n",
    "        min_diff = float('inf') # Initialize it to infinity (greatest value possible) \n",
    "\n",
    "        for second_of_pair in num_list:\n",
    "            diff = abs(first_of_pair - second_of_pair) % 3\n",
    "            if diff < min_diff:\n",
    "                min_diff = diff\n",
    "                closest = second_of_pair\n",
    "\n",
    "        pairs.append((first_of_pair, closest))\n",
    "        num_list.remove(closest)\n",
    "\n",
    "    return pairs\n",
    "\n",
    "def calculateSumModulo3(pairs):\n",
    "    return sum(abs(a % 3 - b % 3) for a, b in pairs)\n",
    "\n",
    "\n",
    "\n",
    "nums = [5, 1, 2, 3, 6, 8]\n",
    "pairs = findPairs(nums)\n",
    "sum_modulo_3 = calculateSumModulo3(pairs)\n",
    "print(\"Pairs with minimized sum of absolute differences modulo 3:\", pairs)\n",
    "print(\"Sum of absolute differences modulo 3:\", sum_modulo_3)\n"
   ]
  },
  {
   "cell_type": "markdown",
   "metadata": {},
   "source": [
    "Q4) Suppose you have long list of integers (unsorted) and you would like to seperate them into two lists, so that the difference between the median values of those list is minimized (absolute value of the difference)? Write a code that determines these lists and print out the difference of their median. "
   ]
  },
  {
   "cell_type": "markdown",
   "metadata": {},
   "source": [
    "I have supposed that we can sort this array.    \n",
    "Median is the value at the middle index when it sorted. The main idea is separate the list into two pieces with similar values as possible (exactly same if possible).    \n",
    "The code has been given below."
   ]
  },
  {
   "cell_type": "code",
   "execution_count": 23,
   "metadata": {},
   "outputs": [
    {
     "name": "stdout",
     "output_type": "stream",
     "text": [
      "50 50\n",
      "List with lower values:  [ 0  0  0  1  1  1  2  2  2  3  3  3  4  4  5  5  5  6  6  7  8  8  9  9\n",
      "  9 10 10 10 11 11 12 12 12 13 13 14 14 14 14 14 15 16 16 16 17 17 17 17\n",
      " 18 19]\n",
      "List with higher values:  [ 0  0  0  1  1  2  2  2  2  3  3  4  4  5  5  5  6  6  7  7  8  8  9  9\n",
      "  9 10 10 11 11 11 12 12 12 13 13 14 14 14 14 15 15 16 16 16 17 17 17 18\n",
      " 18 19]\n",
      "Minimum difference of medians:  0.0\n"
     ]
    }
   ],
   "source": [
    "def findMedian(List):\n",
    "    length = len(List)\n",
    "    if length % 2 == 0:\n",
    "        return (List[length // 2 - 1] + List[length // 2]) / 2\n",
    "    else:\n",
    "        return List[length // 2]\n",
    "\n",
    "def calculateMinDifference(List):\n",
    "    # Sort the list in ascending order\n",
    "    List.sort()\n",
    "\n",
    "    # Divide the list into two halves\n",
    "    lows = List[::2]\n",
    "    highs = List[1::2]\n",
    "\n",
    "\n",
    "    return lows, highs, abs(findMedian(lows) - findMedian(highs))\n",
    "\n",
    "# The input list is defined randomly earlier\n",
    "lows, highs, min_difference = calculateMinDifference(List)\n",
    "print(len(lows), len(highs))\n",
    "print(\"List with lower values: \", lows)\n",
    "print(\"List with higher values: \", highs)\n",
    "print(\"Minimum difference of medians: \", min_difference)"
   ]
  }
 ],
 "metadata": {
  "kernelspec": {
   "display_name": "Python 3 (ipykernel)",
   "language": "python",
   "name": "python3"
  },
  "language_info": {
   "codemirror_mode": {
    "name": "ipython",
    "version": 3
   },
   "file_extension": ".py",
   "mimetype": "text/x-python",
   "name": "python",
   "nbconvert_exporter": "python",
   "pygments_lexer": "ipython3",
   "version": "3.10.12"
  }
 },
 "nbformat": 4,
 "nbformat_minor": 2
}
