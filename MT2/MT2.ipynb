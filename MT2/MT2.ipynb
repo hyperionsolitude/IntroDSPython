{
 "cells": [
  {
   "cell_type": "markdown",
   "metadata": {},
   "source": [
    "DS501.V: Introduction to Data Science Using Python  \n",
    "Homework 2  \n",
    "Utku Acar  "
   ]
  },
  {
   "cell_type": "markdown",
   "metadata": {},
   "source": [
    "Q1) Create a Vehicle Class with color, age, speed and km attributes. Write a getter function that retrieves all the attributes of the instance.  Write a setter function that allows you to modify all the attributes of the instance. Write a print function that prints the instance like: \"Vehicle - color: black - speed:100\".  Create a child class Truck that will inherit all of the variables and methods of the Vehicle class. However, Truck class should have an additional attribute capacity. Write a print function that prints the instance like: \"Turck / color: black / speed:100 / capacity:1000\"."
   ]
  },
  {
   "cell_type": "code",
   "execution_count": 38,
   "metadata": {},
   "outputs": [
    {
     "name": "stdout",
     "output_type": "stream",
     "text": [
      "Vehicle; color: black, speed: 100\n",
      "Truck; color: black, speed: 100, capacity: 1000\n"
     ]
    }
   ],
   "source": [
    "class Vehicle:\n",
    "    \n",
    "    # Constructor/Initializer Method\n",
    "    def __init__(self, color='NA', age=0, speed=0, km=0): # With default values \n",
    "        self.color = color\n",
    "        self.age = age\n",
    "        self.speed = speed\n",
    "        self.km = km\n",
    "    \n",
    "    # Getter Method\n",
    "    def getAttributes(self):\n",
    "        return {\n",
    "            'color': self.color,\n",
    "            'age': self.age,\n",
    "            'speed': self.speed,\n",
    "            'km': self.km\n",
    "        }\n",
    "    \n",
    "    # Setter Method\n",
    "    def setAttributes(self, color, age, speed, km):\n",
    "        self.color = color\n",
    "        self.age = age\n",
    "        self.speed = speed\n",
    "        self.km = km\n",
    "\n",
    "    # Print override\n",
    "    def __str__(self): # Special function overrides print() method\n",
    "        return f\"Vehicle; color: {self.color}, speed: {self.speed}\" # Return individual object's values\n",
    "\n",
    "class Truck(Vehicle): # Create Truck as a subclass of Vehicle\n",
    "    def __init__(self, color='NA', age=0, speed=0, km=0, capacity = 0): # Extra term (Capacity) with default values\n",
    "        super().__init__(color, age, speed, km) # Inherit all the attributes(functions, variable) from the parent(Vehicle)\n",
    "        self.capacity = capacity #\n",
    "\n",
    "    def __str__(self):\n",
    "        return f\"Truck; color: {self.color}, speed: {self.speed}, capacity: {self.capacity}\" # Return individual object's values, also overrides the print method of the parent(Vehicle)\n",
    "\n",
    "# Create car and truck\n",
    "car = Vehicle('black', 2, 100, 50000)\n",
    "print(car)\n",
    "\n",
    "truck = Truck('black', 5, 100, 150000, 1000)\n",
    "print(truck)\n"
   ]
  },
  {
   "cell_type": "markdown",
   "metadata": {},
   "source": [
    "Q2) What is the time complexity of the problem given below (using Big O notation)?\n",
    "\n",
    "Suppose you have long list of integers (even number of elements and unsorted) and you would like to find the sorted pairs in an ascending order of their division being close to 3. For instance, if the original list is [1, 12, 5, 3] then the sorted pairs lists would be [(3,1),(12,5),(12,3), (5,3), (5,1), (12,1)] where the divisions are [3, 2.4, 4, 1.66, 5, 12]. Hint: Note that the larger value in the pair always appears first. Think a code (you do not need to write it) that creates the second list and answer accordingly."
   ]
  },
  {
   "cell_type": "markdown",
   "metadata": {},
   "source": [
    "Answer:     \n",
    "To achieve this, we need to iterate over each element in the list(O(n)) and then iterate over the next number in the outer loop(O(n)*O(n-1) == O(n^2)). This will give us all possible pairs of numbers. We can then calculate the division of each pair(O(1)) and store it(O(1)) in a separate list. Finally, we can sort the pairs based on their division and return the sorted list.\n",
    "\n",
    "The time complexity of this algorithm is O(n^2), where n is the number of elements in the list. This is because we are iterating over each element in the list and then iterating over the next number in the list in the outer for loop. This nested loop’s time complexity is the dominant time complexity since other operations like if statements or assigning a value etc has lower time complexity.(Iterating in a loop is expensive operation compared to condition check & assigning etc)\n",
    "\n"
   ]
  },
  {
   "cell_type": "code",
   "execution_count": 39,
   "metadata": {},
   "outputs": [
    {
     "name": "stdout",
     "output_type": "stream",
     "text": [
      "[(3, 1), (12, 5), (12, 3), (5, 3), (5, 1), (12, 1)]\n"
     ]
    }
   ],
   "source": [
    "def findPairs(list): #O(n^2)\n",
    "    pairs = [] #-------------------------------------------- +O(1)\n",
    "    for i in range(len(list)): #-----------------------------*O(n)\n",
    "        # No need to \n",
    "        for j in range(i+1, len(list)): #-------------------- *O(n-1)\n",
    "            # Big one of pair first\n",
    "            if list[i] > list[j]: #-------------------------- +O(1)\n",
    "                a, b = list[i], list[j] #-------------------- +O(1)\n",
    "            else: #------------------------------------------ +O(1)\n",
    "                a, b = list[j], list[i] #-------------------- +O(1)\n",
    "            pairs.append((a, b)) #--------------------------- +O(1)\n",
    "    return sorted(pairs, key=lambda x: abs(x[0]/x[1] - 3)) # +O(nlog(n))\n",
    "# Total -------------------------------------------------- =O(n)*O(n-1) + O(nlog(n))\n",
    "# Total -------------------------------------------------- = O(n^2-n+ nlog(n))\n",
    "# Total ------------------------------------------------- ~= O(n^2)\n",
    "\n",
    "list = [1, 12, 5, 3] #--------------------------------------- O(1)\n",
    "print(findPairs(list)) #------------------------------------ O(1)\n",
    "\n",
    "# [RESULT] Dominant time complexity is O(n^2)"
   ]
  },
  {
   "cell_type": "markdown",
   "metadata": {},
   "source": [
    "Q3) Load the data on ExamCars.csv to a Pandas dataframe. a) Remove the rows with missing values, b) Compute and the mean, min, max of CITY (kWh/100 km) of each Make, each Year and each Make-Year,  c) Rename the column '(kW)' to 'kiloWatt', d) set the column 'PrimaryKey' as the new index \n"
   ]
  },
  {
   "cell_type": "code",
   "execution_count": 40,
   "metadata": {},
   "outputs": [],
   "source": [
    "import pandas as pd\n",
    "\n",
    "# Loading csv file as a data frame \n",
    "df = pd.read_csv('ExamCars.csv')\n",
    "\n",
    "# 3.a) Remove rows with missing values(NA's)\n",
    "\n",
    "df.dropna(inplace=True)\n",
    "\n",
    "#df"
   ]
  },
  {
   "cell_type": "code",
   "execution_count": 41,
   "metadata": {},
   "outputs": [],
   "source": [
    "# 3.b.1) Compute mean, min, max of CITY (kWh/100 km) for each Make(Company)\n",
    "\n",
    "make_min = df.groupby('Make')['CITY (kWh/100 km)'].min()\n",
    "make_max = df.groupby('Make')['CITY (kWh/100 km)'].max()\n",
    "make_mean = df.groupby('Make')['CITY (kWh/100 km)'].mean()\n",
    "\n",
    "#make_min\n",
    "#make_max\n",
    "#make_mean"
   ]
  },
  {
   "cell_type": "code",
   "execution_count": 42,
   "metadata": {},
   "outputs": [],
   "source": [
    "# 3.b.2) Compute mean, min, max of CITY (kWh/100 km) for each Year\n",
    "\n",
    "year_min = df.groupby('YEAR')['CITY (kWh/100 km)'].min()\n",
    "year_max = df.groupby('YEAR')['CITY (kWh/100 km)'].max()\n",
    "year_mean = df.groupby('YEAR')['CITY (kWh/100 km)'].mean()\n",
    "\n",
    "#year_min\n",
    "#year_max\n",
    "#year_mean"
   ]
  },
  {
   "cell_type": "code",
   "execution_count": 43,
   "metadata": {},
   "outputs": [],
   "source": [
    "# 3.b.3) Compute mean, min, max of CITY (kWh/100 km) for each Make-Year combined\n",
    "\n",
    "make_year_min = df.groupby(['Make', 'YEAR'])['CITY (kWh/100 km)'].min()\n",
    "make_year_max = df.groupby(['Make', 'YEAR'])['CITY (kWh/100 km)'].max()\n",
    "make_year_mean = df.groupby(['Make', 'YEAR'])['CITY (kWh/100 km)'].mean()\n",
    "\n",
    "#make_year_min\n",
    "#make_year_max\n",
    "#make_year_mean"
   ]
  },
  {
   "cell_type": "code",
   "execution_count": 44,
   "metadata": {},
   "outputs": [],
   "source": [
    "#3.c) Rename the column '(kW)' to 'kiloWatt' and override the dataframe with inplace as true\n",
    "\n",
    "df.rename(columns={'(kW)': 'kiloWatt'}, inplace=True)\n",
    "\n",
    "#df"
   ]
  },
  {
   "cell_type": "code",
   "execution_count": 45,
   "metadata": {},
   "outputs": [],
   "source": [
    "#3.d)Set the column 'PrimaryKey' as the new index and override the dataframe with inplace as true\n",
    "\n",
    "df.set_index('PrimaryKey', inplace=True)\n",
    "\n",
    "#df"
   ]
  },
  {
   "cell_type": "markdown",
   "metadata": {},
   "source": [
    "Q4) The data for the Premier League players playing in offense is shared with you in the 2010-2011_OffensiveMod.csv file.\n",
    "You have to write a code that gets the information from from this csv file.\n",
    "After that, you will use information that file to answer the following question:\n",
    "\n",
    "a.\tGroup players into 5 different groups based on column \"Mins\", so these groups should be in ascending order with equal number of players in it. For instance, if there are say 101 players, the first group will have 21 players with minimum \"Mins\" values and the next groups will have 20 players so an and so forth. Then find the average rating and goals for each group using Pandas (not excel!). \n",
    "\n",
    "b.\tNow use 2009-2010_OffensiveMod.csv file as a benchmark and print the name of 5 best players that promoted themselves; in other words, the players whose rankings are increased in comparison to the last season will be sorted and first 5 players will be chosen. (If a player was not playing last year, he will not be included on the list).\n"
   ]
  },
  {
   "cell_type": "code",
   "execution_count": 46,
   "metadata": {},
   "outputs": [],
   "source": [
    "# Data augmentation\n",
    "\n",
    "import numpy as np\n",
    "\n",
    "# Load data for seasons\n",
    "df_2010_2011 = pd.read_csv('2010-2011_OffensiveMod.csv')\n",
    "df_2009_2010 = pd.read_csv('2009-2010_OffensiveMod.csv')\n",
    "\n",
    "# Replace \"-\" with NaN in the entire DataFrames\n",
    "df_2010_2011 = df_2010_2011.replace('-', np.nan)\n",
    "df_2009_2010 = df_2009_2010.replace('-', np.nan)\n",
    "\n",
    "#Then convert the NaN's to numeric values to make calculations\n",
    "df_2010_2011 = df_2010_2011.apply(pd.to_numeric, errors='ignore')\n",
    "df_2009_2010 = df_2009_2010.apply(pd.to_numeric, errors='ignore')\n",
    "\n",
    "# Fill NaN values with 0 in the entire DataFrames\n",
    "df_2010_2011.fillna(0, inplace=True)\n",
    "df_2009_2010.fillna(0, inplace=True)"
   ]
  },
  {
   "cell_type": "code",
   "execution_count": 47,
   "metadata": {},
   "outputs": [
    {
     "name": "stdout",
     "output_type": "stream",
     "text": [
      "         Rating     Goals\n",
      "Group                    \n",
      "0      6.362569  0.110092\n",
      "1      6.519043  0.556522\n",
      "2      6.732946  1.919643\n",
      "3      6.906429  3.214286\n",
      "4      7.006870  3.243478\n"
     ]
    }
   ],
   "source": [
    "# 4.a)\n",
    "\n",
    "# Get the number of players\n",
    "num_players = len(df_2010_2011)\n",
    "\n",
    "# Sort the data by 'Mins'\n",
    "df_2010_2011_sorted = df_2010_2011.sort_values(by='Mins')\n",
    "\n",
    "# Calculate the number of players in each group\n",
    "group_size = num_players // 5\n",
    "remainder = num_players % 5  # To handle the remainder players (optimization, not must, we could lost 4 players at most)\n",
    "\n",
    "# Assign groups based on 'Mins' by iterating through all the players and only take the integer part \n",
    "df_2010_2011_sorted['Group'] = [i // group_size if i // group_size < 4 else 4 for i in range(num_players)]\n",
    "\n",
    "# [OPTIMIZATION] Handling the remainder players by distributing them across groups\n",
    "index_of_remaining_players = df_2010_2011_sorted.nsmallest(remainder, 'Mins').index\n",
    "df_2010_2011_sorted.loc[index_of_remaining_players, 'Group'] += 1\n",
    "\n",
    "# Calculate average rating and goals for each group by aggregate with option 'mean'\n",
    "grouped_data = df_2010_2011_sorted.groupby('Group').agg({'Rating': 'mean', 'Goals': 'mean'})\n",
    "\n",
    "#df_2010_2011_sorted['Group']\n",
    "print(grouped_data)"
   ]
  },
  {
   "cell_type": "markdown",
   "metadata": {},
   "source": [
    "The result of the 4.a above tells us the goals do not have important effect on rating for this specific grouping scheme"
   ]
  },
  {
   "cell_type": "code",
   "execution_count": 48,
   "metadata": {},
   "outputs": [
    {
     "name": "stdout",
     "output_type": "stream",
     "text": [
      "Top 5 players with improved Ratings:\n",
      "=====================\n",
      "James Milner\n",
      "\n",
      "Aston Villa, 34, D(LR),M(CLR)\n",
      "Rating Change: 1.77\n",
      "=====================\n",
      "Jack Colback\n",
      "\n",
      "Sunderland, 30, D(L),M(C)\n",
      "Rating Change: 1.29\n",
      "=====================\n",
      "Paul Konchesky\n",
      "\n",
      "Fulham, 39, D(L)\n",
      "Rating Change: 1.11\n",
      "=====================\n",
      "Jack Wilshere\n",
      "\n",
      "Arsenal, 28, M(CLR)\n",
      "Rating Change: 1.05\n",
      "=====================\n",
      "Mike Pollitt\n",
      "\n",
      "Wigan, 48, Goalkeeper\n",
      "Rating Change: 0.92\n",
      "=====================\n"
     ]
    }
   ],
   "source": [
    "# 4.b)\n",
    "\n",
    "import pandas as pd\n",
    "\n",
    "# Merge the current and previous seasons on 'Player' with saving both old and new values of the ratings\n",
    "merged_data = pd.merge(df_2010_2011[['Player', 'Rating']], df_2009_2010[['Player', 'Rating']], on='Player', suffixes=('_current', '_previous'))\n",
    "\n",
    "# Filter out players who were present in both seasons (Requirement of the question)\n",
    "players_in_both_seasons = merged_data.dropna()\n",
    "\n",
    "# Calculate the change in Ratings\n",
    "players_in_both_seasons['Rating_change'] = players_in_both_seasons['Rating_current'] - players_in_both_seasons['Rating_previous']\n",
    "\n",
    "# Filter players whose Ratings have improved\n",
    "improved_players = players_in_both_seasons[players_in_both_seasons['Rating_change'] > 0]\n",
    "\n",
    "# Sort the players based on Rating improvement with decreasing order\n",
    "improved_players_sorted = improved_players.sort_values(by='Rating_change', ascending=False)\n",
    "\n",
    "# Select the top 5 players\n",
    "top_5_improved_players = improved_players_sorted.head(5)\n",
    "\n",
    "# Print the names of the 5 players who improved their Ratings the most\n",
    "print(\"Top 5 players with improved Ratings:\\n=====================\")\n",
    "for index, player in top_5_improved_players.iterrows():\n",
    "    print(player['Player'])\n",
    "    print(f\"Rating Change: {player['Rating_change']:.2f}\") # Show 2 floating point precision\n",
    "    print(\"=====================\")"
   ]
  },
  {
   "cell_type": "code",
   "execution_count": 49,
   "metadata": {},
   "outputs": [
    {
     "name": "stdout",
     "output_type": "stream",
     "text": [
      "\n",
      "Elements only in merged_data but not in players_in_both_seasons:\n",
      " Empty DataFrame\n",
      "Columns: [Player, Rating_current, Rating_previous]\n",
      "Index: []\n"
     ]
    }
   ],
   "source": [
    "# [EXTRA-CHECK] If result is empty, it means that every player exist for both of the seasons\n",
    "elements_only_in_merged = merged_data[~merged_data['Player'].isin(players_in_both_seasons['Player'])]\n",
    "print(\"\\nElements only in merged_data but not in players_in_both_seasons:\\n\",elements_only_in_merged)"
   ]
  }
 ],
 "metadata": {
  "kernelspec": {
   "display_name": "Python 3 (ipykernel)",
   "language": "python",
   "name": "python3"
  },
  "language_info": {
   "codemirror_mode": {
    "name": "ipython",
    "version": 3
   },
   "file_extension": ".py",
   "mimetype": "text/x-python",
   "name": "python",
   "nbconvert_exporter": "python",
   "pygments_lexer": "ipython3",
   "version": "3.10.12"
  }
 },
 "nbformat": 4,
 "nbformat_minor": 2
}
