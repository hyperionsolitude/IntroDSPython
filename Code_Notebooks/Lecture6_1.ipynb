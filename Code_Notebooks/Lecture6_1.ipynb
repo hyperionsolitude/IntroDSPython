{
 "cells": [
  {
   "cell_type": "code",
   "execution_count": null,
   "metadata": {},
   "outputs": [],
   "source": [
    "def power(a,b):\n",
    "    if a==0 and b==0:\n",
    "        print(\"error\")\n",
    "    elif b==0:\n",
    "        return 1\n",
    "    elif a==0:\n",
    "        return 0\n",
    "    elif b==1:\n",
    "        print(\"Reached the base point:\", b)\n",
    "        return a\n",
    "    else:\n",
    "        print(\"Now calculating:\", a, b)\n",
    "        return a*power(a,b-1)\n"
   ]
  },
  {
   "cell_type": "code",
   "execution_count": null,
   "metadata": {},
   "outputs": [],
   "source": [
    "print(power(0,0))"
   ]
  },
  {
   "cell_type": "code",
   "execution_count": null,
   "metadata": {},
   "outputs": [],
   "source": [
    "def calc_factorial_loop(x):\n",
    "    \n",
    "    fact = 1\n",
    "    for i in range(x):\n",
    "        fact *= i+1\n",
    "    \n",
    "    return fact"
   ]
  },
  {
   "cell_type": "code",
   "execution_count": null,
   "metadata": {},
   "outputs": [],
   "source": [
    "print(calc_factorial_loop(10000))"
   ]
  },
  {
   "cell_type": "code",
   "execution_count": null,
   "metadata": {},
   "outputs": [],
   "source": [
    "def calc_factorial_rec(x):\n",
    "    if x==0:\n",
    "        return 1\n",
    "    elif x==1:\n",
    "        return 1\n",
    "    else:\n",
    "        #print(\"Now calculating:\", x)\n",
    "        return x*calc_factorial_rec(x-1)"
   ]
  },
  {
   "cell_type": "code",
   "execution_count": null,
   "metadata": {},
   "outputs": [],
   "source": [
    "print(calc_factorial_rec(10000))"
   ]
  },
  {
   "cell_type": "code",
   "execution_count": null,
   "metadata": {},
   "outputs": [],
   "source": [
    "def calc_factorial(x):\n",
    "    \"\"\"This is a recursive function\n",
    "    to find the factorial of an integer\"\"\"\n",
    "    if x == 1:\n",
    "        return 1\n",
    "    else:\n",
    "        return (x * calc_factorial(x-1))\n",
    "\n",
    "num = 100\n",
    "print(\"The factorial of\", num, \"is\", calc_factorial(num))"
   ]
  },
  {
   "cell_type": "code",
   "execution_count": null,
   "metadata": {},
   "outputs": [],
   "source": [
    "# Write a Python program to get the sum of the digits of a non-negative integer."
   ]
  },
  {
   "cell_type": "code",
   "execution_count": null,
   "metadata": {},
   "outputs": [],
   "source": [
    "16728"
   ]
  },
  {
   "cell_type": "code",
   "execution_count": null,
   "metadata": {},
   "outputs": [],
   "source": [
    "1+6+7+2+8"
   ]
  },
  {
   "cell_type": "code",
   "execution_count": null,
   "metadata": {},
   "outputs": [],
   "source": [
    "def whileloopsol(x):\n",
    "\n",
    "    sum1 = 0\n",
    "    while x>0:\n",
    "        #print(x % 10, x // 10)\n",
    "        sum1 += x % 10\n",
    "        x = x // 10\n",
    "    \n",
    "    return sum1"
   ]
  },
  {
   "cell_type": "code",
   "execution_count": null,
   "metadata": {},
   "outputs": [],
   "source": [
    "print(whileloopsol(1672434345353424252525299299291929199999999929192919291928838200309393382999992939235252525258))"
   ]
  },
  {
   "cell_type": "code",
   "execution_count": null,
   "metadata": {},
   "outputs": [],
   "source": [
    "def recsol(x):\n",
    "\n",
    "    if x < 10:\n",
    "        return x\n",
    "    else:\n",
    "        return x % 10 + recsol(x//10)"
   ]
  },
  {
   "cell_type": "code",
   "execution_count": null,
   "metadata": {},
   "outputs": [],
   "source": [
    "def recsolO(x):\n",
    "    temp = recsol(x)\n",
    "    print(temp)\n",
    "    if (temp>10):\n",
    "        temp = recsolO(temp)\n",
    "        \n",
    "    return temp\n"
   ]
  },
  {
   "cell_type": "code",
   "execution_count": null,
   "metadata": {},
   "outputs": [],
   "source": [
    "#print(recsolO(16728))\n",
    "print(recsolO(1672434345353424252525299299291929199999999929192919291928838200309393382999992939235252525258))"
   ]
  },
  {
   "cell_type": "code",
   "execution_count": null,
   "metadata": {},
   "outputs": [],
   "source": [
    "x = 16728\n",
    "xstr = str(x)\n",
    "xstr\n",
    "list1 = list(xstr)\n",
    "list1\n",
    "sum1 = 0 \n",
    "for i in list1:\n",
    "    sum1+=int(i)\n",
    "\n",
    "sum1"
   ]
  },
  {
   "cell_type": "code",
   "execution_count": null,
   "metadata": {},
   "outputs": [],
   "source": [
    "#####################################\n",
    "# EXAMPLE:  Towers of Hanoi\n",
    "#####################################\n",
    "\n",
    "def printMove(fr, to):\n",
    "    global count\n",
    "    count +=1\n",
    "    print(count, 'move from ' + str(fr) + ' to ' + str(to))\n",
    "\n",
    "def Towers(n, fr, to, spare):\n",
    "    if n == 1:\n",
    "        printMove(fr, to)\n",
    "    else:\n",
    "        Towers(n-1, fr, spare, to)\n",
    "        Towers(1, fr, to, spare)\n",
    "        Towers(n-1, spare, to, fr)\n",
    "\n",
    "count  = 0 \n",
    "print(Towers(20, 'P1', 'P2', 'P3'))"
   ]
  },
  {
   "cell_type": "code",
   "execution_count": null,
   "metadata": {},
   "outputs": [],
   "source": [
    "1 2 3 5 8 13 21 34 "
   ]
  },
  {
   "cell_type": "code",
   "execution_count": 1,
   "metadata": {},
   "outputs": [],
   "source": [
    "def fibonacci(x):\n",
    "    a = 0\n",
    "    b = 1\n",
    "    for i in range(x):\n",
    "        a,b = b, a+b\n",
    "    \n",
    "    return b \n"
   ]
  },
  {
   "cell_type": "code",
   "execution_count": 2,
   "metadata": {},
   "outputs": [
    {
     "name": "stdout",
     "output_type": "stream",
     "text": [
      "20365011074\n"
     ]
    }
   ],
   "source": [
    "print(fibonacci(50))"
   ]
  },
  {
   "cell_type": "code",
   "execution_count": 5,
   "metadata": {},
   "outputs": [],
   "source": [
    "def rec_fibonacci(x):\n",
    "    if x == 1: \n",
    "        return 1\n",
    "    elif x == 2:\n",
    "        return 2\n",
    "    else: \n",
    "        print(\"Now calculating fib\", x-1, x-2)\n",
    "        return rec_fibonacci(x-1) + rec_fibonacci(x-2)\n",
    "    "
   ]
  },
  {
   "cell_type": "code",
   "execution_count": 7,
   "metadata": {},
   "outputs": [
    {
     "name": "stdout",
     "output_type": "stream",
     "text": [
      "Now calculating fib 14 13\n",
      "Now calculating fib 13 12\n",
      "Now calculating fib 12 11\n",
      "Now calculating fib 11 10\n",
      "Now calculating fib 10 9\n",
      "Now calculating fib 9 8\n",
      "Now calculating fib 8 7\n",
      "Now calculating fib 7 6\n",
      "Now calculating fib 6 5\n",
      "Now calculating fib 5 4\n",
      "Now calculating fib 4 3\n",
      "Now calculating fib 3 2\n",
      "Now calculating fib 2 1\n",
      "Now calculating fib 2 1\n",
      "Now calculating fib 3 2\n",
      "Now calculating fib 2 1\n",
      "Now calculating fib 4 3\n",
      "Now calculating fib 3 2\n",
      "Now calculating fib 2 1\n",
      "Now calculating fib 2 1\n",
      "Now calculating fib 5 4\n",
      "Now calculating fib 4 3\n",
      "Now calculating fib 3 2\n",
      "Now calculating fib 2 1\n",
      "Now calculating fib 2 1\n",
      "Now calculating fib 3 2\n",
      "Now calculating fib 2 1\n",
      "Now calculating fib 6 5\n",
      "Now calculating fib 5 4\n",
      "Now calculating fib 4 3\n",
      "Now calculating fib 3 2\n",
      "Now calculating fib 2 1\n",
      "Now calculating fib 2 1\n",
      "Now calculating fib 3 2\n",
      "Now calculating fib 2 1\n",
      "Now calculating fib 4 3\n",
      "Now calculating fib 3 2\n",
      "Now calculating fib 2 1\n",
      "Now calculating fib 2 1\n",
      "Now calculating fib 7 6\n",
      "Now calculating fib 6 5\n",
      "Now calculating fib 5 4\n",
      "Now calculating fib 4 3\n",
      "Now calculating fib 3 2\n",
      "Now calculating fib 2 1\n",
      "Now calculating fib 2 1\n",
      "Now calculating fib 3 2\n",
      "Now calculating fib 2 1\n",
      "Now calculating fib 4 3\n",
      "Now calculating fib 3 2\n",
      "Now calculating fib 2 1\n",
      "Now calculating fib 2 1\n",
      "Now calculating fib 5 4\n",
      "Now calculating fib 4 3\n",
      "Now calculating fib 3 2\n",
      "Now calculating fib 2 1\n",
      "Now calculating fib 2 1\n",
      "Now calculating fib 3 2\n",
      "Now calculating fib 2 1\n",
      "Now calculating fib 8 7\n",
      "Now calculating fib 7 6\n",
      "Now calculating fib 6 5\n",
      "Now calculating fib 5 4\n",
      "Now calculating fib 4 3\n",
      "Now calculating fib 3 2\n",
      "Now calculating fib 2 1\n",
      "Now calculating fib 2 1\n",
      "Now calculating fib 3 2\n",
      "Now calculating fib 2 1\n",
      "Now calculating fib 4 3\n",
      "Now calculating fib 3 2\n",
      "Now calculating fib 2 1\n",
      "Now calculating fib 2 1\n",
      "Now calculating fib 5 4\n",
      "Now calculating fib 4 3\n",
      "Now calculating fib 3 2\n",
      "Now calculating fib 2 1\n",
      "Now calculating fib 2 1\n",
      "Now calculating fib 3 2\n",
      "Now calculating fib 2 1\n",
      "Now calculating fib 6 5\n",
      "Now calculating fib 5 4\n",
      "Now calculating fib 4 3\n",
      "Now calculating fib 3 2\n",
      "Now calculating fib 2 1\n",
      "Now calculating fib 2 1\n",
      "Now calculating fib 3 2\n",
      "Now calculating fib 2 1\n",
      "Now calculating fib 4 3\n",
      "Now calculating fib 3 2\n",
      "Now calculating fib 2 1\n",
      "Now calculating fib 2 1\n",
      "Now calculating fib 9 8\n",
      "Now calculating fib 8 7\n",
      "Now calculating fib 7 6\n",
      "Now calculating fib 6 5\n",
      "Now calculating fib 5 4\n",
      "Now calculating fib 4 3\n",
      "Now calculating fib 3 2\n",
      "Now calculating fib 2 1\n",
      "Now calculating fib 2 1\n",
      "Now calculating fib 3 2\n",
      "Now calculating fib 2 1\n",
      "Now calculating fib 4 3\n",
      "Now calculating fib 3 2\n",
      "Now calculating fib 2 1\n",
      "Now calculating fib 2 1\n",
      "Now calculating fib 5 4\n",
      "Now calculating fib 4 3\n",
      "Now calculating fib 3 2\n",
      "Now calculating fib 2 1\n",
      "Now calculating fib 2 1\n",
      "Now calculating fib 3 2\n",
      "Now calculating fib 2 1\n",
      "Now calculating fib 6 5\n",
      "Now calculating fib 5 4\n",
      "Now calculating fib 4 3\n",
      "Now calculating fib 3 2\n",
      "Now calculating fib 2 1\n",
      "Now calculating fib 2 1\n",
      "Now calculating fib 3 2\n",
      "Now calculating fib 2 1\n",
      "Now calculating fib 4 3\n",
      "Now calculating fib 3 2\n",
      "Now calculating fib 2 1\n",
      "Now calculating fib 2 1\n",
      "Now calculating fib 7 6\n",
      "Now calculating fib 6 5\n",
      "Now calculating fib 5 4\n",
      "Now calculating fib 4 3\n",
      "Now calculating fib 3 2\n",
      "Now calculating fib 2 1\n",
      "Now calculating fib 2 1\n",
      "Now calculating fib 3 2\n",
      "Now calculating fib 2 1\n",
      "Now calculating fib 4 3\n",
      "Now calculating fib 3 2\n",
      "Now calculating fib 2 1\n",
      "Now calculating fib 2 1\n",
      "Now calculating fib 5 4\n",
      "Now calculating fib 4 3\n",
      "Now calculating fib 3 2\n",
      "Now calculating fib 2 1\n",
      "Now calculating fib 2 1\n",
      "Now calculating fib 3 2\n",
      "Now calculating fib 2 1\n",
      "Now calculating fib 10 9\n",
      "Now calculating fib 9 8\n",
      "Now calculating fib 8 7\n",
      "Now calculating fib 7 6\n",
      "Now calculating fib 6 5\n",
      "Now calculating fib 5 4\n",
      "Now calculating fib 4 3\n",
      "Now calculating fib 3 2\n",
      "Now calculating fib 2 1\n",
      "Now calculating fib 2 1\n",
      "Now calculating fib 3 2\n",
      "Now calculating fib 2 1\n",
      "Now calculating fib 4 3\n",
      "Now calculating fib 3 2\n",
      "Now calculating fib 2 1\n",
      "Now calculating fib 2 1\n",
      "Now calculating fib 5 4\n",
      "Now calculating fib 4 3\n",
      "Now calculating fib 3 2\n",
      "Now calculating fib 2 1\n",
      "Now calculating fib 2 1\n",
      "Now calculating fib 3 2\n",
      "Now calculating fib 2 1\n",
      "Now calculating fib 6 5\n",
      "Now calculating fib 5 4\n",
      "Now calculating fib 4 3\n",
      "Now calculating fib 3 2\n",
      "Now calculating fib 2 1\n",
      "Now calculating fib 2 1\n",
      "Now calculating fib 3 2\n",
      "Now calculating fib 2 1\n",
      "Now calculating fib 4 3\n",
      "Now calculating fib 3 2\n",
      "Now calculating fib 2 1\n",
      "Now calculating fib 2 1\n",
      "Now calculating fib 7 6\n",
      "Now calculating fib 6 5\n",
      "Now calculating fib 5 4\n",
      "Now calculating fib 4 3\n",
      "Now calculating fib 3 2\n",
      "Now calculating fib 2 1\n",
      "Now calculating fib 2 1\n",
      "Now calculating fib 3 2\n",
      "Now calculating fib 2 1\n",
      "Now calculating fib 4 3\n",
      "Now calculating fib 3 2\n",
      "Now calculating fib 2 1\n",
      "Now calculating fib 2 1\n",
      "Now calculating fib 5 4\n",
      "Now calculating fib 4 3\n",
      "Now calculating fib 3 2\n",
      "Now calculating fib 2 1\n",
      "Now calculating fib 2 1\n",
      "Now calculating fib 3 2\n",
      "Now calculating fib 2 1\n",
      "Now calculating fib 8 7\n",
      "Now calculating fib 7 6\n",
      "Now calculating fib 6 5\n",
      "Now calculating fib 5 4\n",
      "Now calculating fib 4 3\n",
      "Now calculating fib 3 2\n",
      "Now calculating fib 2 1\n",
      "Now calculating fib 2 1\n",
      "Now calculating fib 3 2\n",
      "Now calculating fib 2 1\n",
      "Now calculating fib 4 3\n",
      "Now calculating fib 3 2\n",
      "Now calculating fib 2 1\n",
      "Now calculating fib 2 1\n",
      "Now calculating fib 5 4\n",
      "Now calculating fib 4 3\n",
      "Now calculating fib 3 2\n",
      "Now calculating fib 2 1\n",
      "Now calculating fib 2 1\n",
      "Now calculating fib 3 2\n",
      "Now calculating fib 2 1\n",
      "Now calculating fib 6 5\n",
      "Now calculating fib 5 4\n",
      "Now calculating fib 4 3\n",
      "Now calculating fib 3 2\n",
      "Now calculating fib 2 1\n",
      "Now calculating fib 2 1\n",
      "Now calculating fib 3 2\n",
      "Now calculating fib 2 1\n",
      "Now calculating fib 4 3\n",
      "Now calculating fib 3 2\n",
      "Now calculating fib 2 1\n",
      "Now calculating fib 2 1\n",
      "Now calculating fib 11 10\n",
      "Now calculating fib 10 9\n",
      "Now calculating fib 9 8\n",
      "Now calculating fib 8 7\n",
      "Now calculating fib 7 6\n",
      "Now calculating fib 6 5\n",
      "Now calculating fib 5 4\n",
      "Now calculating fib 4 3\n",
      "Now calculating fib 3 2\n",
      "Now calculating fib 2 1\n",
      "Now calculating fib 2 1\n",
      "Now calculating fib 3 2\n",
      "Now calculating fib 2 1\n",
      "Now calculating fib 4 3\n",
      "Now calculating fib 3 2\n",
      "Now calculating fib 2 1\n",
      "Now calculating fib 2 1\n",
      "Now calculating fib 5 4\n",
      "Now calculating fib 4 3\n",
      "Now calculating fib 3 2\n",
      "Now calculating fib 2 1\n",
      "Now calculating fib 2 1\n",
      "Now calculating fib 3 2\n",
      "Now calculating fib 2 1\n",
      "Now calculating fib 6 5\n",
      "Now calculating fib 5 4\n",
      "Now calculating fib 4 3\n",
      "Now calculating fib 3 2\n",
      "Now calculating fib 2 1\n",
      "Now calculating fib 2 1\n",
      "Now calculating fib 3 2\n",
      "Now calculating fib 2 1\n",
      "Now calculating fib 4 3\n",
      "Now calculating fib 3 2\n",
      "Now calculating fib 2 1\n",
      "Now calculating fib 2 1\n",
      "Now calculating fib 7 6\n",
      "Now calculating fib 6 5\n",
      "Now calculating fib 5 4\n",
      "Now calculating fib 4 3\n",
      "Now calculating fib 3 2\n",
      "Now calculating fib 2 1\n",
      "Now calculating fib 2 1\n",
      "Now calculating fib 3 2\n",
      "Now calculating fib 2 1\n",
      "Now calculating fib 4 3\n",
      "Now calculating fib 3 2\n",
      "Now calculating fib 2 1\n",
      "Now calculating fib 2 1\n",
      "Now calculating fib 5 4\n",
      "Now calculating fib 4 3\n",
      "Now calculating fib 3 2\n",
      "Now calculating fib 2 1\n",
      "Now calculating fib 2 1\n",
      "Now calculating fib 3 2\n",
      "Now calculating fib 2 1\n",
      "Now calculating fib 8 7\n",
      "Now calculating fib 7 6\n",
      "Now calculating fib 6 5\n",
      "Now calculating fib 5 4\n",
      "Now calculating fib 4 3\n",
      "Now calculating fib 3 2\n",
      "Now calculating fib 2 1\n",
      "Now calculating fib 2 1\n",
      "Now calculating fib 3 2\n",
      "Now calculating fib 2 1\n",
      "Now calculating fib 4 3\n",
      "Now calculating fib 3 2\n",
      "Now calculating fib 2 1\n",
      "Now calculating fib 2 1\n",
      "Now calculating fib 5 4\n",
      "Now calculating fib 4 3\n",
      "Now calculating fib 3 2\n",
      "Now calculating fib 2 1\n",
      "Now calculating fib 2 1\n",
      "Now calculating fib 3 2\n",
      "Now calculating fib 2 1\n",
      "Now calculating fib 6 5\n",
      "Now calculating fib 5 4\n",
      "Now calculating fib 4 3\n",
      "Now calculating fib 3 2\n",
      "Now calculating fib 2 1\n",
      "Now calculating fib 2 1\n",
      "Now calculating fib 3 2\n",
      "Now calculating fib 2 1\n",
      "Now calculating fib 4 3\n",
      "Now calculating fib 3 2\n",
      "Now calculating fib 2 1\n",
      "Now calculating fib 2 1\n",
      "Now calculating fib 9 8\n",
      "Now calculating fib 8 7\n",
      "Now calculating fib 7 6\n",
      "Now calculating fib 6 5\n",
      "Now calculating fib 5 4\n",
      "Now calculating fib 4 3\n",
      "Now calculating fib 3 2\n",
      "Now calculating fib 2 1\n",
      "Now calculating fib 2 1\n",
      "Now calculating fib 3 2\n",
      "Now calculating fib 2 1\n",
      "Now calculating fib 4 3\n",
      "Now calculating fib 3 2\n",
      "Now calculating fib 2 1\n",
      "Now calculating fib 2 1\n",
      "Now calculating fib 5 4\n",
      "Now calculating fib 4 3\n",
      "Now calculating fib 3 2\n",
      "Now calculating fib 2 1\n",
      "Now calculating fib 2 1\n",
      "Now calculating fib 3 2\n",
      "Now calculating fib 2 1\n",
      "Now calculating fib 6 5\n",
      "Now calculating fib 5 4\n",
      "Now calculating fib 4 3\n",
      "Now calculating fib 3 2\n",
      "Now calculating fib 2 1\n",
      "Now calculating fib 2 1\n",
      "Now calculating fib 3 2\n",
      "Now calculating fib 2 1\n",
      "Now calculating fib 4 3\n",
      "Now calculating fib 3 2\n",
      "Now calculating fib 2 1\n",
      "Now calculating fib 2 1\n",
      "Now calculating fib 7 6\n",
      "Now calculating fib 6 5\n",
      "Now calculating fib 5 4\n",
      "Now calculating fib 4 3\n",
      "Now calculating fib 3 2\n",
      "Now calculating fib 2 1\n",
      "Now calculating fib 2 1\n",
      "Now calculating fib 3 2\n",
      "Now calculating fib 2 1\n",
      "Now calculating fib 4 3\n",
      "Now calculating fib 3 2\n",
      "Now calculating fib 2 1\n",
      "Now calculating fib 2 1\n",
      "Now calculating fib 5 4\n",
      "Now calculating fib 4 3\n",
      "Now calculating fib 3 2\n",
      "Now calculating fib 2 1\n",
      "Now calculating fib 2 1\n",
      "Now calculating fib 3 2\n",
      "Now calculating fib 2 1\n",
      "Now calculating fib 12 11\n",
      "Now calculating fib 11 10\n",
      "Now calculating fib 10 9\n",
      "Now calculating fib 9 8\n",
      "Now calculating fib 8 7\n",
      "Now calculating fib 7 6\n",
      "Now calculating fib 6 5\n",
      "Now calculating fib 5 4\n",
      "Now calculating fib 4 3\n",
      "Now calculating fib 3 2\n",
      "Now calculating fib 2 1\n",
      "Now calculating fib 2 1\n",
      "Now calculating fib 3 2\n",
      "Now calculating fib 2 1\n",
      "Now calculating fib 4 3\n",
      "Now calculating fib 3 2\n",
      "Now calculating fib 2 1\n",
      "Now calculating fib 2 1\n",
      "Now calculating fib 5 4\n",
      "Now calculating fib 4 3\n",
      "Now calculating fib 3 2\n",
      "Now calculating fib 2 1\n",
      "Now calculating fib 2 1\n",
      "Now calculating fib 3 2\n",
      "Now calculating fib 2 1\n",
      "Now calculating fib 6 5\n",
      "Now calculating fib 5 4\n",
      "Now calculating fib 4 3\n",
      "Now calculating fib 3 2\n",
      "Now calculating fib 2 1\n",
      "Now calculating fib 2 1\n",
      "Now calculating fib 3 2\n",
      "Now calculating fib 2 1\n",
      "Now calculating fib 4 3\n",
      "Now calculating fib 3 2\n",
      "Now calculating fib 2 1\n",
      "Now calculating fib 2 1\n",
      "Now calculating fib 7 6\n",
      "Now calculating fib 6 5\n",
      "Now calculating fib 5 4\n",
      "Now calculating fib 4 3\n",
      "Now calculating fib 3 2\n",
      "Now calculating fib 2 1\n",
      "Now calculating fib 2 1\n",
      "Now calculating fib 3 2\n",
      "Now calculating fib 2 1\n",
      "Now calculating fib 4 3\n",
      "Now calculating fib 3 2\n",
      "Now calculating fib 2 1\n",
      "Now calculating fib 2 1\n",
      "Now calculating fib 5 4\n",
      "Now calculating fib 4 3\n",
      "Now calculating fib 3 2\n",
      "Now calculating fib 2 1\n",
      "Now calculating fib 2 1\n",
      "Now calculating fib 3 2\n",
      "Now calculating fib 2 1\n",
      "Now calculating fib 8 7\n",
      "Now calculating fib 7 6\n",
      "Now calculating fib 6 5\n",
      "Now calculating fib 5 4\n",
      "Now calculating fib 4 3\n",
      "Now calculating fib 3 2\n",
      "Now calculating fib 2 1\n",
      "Now calculating fib 2 1\n",
      "Now calculating fib 3 2\n",
      "Now calculating fib 2 1\n",
      "Now calculating fib 4 3\n",
      "Now calculating fib 3 2\n",
      "Now calculating fib 2 1\n",
      "Now calculating fib 2 1\n",
      "Now calculating fib 5 4\n",
      "Now calculating fib 4 3\n",
      "Now calculating fib 3 2\n",
      "Now calculating fib 2 1\n",
      "Now calculating fib 2 1\n",
      "Now calculating fib 3 2\n",
      "Now calculating fib 2 1\n",
      "Now calculating fib 6 5\n",
      "Now calculating fib 5 4\n",
      "Now calculating fib 4 3\n",
      "Now calculating fib 3 2\n",
      "Now calculating fib 2 1\n",
      "Now calculating fib 2 1\n",
      "Now calculating fib 3 2\n",
      "Now calculating fib 2 1\n",
      "Now calculating fib 4 3\n",
      "Now calculating fib 3 2\n",
      "Now calculating fib 2 1\n",
      "Now calculating fib 2 1\n",
      "Now calculating fib 9 8\n",
      "Now calculating fib 8 7\n",
      "Now calculating fib 7 6\n",
      "Now calculating fib 6 5\n",
      "Now calculating fib 5 4\n",
      "Now calculating fib 4 3\n",
      "Now calculating fib 3 2\n",
      "Now calculating fib 2 1\n",
      "Now calculating fib 2 1\n",
      "Now calculating fib 3 2\n",
      "Now calculating fib 2 1\n",
      "Now calculating fib 4 3\n",
      "Now calculating fib 3 2\n",
      "Now calculating fib 2 1\n",
      "Now calculating fib 2 1\n",
      "Now calculating fib 5 4\n",
      "Now calculating fib 4 3\n",
      "Now calculating fib 3 2\n",
      "Now calculating fib 2 1\n",
      "Now calculating fib 2 1\n",
      "Now calculating fib 3 2\n",
      "Now calculating fib 2 1\n",
      "Now calculating fib 6 5\n",
      "Now calculating fib 5 4\n",
      "Now calculating fib 4 3\n",
      "Now calculating fib 3 2\n",
      "Now calculating fib 2 1\n",
      "Now calculating fib 2 1\n",
      "Now calculating fib 3 2\n",
      "Now calculating fib 2 1\n",
      "Now calculating fib 4 3\n",
      "Now calculating fib 3 2\n",
      "Now calculating fib 2 1\n",
      "Now calculating fib 2 1\n",
      "Now calculating fib 7 6\n",
      "Now calculating fib 6 5\n",
      "Now calculating fib 5 4\n",
      "Now calculating fib 4 3\n",
      "Now calculating fib 3 2\n",
      "Now calculating fib 2 1\n",
      "Now calculating fib 2 1\n",
      "Now calculating fib 3 2\n",
      "Now calculating fib 2 1\n",
      "Now calculating fib 4 3\n",
      "Now calculating fib 3 2\n",
      "Now calculating fib 2 1\n",
      "Now calculating fib 2 1\n",
      "Now calculating fib 5 4\n",
      "Now calculating fib 4 3\n",
      "Now calculating fib 3 2\n",
      "Now calculating fib 2 1\n",
      "Now calculating fib 2 1\n",
      "Now calculating fib 3 2\n",
      "Now calculating fib 2 1\n",
      "Now calculating fib 10 9\n",
      "Now calculating fib 9 8\n",
      "Now calculating fib 8 7\n",
      "Now calculating fib 7 6\n",
      "Now calculating fib 6 5\n",
      "Now calculating fib 5 4\n",
      "Now calculating fib 4 3\n",
      "Now calculating fib 3 2\n",
      "Now calculating fib 2 1\n",
      "Now calculating fib 2 1\n",
      "Now calculating fib 3 2\n",
      "Now calculating fib 2 1\n",
      "Now calculating fib 4 3\n",
      "Now calculating fib 3 2\n",
      "Now calculating fib 2 1\n",
      "Now calculating fib 2 1\n",
      "Now calculating fib 5 4\n",
      "Now calculating fib 4 3\n",
      "Now calculating fib 3 2\n",
      "Now calculating fib 2 1\n",
      "Now calculating fib 2 1\n",
      "Now calculating fib 3 2\n",
      "Now calculating fib 2 1\n",
      "Now calculating fib 6 5\n",
      "Now calculating fib 5 4\n",
      "Now calculating fib 4 3\n",
      "Now calculating fib 3 2\n",
      "Now calculating fib 2 1\n",
      "Now calculating fib 2 1\n",
      "Now calculating fib 3 2\n",
      "Now calculating fib 2 1\n",
      "Now calculating fib 4 3\n",
      "Now calculating fib 3 2\n",
      "Now calculating fib 2 1\n",
      "Now calculating fib 2 1\n",
      "Now calculating fib 7 6\n",
      "Now calculating fib 6 5\n",
      "Now calculating fib 5 4\n",
      "Now calculating fib 4 3\n",
      "Now calculating fib 3 2\n",
      "Now calculating fib 2 1\n",
      "Now calculating fib 2 1\n",
      "Now calculating fib 3 2\n",
      "Now calculating fib 2 1\n",
      "Now calculating fib 4 3\n",
      "Now calculating fib 3 2\n",
      "Now calculating fib 2 1\n",
      "Now calculating fib 2 1\n",
      "Now calculating fib 5 4\n",
      "Now calculating fib 4 3\n",
      "Now calculating fib 3 2\n",
      "Now calculating fib 2 1\n",
      "Now calculating fib 2 1\n",
      "Now calculating fib 3 2\n",
      "Now calculating fib 2 1\n",
      "Now calculating fib 8 7\n",
      "Now calculating fib 7 6\n",
      "Now calculating fib 6 5\n",
      "Now calculating fib 5 4\n",
      "Now calculating fib 4 3\n",
      "Now calculating fib 3 2\n",
      "Now calculating fib 2 1\n",
      "Now calculating fib 2 1\n",
      "Now calculating fib 3 2\n",
      "Now calculating fib 2 1\n",
      "Now calculating fib 4 3\n",
      "Now calculating fib 3 2\n",
      "Now calculating fib 2 1\n",
      "Now calculating fib 2 1\n",
      "Now calculating fib 5 4\n",
      "Now calculating fib 4 3\n",
      "Now calculating fib 3 2\n",
      "Now calculating fib 2 1\n",
      "Now calculating fib 2 1\n",
      "Now calculating fib 3 2\n",
      "Now calculating fib 2 1\n",
      "Now calculating fib 6 5\n",
      "Now calculating fib 5 4\n",
      "Now calculating fib 4 3\n",
      "Now calculating fib 3 2\n",
      "Now calculating fib 2 1\n",
      "Now calculating fib 2 1\n",
      "Now calculating fib 3 2\n",
      "Now calculating fib 2 1\n",
      "Now calculating fib 4 3\n",
      "Now calculating fib 3 2\n",
      "Now calculating fib 2 1\n",
      "Now calculating fib 2 1\n",
      "987\n"
     ]
    }
   ],
   "source": [
    "print(rec_fibonacci(15))"
   ]
  },
  {
   "cell_type": "code",
   "execution_count": null,
   "metadata": {},
   "outputs": [],
   "source": []
  },
  {
   "cell_type": "code",
   "execution_count": null,
   "metadata": {},
   "outputs": [],
   "source": []
  },
  {
   "cell_type": "code",
   "execution_count": null,
   "metadata": {},
   "outputs": [],
   "source": [
    "#####################################\n",
    "# EXAMPLE:  fibonacci\n",
    "#####################################\n",
    "\n",
    "def fib(x):\n",
    "    \"\"\"assumes x an int >= 0\n",
    "       returns Fibonacci of x\"\"\"\n",
    "    if x == 0 or x == 1:\n",
    "        return 1\n",
    "    else:\n",
    "        return fib(x-1) + fib(x-2)\n",
    "\n",
    "print(fib(50))"
   ]
  },
  {
   "cell_type": "code",
   "execution_count": null,
   "metadata": {},
   "outputs": [],
   "source": [
    "mum\n",
    "\n",
    "m == m\n",
    "u"
   ]
  },
  {
   "cell_type": "code",
   "execution_count": null,
   "metadata": {},
   "outputs": [],
   "source": [
    "eyedipadanadapideye\n",
    "\n",
    "e == e \n",
    "\n",
    "yedipadanadapidey\n",
    "\n",
    "y ==y \n",
    "\n",
    "edipadanadapide\n",
    "\n",
    "e==e\n",
    "\n",
    "dipadanadapid\n"
   ]
  },
  {
   "cell_type": "code",
   "execution_count": 8,
   "metadata": {},
   "outputs": [
    {
     "name": "stdout",
     "output_type": "stream",
     "text": [
      "isPal leabvbazl\n",
      "isPal eabvbaz\n",
      "False\n"
     ]
    }
   ],
   "source": [
    "#####################################\n",
    "# EXAMPLE:  testing for palindromes\n",
    "#####################################\n",
    "        \n",
    "def isPalindrome(s):\n",
    "\n",
    "    def toChars(s):\n",
    "        s = s.lower()\n",
    "        ans = ''\n",
    "        for c in s:\n",
    "            if c in 'abcdefghijklmnopqrstuvwxyz':\n",
    "                ans = ans + c\n",
    "        #print(\"toChars\", ans)\n",
    "        return ans\n",
    "\n",
    "    def isPal(s):\n",
    "        print(\"isPal\", s)\n",
    "        if len(s) <= 1:\n",
    "            return True\n",
    "        else:         \n",
    "            return s[0] == s[-1] and isPal(s[1:-1])\n",
    "\n",
    "    return isPal(toChars(s))\n",
    "\n",
    "\n",
    "print(isPalindrome('leabvbazl'))"
   ]
  },
  {
   "cell_type": "code",
   "execution_count": 9,
   "metadata": {},
   "outputs": [
    {
     "name": "stdout",
     "output_type": "stream",
     "text": [
      "isPal ablewasiereisawelba\n",
      "isPal blewasiereisawelb\n",
      "isPal lewasiereisawel\n",
      "isPal ewasiereisawe\n",
      "isPal wasiereisaw\n",
      "isPal asiereisa\n",
      "isPal siereis\n",
      "isPal ierei\n",
      "isPal ere\n",
      "isPal r\n",
      "True\n"
     ]
    }
   ],
   "source": [
    "print(isPalindrome('Able was I, ere I saw Elba'))"
   ]
  },
  {
   "cell_type": "code",
   "execution_count": 10,
   "metadata": {},
   "outputs": [
    {
     "name": "stdout",
     "output_type": "stream",
     "text": [
      "isPal isthisapalindrome\n",
      "False\n"
     ]
    }
   ],
   "source": [
    "print(isPalindrome('Is this a palindrome'))"
   ]
  },
  {
   "cell_type": "code",
   "execution_count": null,
   "metadata": {},
   "outputs": [],
   "source": [
    "                1 \n",
    "            1       1\n",
    "        1      2       1\n",
    "    1      3       3       1\n",
    "1       4      6       4       1 \n",
    "1     5      10     10      5      1"
   ]
  },
  {
   "cell_type": "code",
   "execution_count": null,
   "metadata": {},
   "outputs": [],
   "source": [
    "List = [3, 4, 14, 26, 32, 4, 13, 3, 37]"
   ]
  },
  {
   "cell_type": "code",
   "execution_count": null,
   "metadata": {},
   "outputs": [],
   "source": [
    "\"VESTEL\""
   ]
  },
  {
   "cell_type": "code",
   "execution_count": null,
   "metadata": {},
   "outputs": [],
   "source": [
    "V, E, S, T, L"
   ]
  },
  {
   "cell_type": "code",
   "execution_count": null,
   "metadata": {},
   "outputs": [],
   "source": [
    "VE, EV, VS, SV, VT, TV, VL, LV, ES, SE, ET, TE, EL, LE, ST, TS, SL, LS, TL, LT, EE"
   ]
  },
  {
   "cell_type": "code",
   "execution_count": null,
   "metadata": {},
   "outputs": [],
   "source": [
    "EEV, VEE, EVE, VES, VSE, ESV, EVS, SEV, SVE...."
   ]
  },
  {
   "cell_type": "code",
   "execution_count": null,
   "metadata": {},
   "outputs": [],
   "source": [
    "# Write a Python program to return the Pascal Triangle"
   ]
  },
  {
   "cell_type": "code",
   "execution_count": null,
   "metadata": {},
   "outputs": [],
   "source": [
    "# Write a Python program to return the list of the subsets of a list"
   ]
  },
  {
   "cell_type": "code",
   "execution_count": null,
   "metadata": {},
   "outputs": [],
   "source": [
    "# Write a Python program to return all the combinations and permutations of a given string \n",
    "# (do not double count the same strings if same letter is repeated in the given word)"
   ]
  },
  {
   "cell_type": "code",
   "execution_count": 11,
   "metadata": {},
   "outputs": [],
   "source": [
    "d = {-1.75: \"Hello\", \"name\":\"Orsan\", \"loc\":\"Ozyegin\"}"
   ]
  },
  {
   "cell_type": "code",
   "execution_count": 12,
   "metadata": {},
   "outputs": [
    {
     "data": {
      "text/plain": [
       "'Hello'"
      ]
     },
     "execution_count": 12,
     "metadata": {},
     "output_type": "execute_result"
    }
   ],
   "source": [
    "d[-1.75]"
   ]
  },
  {
   "cell_type": "code",
   "execution_count": 13,
   "metadata": {},
   "outputs": [
    {
     "data": {
      "text/plain": [
       "'Ozyegin'"
      ]
     },
     "execution_count": 13,
     "metadata": {},
     "output_type": "execute_result"
    }
   ],
   "source": [
    "d['loc']"
   ]
  },
  {
   "cell_type": "code",
   "execution_count": 14,
   "metadata": {},
   "outputs": [
    {
     "ename": "KeyError",
     "evalue": "'vestel'",
     "output_type": "error",
     "traceback": [
      "\u001b[1;31m---------------------------------------------------------------------------\u001b[0m",
      "\u001b[1;31mKeyError\u001b[0m                                  Traceback (most recent call last)",
      "Input \u001b[1;32mIn [14]\u001b[0m, in \u001b[0;36m<cell line: 1>\u001b[1;34m()\u001b[0m\n\u001b[1;32m----> 1\u001b[0m \u001b[43md\u001b[49m\u001b[43m[\u001b[49m\u001b[38;5;124;43m'\u001b[39;49m\u001b[38;5;124;43mvestel\u001b[39;49m\u001b[38;5;124;43m'\u001b[39;49m\u001b[43m]\u001b[49m\n",
      "\u001b[1;31mKeyError\u001b[0m: 'vestel'"
     ]
    }
   ],
   "source": [
    "d['vestel']"
   ]
  },
  {
   "cell_type": "code",
   "execution_count": 15,
   "metadata": {},
   "outputs": [
    {
     "data": {
      "text/plain": [
       "'Orsan'"
      ]
     },
     "execution_count": 15,
     "metadata": {},
     "output_type": "execute_result"
    }
   ],
   "source": [
    "d['name']"
   ]
  },
  {
   "cell_type": "code",
   "execution_count": 16,
   "metadata": {},
   "outputs": [
    {
     "ename": "KeyError",
     "evalue": "2",
     "output_type": "error",
     "traceback": [
      "\u001b[1;31m---------------------------------------------------------------------------\u001b[0m",
      "\u001b[1;31mKeyError\u001b[0m                                  Traceback (most recent call last)",
      "Input \u001b[1;32mIn [16]\u001b[0m, in \u001b[0;36m<cell line: 1>\u001b[1;34m()\u001b[0m\n\u001b[1;32m----> 1\u001b[0m \u001b[43md\u001b[49m\u001b[43m[\u001b[49m\u001b[38;5;241;43m2\u001b[39;49m\u001b[43m]\u001b[49m\n",
      "\u001b[1;31mKeyError\u001b[0m: 2"
     ]
    }
   ],
   "source": [
    "d[2]"
   ]
  },
  {
   "cell_type": "code",
   "execution_count": 17,
   "metadata": {},
   "outputs": [
    {
     "data": {
      "text/plain": [
       "{-1.75: 'Hello', 'name': 'Orsan', 'loc': 'Ozyegin'}"
      ]
     },
     "execution_count": 17,
     "metadata": {},
     "output_type": "execute_result"
    }
   ],
   "source": [
    "d"
   ]
  },
  {
   "cell_type": "code",
   "execution_count": 18,
   "metadata": {},
   "outputs": [
    {
     "data": {
      "text/plain": [
       "{-1.75: 'Hello', 'name': 'Orsan', 'loc': 'Ozyegin', (2, 3): [1, 2, 3.14159]}"
      ]
     },
     "execution_count": 18,
     "metadata": {},
     "output_type": "execute_result"
    }
   ],
   "source": [
    "d[(2,3)] = [1,2,3.14159]\n",
    "d"
   ]
  },
  {
   "cell_type": "code",
   "execution_count": 19,
   "metadata": {},
   "outputs": [
    {
     "data": {
      "text/plain": [
       "{-1.75: 'Hello',\n",
       " 'name': 'Orsan Ozener',\n",
       " 'loc': 'Ozyegin',\n",
       " (2, 3): [1, 2, 3.14159]}"
      ]
     },
     "execution_count": 19,
     "metadata": {},
     "output_type": "execute_result"
    }
   ],
   "source": [
    "d[\"name\"] = \"Orsan Ozener\"\n",
    "d"
   ]
  },
  {
   "cell_type": "code",
   "execution_count": 20,
   "metadata": {},
   "outputs": [
    {
     "data": {
      "text/plain": [
       "{-1.75: 'Hello', 'name': 'Orsan Ozener', 'loc': 'Ozyegin'}"
      ]
     },
     "execution_count": 20,
     "metadata": {},
     "output_type": "execute_result"
    }
   ],
   "source": [
    "del d[(2,3)]\n",
    "d"
   ]
  },
  {
   "cell_type": "code",
   "execution_count": 21,
   "metadata": {},
   "outputs": [
    {
     "data": {
      "text/plain": [
       "3"
      ]
     },
     "execution_count": 21,
     "metadata": {},
     "output_type": "execute_result"
    }
   ],
   "source": [
    "len(d)"
   ]
  },
  {
   "cell_type": "code",
   "execution_count": 22,
   "metadata": {},
   "outputs": [
    {
     "data": {
      "text/plain": [
       "False"
      ]
     },
     "execution_count": 22,
     "metadata": {},
     "output_type": "execute_result"
    }
   ],
   "source": [
    "2 in d"
   ]
  },
  {
   "cell_type": "code",
   "execution_count": 23,
   "metadata": {},
   "outputs": [
    {
     "data": {
      "text/plain": [
       "True"
      ]
     },
     "execution_count": 23,
     "metadata": {},
     "output_type": "execute_result"
    }
   ],
   "source": [
    "-1.75 in d"
   ]
  },
  {
   "cell_type": "code",
   "execution_count": 24,
   "metadata": {},
   "outputs": [
    {
     "data": {
      "text/plain": [
       "False"
      ]
     },
     "execution_count": 24,
     "metadata": {},
     "output_type": "execute_result"
    }
   ],
   "source": [
    "'Ozyegin' in d"
   ]
  },
  {
   "cell_type": "code",
   "execution_count": 25,
   "metadata": {},
   "outputs": [
    {
     "data": {
      "text/plain": [
       "{-1.75: 'Hello', 'name': 'Orsan Ozener', 'loc': 'Ozyegin'}"
      ]
     },
     "execution_count": 25,
     "metadata": {},
     "output_type": "execute_result"
    }
   ],
   "source": [
    "d2 = d.copy()\n",
    "d2"
   ]
  },
  {
   "cell_type": "code",
   "execution_count": 26,
   "metadata": {},
   "outputs": [
    {
     "data": {
      "text/plain": [
       "{}"
      ]
     },
     "execution_count": 26,
     "metadata": {},
     "output_type": "execute_result"
    }
   ],
   "source": [
    "d2.clear()\n",
    "d2"
   ]
  },
  {
   "cell_type": "code",
   "execution_count": 27,
   "metadata": {},
   "outputs": [
    {
     "data": {
      "text/plain": [
       "{-1.75: 'Hello', 'name': 'Orsan Ozener', 'loc': 'Ozyegin'}"
      ]
     },
     "execution_count": 27,
     "metadata": {},
     "output_type": "execute_result"
    }
   ],
   "source": [
    "d"
   ]
  },
  {
   "cell_type": "code",
   "execution_count": 28,
   "metadata": {},
   "outputs": [
    {
     "data": {
      "text/plain": [
       "{-1.75: 'Hello', 'name': 'Orsan Ozener', 'loc': 'Ozyegin', 4: 86, 'A': 'New'}"
      ]
     },
     "execution_count": 28,
     "metadata": {},
     "output_type": "execute_result"
    }
   ],
   "source": [
    "d2 = {4: 86, \"A\":\"New\"}\n",
    "d.update(d2)\n",
    "d"
   ]
  },
  {
   "cell_type": "code",
   "execution_count": 29,
   "metadata": {},
   "outputs": [],
   "source": [
    "d['Vestel'] = \"Manisa\""
   ]
  },
  {
   "cell_type": "code",
   "execution_count": 30,
   "metadata": {},
   "outputs": [
    {
     "data": {
      "text/plain": [
       "{-1.75: 'Hello',\n",
       " 'name': 'Orsan Ozener',\n",
       " 'loc': 'Ozyegin',\n",
       " 4: 86,\n",
       " 'A': 'New',\n",
       " 'Vestel': 'Manisa'}"
      ]
     },
     "execution_count": 30,
     "metadata": {},
     "output_type": "execute_result"
    }
   ],
   "source": [
    "d"
   ]
  },
  {
   "cell_type": "code",
   "execution_count": 31,
   "metadata": {},
   "outputs": [
    {
     "data": {
      "text/plain": [
       "['Hello', 'Orsan Ozener', 'Ozyegin', 86, 'New', 'Manisa']"
      ]
     },
     "execution_count": 31,
     "metadata": {},
     "output_type": "execute_result"
    }
   ],
   "source": [
    "list(d.values())"
   ]
  },
  {
   "cell_type": "code",
   "execution_count": 32,
   "metadata": {},
   "outputs": [
    {
     "data": {
      "text/plain": [
       "[-1.75, 'name', 'loc', 4, 'A', 'Vestel']"
      ]
     },
     "execution_count": 32,
     "metadata": {},
     "output_type": "execute_result"
    }
   ],
   "source": [
    "list(d.keys())"
   ]
  },
  {
   "cell_type": "code",
   "execution_count": 33,
   "metadata": {},
   "outputs": [
    {
     "data": {
      "text/plain": [
       "227"
      ]
     },
     "execution_count": 33,
     "metadata": {},
     "output_type": "execute_result"
    }
   ],
   "source": [
    "#####################################\n",
    "# EXAMPLE: using dictionaries\n",
    "#          counting frequencies of words in song lyrics\n",
    "#####################################\n",
    "\n",
    "def lyrics_to_frequencies(lyrics):\n",
    "    myDict = {}\n",
    "    for word in lyrics:\n",
    "        if word in myDict:\n",
    "            myDict[word] += 1\n",
    "        else:\n",
    "            myDict[word] = 1\n",
    "    return myDict\n",
    "    \n",
    "    \n",
    "she_loves_you = ['she', 'loves', 'you', 'yeah', 'yeah', \n",
    "'yeah','she', 'loves', 'you', 'yeah', 'yeah', 'yeah',\n",
    "'she', 'loves', 'you', 'yeah', 'yeah', 'yeah',\n",
    "\n",
    "'you', 'think', \"you've\", 'lost', 'your', 'love',\n",
    "'well', 'i', 'saw', 'her', 'yesterday-yi-yay',\n",
    "\"it's\", 'you', \"she's\", 'thinking', 'of',\n",
    "'and', 'she', 'told', 'me', 'what', 'to', 'say-yi-yay',\n",
    "\n",
    "'she', 'says', 'she', 'loves', 'you',\n",
    "'and', 'you', 'know', 'that', \"can't\", 'be', 'bad',\n",
    "'yes', 'she', 'loves', 'you',\n",
    "'and', 'you', 'know', 'you', 'should', 'be', 'glad',\n",
    "\n",
    "'she', 'said', 'you', 'hurt', 'her', 'so',\n",
    "'she', 'almost', 'lost', 'her', 'mind',\n",
    "'and', 'now', 'she', 'says', 'she', 'knows',\n",
    "\"you're\", 'not', 'the', 'hurting', 'kind',\n",
    "\n",
    "'she', 'says', 'she', 'loves', 'you',\n",
    "'and', 'you', 'know', 'that', \"can't\", 'be', 'bad',\n",
    "'yes', 'she', 'loves', 'you',\n",
    "'and', 'you', 'know', 'you', 'should', 'be', 'glad',\n",
    "\n",
    "'oo', 'she', 'loves', 'you', 'yeah', 'yeah', 'yeah',\n",
    "'she', 'loves', 'you', 'yeah', 'yeah', 'yeah',\n",
    "'with', 'a', 'love', 'like', 'that',\n",
    "'you', 'know', 'you', 'should', 'be', 'glad',\n",
    "\n",
    "'you', 'know', \"it's\", 'up', 'to', 'you',\n",
    "'i', 'think', \"it's\", 'only', 'fair',\n",
    "'pride', 'can', 'hurt', 'you', 'too',\n",
    "'pologize', 'to', 'her',\n",
    "\n",
    "'Because', 'she', 'loves', 'you',\n",
    "'and', 'you', 'know', 'that', \"can't\", 'be', 'bad',\n",
    "'Yes', 'she', 'loves', 'you',\n",
    "'and', 'you', 'know', 'you', 'should', 'be', 'glad',\n",
    "\n",
    "'oo', 'she', 'loves', 'you', 'yeah', 'yeah', 'yeah',\n",
    "'she', 'loves', 'you', 'yeah', 'yeah', 'yeah',\n",
    "'with', 'a', 'love', 'like', 'that',\n",
    "'you', 'know', 'you', 'should', 'be', 'glad',\n",
    "'with', 'a', 'love', 'like', 'that',\n",
    "'you', 'know', 'you', 'should', 'be', 'glad',\n",
    "'with', 'a', 'love', 'like', 'that',\n",
    "'you', 'know', 'you', 'should', 'be', 'glad',\n",
    "'yeah', 'yeah', 'yeah',\n",
    "'yeah', 'yeah', 'yeah', 'yeah'\n",
    "]\n",
    "\n",
    "\n",
    "len(she_loves_you)\n"
   ]
  },
  {
   "cell_type": "code",
   "execution_count": 34,
   "metadata": {},
   "outputs": [
    {
     "name": "stdout",
     "output_type": "stream",
     "text": [
      "{'she': 20, 'loves': 13, 'you': 36, 'yeah': 28, 'think': 2, \"you've\": 1, 'lost': 2, 'your': 1, 'love': 5, 'well': 1, 'i': 2, 'saw': 1, 'her': 4, 'yesterday-yi-yay': 1, \"it's\": 3, \"she's\": 1, 'thinking': 1, 'of': 1, 'and': 8, 'told': 1, 'me': 1, 'what': 1, 'to': 3, 'say-yi-yay': 1, 'says': 3, 'know': 11, 'that': 7, \"can't\": 3, 'be': 10, 'bad': 3, 'yes': 2, 'should': 7, 'glad': 7, 'said': 1, 'hurt': 2, 'so': 1, 'almost': 1, 'mind': 1, 'now': 1, 'knows': 1, \"you're\": 1, 'not': 1, 'the': 1, 'hurting': 1, 'kind': 1, 'oo': 2, 'with': 4, 'a': 4, 'like': 4, 'up': 1, 'only': 1, 'fair': 1, 'pride': 1, 'can': 1, 'too': 1, 'pologize': 1, 'Because': 1, 'Yes': 1}\n"
     ]
    }
   ],
   "source": [
    "beatles = lyrics_to_frequencies(she_loves_you)\n",
    "print(beatles)"
   ]
  },
  {
   "cell_type": "code",
   "execution_count": 35,
   "metadata": {},
   "outputs": [
    {
     "name": "stdout",
     "output_type": "stream",
     "text": [
      "[]\n",
      "Best 36\n",
      "     ['you']\n",
      "[(['you'], 36)]\n",
      "Best 28\n",
      "     ['yeah']\n",
      "[(['you'], 36), (['yeah'], 28)]\n",
      "Best 20\n",
      "     ['she']\n",
      "[(['you'], 36), (['yeah'], 28), (['she'], 20)]\n",
      "Best 13\n",
      "     ['loves']\n",
      "[(['you'], 36), (['yeah'], 28), (['she'], 20), (['loves'], 13)]\n",
      "Best 11\n",
      "     ['know']\n",
      "[(['you'], 36), (['yeah'], 28), (['she'], 20), (['loves'], 13), (['know'], 11)]\n",
      "Best 10\n",
      "     ['be']\n",
      "[(['you'], 36), (['yeah'], 28), (['she'], 20), (['loves'], 13), (['know'], 11), (['be'], 10)]\n",
      "Best 8\n",
      "     ['and']\n",
      "[(['you'], 36), (['yeah'], 28), (['she'], 20), (['loves'], 13), (['know'], 11), (['be'], 10), (['and'], 8)]\n",
      "Best 7\n",
      "     ['that']\n",
      "     ['that', 'should']\n",
      "     ['that', 'should', 'glad']\n",
      "[(['you'], 36), (['yeah'], 28), (['she'], 20), (['loves'], 13), (['know'], 11), (['be'], 10), (['and'], 8), (['that', 'should', 'glad'], 7)]\n",
      "Best 5\n",
      "     ['love']\n",
      "[(['you'], 36), (['yeah'], 28), (['she'], 20), (['loves'], 13), (['know'], 11), (['be'], 10), (['and'], 8), (['that', 'should', 'glad'], 7), (['love'], 5)]\n",
      "Best 4\n",
      "     ['her']\n",
      "     ['her', 'with']\n",
      "     ['her', 'with', 'a']\n",
      "     ['her', 'with', 'a', 'like']\n",
      "[(['you'], 36), (['yeah'], 28), (['she'], 20), (['loves'], 13), (['know'], 11), (['be'], 10), (['and'], 8), (['that', 'should', 'glad'], 7), (['love'], 5)]\n"
     ]
    }
   ],
   "source": [
    "def most_common_words(freqs):\n",
    "    values = freqs.values()\n",
    "    best = max(freqs.values())\n",
    "    words = []\n",
    "    print(\"Best\", best)\n",
    "    for k in freqs:\n",
    "        if freqs[k] == best:\n",
    "            words.append(k)\n",
    "            print(\"    \", words)\n",
    "    return (words, best)\n",
    "    \n",
    "def words_often(freqs, minTimes):\n",
    "    result = []\n",
    "    done = False\n",
    "    while not done:\n",
    "        print(result)\n",
    "        temp = most_common_words(freqs)\n",
    "        if temp[1] >= minTimes:\n",
    "            result.append(temp)\n",
    "            for w in temp[0]:\n",
    "                del(freqs[w])  #remove word from dict\n",
    "        else:\n",
    "            done = True\n",
    "    return result\n",
    "    \n",
    "print(words_often(beatles, 5))"
   ]
  },
  {
   "cell_type": "code",
   "execution_count": null,
   "metadata": {},
   "outputs": [],
   "source": [
    "#####################################\n",
    "# EXAMPLE: comparing fibonacci using memoization\n",
    "#####################################\n",
    "def fib(n):\n",
    "    if n == 1:\n",
    "        return 1\n",
    "    elif n == 2:\n",
    "        return 2\n",
    "    else:\n",
    "        return fib(n-1) + fib(n-2)\n",
    "\n",
    "\n",
    "argToUse = 30\n",
    "print(\"\")\n",
    "print('using fib')\n",
    "print(fib(argToUse))"
   ]
  },
  {
   "cell_type": "code",
   "execution_count": 6,
   "metadata": {},
   "outputs": [
    {
     "name": "stdout",
     "output_type": "stream",
     "text": [
      "\n",
      "using fib_efficient\n",
      "20365011074\n"
     ]
    }
   ],
   "source": [
    "def fib_efficient(n, d):\n",
    "    if n in d:\n",
    "        return d[n]\n",
    "    else:\n",
    "        ans = fib_efficient(n-1, d)+fib_efficient(n-2, d)\n",
    "        d[n] = ans\n",
    "        #print(d)\n",
    "        return ans\n",
    "        \n",
    "d = {1:1, 2:2}\n",
    "\n",
    "argToUse = 50\n",
    "print(\"\")\n",
    "print('using fib_efficient')\n",
    "print(fib_efficient(argToUse, d))\n"
   ]
  },
  {
   "cell_type": "code",
   "execution_count": null,
   "metadata": {},
   "outputs": [],
   "source": [
    "print(d)"
   ]
  },
  {
   "cell_type": "code",
   "execution_count": null,
   "metadata": {},
   "outputs": [],
   "source": []
  }
 ],
 "metadata": {
  "kernelspec": {
   "display_name": "Python 3 (ipykernel)",
   "language": "python",
   "name": "python3"
  },
  "language_info": {
   "codemirror_mode": {
    "name": "ipython",
    "version": 3
   },
   "file_extension": ".py",
   "mimetype": "text/x-python",
   "name": "python",
   "nbconvert_exporter": "python",
   "pygments_lexer": "ipython3",
   "version": "3.9.12"
  }
 },
 "nbformat": 4,
 "nbformat_minor": 2
}
