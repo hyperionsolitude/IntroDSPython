{
 "cells": [
  {
   "cell_type": "code",
   "execution_count": null,
   "metadata": {},
   "outputs": [],
   "source": [
    "# Assignment: Define a dog class, with name, color and age. Using the same Dog class, instantiate three new dogs, \n",
    "# each with a different age. Then write a function called, get_biggest_number(), that takes any number of ages (*args) \n",
    "# and returns the oldest one. Then output the age of the oldest dog like so:\n",
    "# The oldest dog is 7 years old."
   ]
  },
  {
   "cell_type": "code",
   "execution_count": 1,
   "metadata": {},
   "outputs": [
    {
     "name": "stdout",
     "output_type": "stream",
     "text": [
      "The oldest dog is 7 years old.\n"
     ]
    }
   ],
   "source": [
    "class Dog:\n",
    "    \n",
    "    # Class Attribute\n",
    "    species = 'mammal'\n",
    " \n",
    "    # Initializer / Instance Attributes\n",
    "    def __init__(self, name, age, color):\n",
    "        self.name = name\n",
    "        self.age = age\n",
    "        self.color = color\n",
    " \n",
    "# Instantiate the Dog object\n",
    "jake = Dog(\"Jake\", 7, \"black\")\n",
    "doug = Dog(\"Doug\", 4, \"brown\")\n",
    "william = Dog(\"William\", 5, \"black\")\n",
    " \n",
    " \n",
    "# Determine the oldest dog\n",
    "def get_biggest_number(*args):\n",
    "    return max(args)\n",
    " \n",
    " \n",
    "# Output\n",
    "print(\"The oldest dog is {} years old.\".format(\n",
    "    get_biggest_number(jake.age, doug.age, william.age)))\n",
    " \n"
   ]
  },
  {
   "cell_type": "code",
   "execution_count": null,
   "metadata": {},
   "outputs": [],
   "source": [
    "# Add a description() function and a speak() function to the dog class, printing out the following lines for a dog named Mikey. \n",
    "# Mikey is 6 years old\n",
    "# Mikey says Gruff Gruff"
   ]
  },
  {
   "cell_type": "code",
   "execution_count": 15,
   "metadata": {},
   "outputs": [
    {
     "name": "stdout",
     "output_type": "stream",
     "text": [
      "Mikey is 6 years old\n",
      "Mikey says Gruff Gruff\n",
      "Karabas is 5 years old\n",
      "Karabas says Hav Hav\n"
     ]
    }
   ],
   "source": [
    "class Dog:\n",
    " \n",
    "    # Class Attribute\n",
    "    species = 'mammal'\n",
    " \n",
    "    # Initializer / Instance Attributes\n",
    "    def __init__(self, name, age, color, sound):\n",
    "        self.name = name\n",
    "        self.age = age\n",
    "        self.color = color\n",
    "        self.sound = sound\n",
    " \n",
    "    # instance method\n",
    "    def description(self):\n",
    "        return \"{} is {} years old\".format(self.name, self.age)\n",
    " \n",
    "    # instance method\n",
    "    def speak(self):\n",
    "        return \"{} says {}\".format(self.name, self.sound)\n",
    " \n",
    "# Instantiate the Dog object\n",
    "mikey = Dog(\"Mikey\", 6, \"brown\", \"Gruff Gruff\")\n",
    " \n",
    "# call our instance methods\n",
    "print(mikey.description())\n",
    "print(mikey.speak())\n",
    "\n",
    "kara = Dog(\"Karabas\", 5, \"black\", \"Hav Hav\")\n",
    "\n",
    "print(kara.description())\n",
    "print(kara.speak())\n"
   ]
  },
  {
   "cell_type": "code",
   "execution_count": null,
   "metadata": {},
   "outputs": [],
   "source": [
    "# Assignment: Use the Dog class from the previous lecture and add two subclasses; RussellTerrier and Bulldog \n",
    "# with a attribute speed (fast, slow) function run() printing how fast the dog runs as follows: \n",
    "# Jim runs slowly\n",
    "# Also change the description function to print as follows: \n",
    "# Jim is 12 years old and yellow\n",
    "# Also check whether dogs of different breed belogs to the same class or not"
   ]
  },
  {
   "cell_type": "code",
   "execution_count": 16,
   "metadata": {},
   "outputs": [
    {
     "data": {
      "text/plain": [
       "False"
      ]
     },
     "execution_count": 16,
     "metadata": {},
     "output_type": "execute_result"
    }
   ],
   "source": [
    "class Dog():\n",
    " \n",
    "    # Class Attribute\n",
    "    species = 'mammal'\n",
    " \n",
    "    # Initializer / Instance Attributes\n",
    "    def __init__(self, name, age, color, sound):\n",
    "        self.name = name\n",
    "        self.age = age\n",
    "        self.color = color\n",
    "        self.sound = sound\n",
    " \n",
    "    # instance method\n",
    "    def description(self):\n",
    "        return \"{} is {} years old\".format(self.name, self.age)\n",
    " \n",
    "    # instance method\n",
    "    def speak(self):\n",
    "        return \"{} says {}\".format(self.name, self.sound)\n",
    " \n",
    " \n",
    "# Child class (inherits from Dog() class)\n",
    "class RussellTerrier(Dog):\n",
    "    def __init__(self, name, age, color, sound, speed):\n",
    "        Dog.__init__(self, name, age, color, sound)\n",
    "        self.speed = speed\n",
    "    def description(self):\n",
    "        return \"{} is {} years old and {}\".format(self.name, self.age, self.color)\n",
    "    def run(self):\n",
    "        return \"{} runs {}\".format(self.name, self.speed)\n",
    " \n",
    " \n",
    "# Child class (inherits from Dog() class)\n",
    "class Bulldog(Dog):\n",
    "    def __init__(self, name, age, color, sound, speed):\n",
    "        Dog.__init__(self, name, age, color, sound)\n",
    "        self.speed = speed\n",
    "    def description(self):\n",
    "        return \"{} is {} years old and {}\".format(self.name, self.age, self.color)\n",
    "    def run(self):\n",
    "        return \"{} runs {}\".format(self.name, self.speed)\n",
    " \n",
    " \n",
    " \n",
    "lassie = RussellTerrier(\"Lassie\", 4, \"lbrown\", \"bark\", \"fast\")\n",
    "bully = Bulldog(\"Bully\", 8, \"black\", \"Hav\", \"normal\")\n",
    "jim = Bulldog(\"Bull\", 12, \"yellow\", \"Hav\", \"slowly\")\n",
    " \n",
    "type(jim) == type(lassie)\n"
   ]
  },
  {
   "cell_type": "code",
   "execution_count": 17,
   "metadata": {},
   "outputs": [
    {
     "data": {
      "text/plain": [
       "True"
      ]
     },
     "execution_count": 17,
     "metadata": {},
     "output_type": "execute_result"
    }
   ],
   "source": [
    "type(jim) == type(bully)"
   ]
  },
  {
   "cell_type": "code",
   "execution_count": null,
   "metadata": {},
   "outputs": [],
   "source": [
    "# Define a class named Shape and its subclass Square. The shape class describes the shape current position on the \n",
    "# coordinate space. \n",
    "\n",
    "# The Square class has an init function which takes a length as argument. Both classes have a area function \n",
    "# which can print the area of the shape where Shape's area is 0 by default. \n",
    "# Hints:To override a method in super class, we can define a method with the same name in the super class."
   ]
  },
  {
   "cell_type": "code",
   "execution_count": 19,
   "metadata": {},
   "outputs": [
    {
     "name": "stdout",
     "output_type": "stream",
     "text": [
      "169\n"
     ]
    }
   ],
   "source": [
    "class Shape(object):\n",
    "    def __init__(self, XCoor, YCoor):\n",
    "        self.XCoor = XCoor\n",
    "        self.YCoor = YCoor\n",
    "        \n",
    "    def area(self):\n",
    "        return 0\n",
    " \n",
    "class Square(Shape):\n",
    "    def __init__(self, XCoor, YCoor, length):\n",
    "        Shape.__init__(self, XCoor, YCoor)\n",
    "        self.length = length\n",
    " \n",
    "    def area(self):\n",
    "        return self.length*self.length\n",
    " \n",
    "aSquare= Square(0, 0, 13)\n",
    "print (aSquare.area())\n"
   ]
  },
  {
   "cell_type": "code",
   "execution_count": null,
   "metadata": {},
   "outputs": [],
   "source": [
    "# Define a class named Rectangle which can be constructed by a length and width. The Rectangle class has a \n",
    "# method which can compute the area. \n",
    "# Hints:Use def methodName(self) to define a method.\n"
   ]
  },
  {
   "cell_type": "code",
   "execution_count": 20,
   "metadata": {},
   "outputs": [
    {
     "name": "stdout",
     "output_type": "stream",
     "text": [
      "20\n"
     ]
    }
   ],
   "source": [
    "class Rectangle(object):\n",
    "    def __init__(self, length, width):\n",
    "        self.length = length\n",
    "        self.width  = width\n",
    " \n",
    "    def area(self):\n",
    "        return self.length*self.width\n",
    "               \n",
    "aRectangle = Rectangle(2,10)\n",
    "print (aRectangle.area())\n"
   ]
  },
  {
   "cell_type": "code",
   "execution_count": null,
   "metadata": {},
   "outputs": [],
   "source": []
  },
  {
   "cell_type": "code",
   "execution_count": null,
   "metadata": {},
   "outputs": [],
   "source": []
  }
 ],
 "metadata": {
  "kernelspec": {
   "display_name": "Python 3 (ipykernel)",
   "language": "python",
   "name": "python3"
  },
  "language_info": {
   "codemirror_mode": {
    "name": "ipython",
    "version": 3
   },
   "file_extension": ".py",
   "mimetype": "text/x-python",
   "name": "python",
   "nbconvert_exporter": "python",
   "pygments_lexer": "ipython3",
   "version": "3.9.12"
  }
 },
 "nbformat": 4,
 "nbformat_minor": 1
}
