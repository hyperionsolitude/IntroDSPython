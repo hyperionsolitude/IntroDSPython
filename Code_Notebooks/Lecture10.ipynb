{
 "cells": [
  {
   "cell_type": "code",
   "execution_count": 7,
   "metadata": {},
   "outputs": [
    {
     "name": "stdout",
     "output_type": "stream",
     "text": [
      "t = 0.0 s,\n"
     ]
    }
   ],
   "source": [
    "import time\n",
    "\n",
    "def c_to_f(c):\n",
    "    return c*9/5 + 32\n",
    "\n",
    "t0 = time.time()\n",
    "\n",
    "c_to_f(35000000000000)\n",
    "\n",
    "t1 = time.time() - t0\n",
    "\n",
    "print(\"t =\", t1, \"s,\")"
   ]
  },
  {
   "cell_type": "code",
   "execution_count": 3,
   "metadata": {},
   "outputs": [
    {
     "ename": "KeyboardInterrupt",
     "evalue": "",
     "output_type": "error",
     "traceback": [
      "\u001b[1;31m---------------------------------------------------------------------------\u001b[0m",
      "\u001b[1;31mKeyboardInterrupt\u001b[0m                         Traceback (most recent call last)",
      "Input \u001b[1;32mIn [3]\u001b[0m, in \u001b[0;36m<cell line: 3>\u001b[1;34m()\u001b[0m\n\u001b[0;32m      1\u001b[0m t0 \u001b[38;5;241m=\u001b[39m time\u001b[38;5;241m.\u001b[39mtime()\n\u001b[0;32m      3\u001b[0m \u001b[38;5;28;01mfor\u001b[39;00m i \u001b[38;5;129;01min\u001b[39;00m \u001b[38;5;28mrange\u001b[39m(\u001b[38;5;241m100000000\u001b[39m):\n\u001b[1;32m----> 4\u001b[0m     \u001b[43mc_to_f\u001b[49m(i)\n\u001b[0;32m      6\u001b[0m t1 \u001b[38;5;241m=\u001b[39m time\u001b[38;5;241m.\u001b[39mtime() \u001b[38;5;241m-\u001b[39m t0\n\u001b[0;32m      8\u001b[0m \u001b[38;5;28mprint\u001b[39m(\u001b[38;5;124m\"\u001b[39m\u001b[38;5;124mt =\u001b[39m\u001b[38;5;124m\"\u001b[39m, t1, \u001b[38;5;124m\"\u001b[39m\u001b[38;5;124ms,\u001b[39m\u001b[38;5;124m\"\u001b[39m)\n",
      "\u001b[1;31mKeyboardInterrupt\u001b[0m: "
     ]
    }
   ],
   "source": [
    "t0 = time.time()\n",
    "\n",
    "for i in range(100000000):\n",
    "    c_to_f(i)\n",
    "\n",
    "t1 = time.time() - t0\n",
    "\n",
    "print(\"t =\", t1, \"s,\")"
   ]
  },
  {
   "cell_type": "code",
   "execution_count": 8,
   "metadata": {},
   "outputs": [
    {
     "name": "stdout",
     "output_type": "stream",
     "text": [
      "t = 2.3929853439331055 s,\n"
     ]
    }
   ],
   "source": [
    "t0 = time.time()\n",
    "\n",
    "for i in range(10_000_000):\n",
    "    c_to_f(i)\n",
    "\n",
    "t1 = time.time() - t0\n",
    "\n",
    "print(\"t =\", t1, \"s,\")"
   ]
  },
  {
   "cell_type": "code",
   "execution_count": 9,
   "metadata": {},
   "outputs": [
    {
     "name": "stdout",
     "output_type": "stream",
     "text": [
      "t = 2.9501545429229736 s,\n"
     ]
    }
   ],
   "source": [
    "def newf(c):\n",
    "    if c>500000:\n",
    "        t = c*9/5 + 32\n",
    "    else: \n",
    "        if c>750000:\n",
    "            t = c*9/5 + 20\n",
    "        else: \n",
    "            t = c*9/5 + 10\n",
    "    return t\n",
    "\n",
    "t0 = time.time()\n",
    "\n",
    "for i in range(10_000_000):\n",
    "    newf(i)\n",
    "\n",
    "t1 = time.time() - t0\n",
    "\n",
    "print(\"t =\", t1, \"s,\")"
   ]
  },
  {
   "cell_type": "code",
   "execution_count": 10,
   "metadata": {},
   "outputs": [
    {
     "name": "stdout",
     "output_type": "stream",
     "text": [
      "t = 4.2051074504852295 s,\n"
     ]
    }
   ],
   "source": [
    "def newf(c):\n",
    "    if c>500000:\n",
    "        t = c**2\n",
    "    else: \n",
    "        if c>750000:\n",
    "            t = c**3\n",
    "        else: \n",
    "            t = c**2.5\n",
    "    return t\n",
    "\n",
    "t0 = time.time()\n",
    "\n",
    "for i in range(10000000):\n",
    "    newf(i)\n",
    "\n",
    "t1 = time.time() - t0\n",
    "\n",
    "print(\"t =\", t1, \"s,\")"
   ]
  },
  {
   "cell_type": "code",
   "execution_count": 14,
   "metadata": {},
   "outputs": [
    {
     "name": "stdout",
     "output_type": "stream",
     "text": [
      "t = 10.82373332977295 s,\n"
     ]
    }
   ],
   "source": [
    "def newf(c):\n",
    "    t  = False \n",
    "    if c%2==0:\n",
    "        if c%3==0:\n",
    "            if c%5==0:\n",
    "                if c%7==0:\n",
    "                    if c%11==0:\n",
    "                        if c%13==0:\n",
    "                            if c%17==0:\n",
    "                                if c%19==0:\n",
    "                                    if c%23==0:\n",
    "                                        if c%29==0:\n",
    "                                            if c%31==0:\n",
    "                                                if c%37==0:\n",
    "                                                    t: True\n",
    "    return t\n",
    "\n",
    "t0 = time.time()\n",
    "\n",
    "for i in range(50_000_000):\n",
    "    newf(i)\n",
    "\n",
    "t1 = time.time() - t0\n",
    "\n",
    "print(\"t =\", t1, \"s,\")"
   ]
  },
  {
   "cell_type": "code",
   "execution_count": 16,
   "metadata": {},
   "outputs": [
    {
     "name": "stdout",
     "output_type": "stream",
     "text": [
      "t = 9.066723585128784 s,\n"
     ]
    }
   ],
   "source": [
    "def newf(c):\n",
    "    t  = False \n",
    "    if c%37==0:\n",
    "        if c%31==0:\n",
    "            if c%29==0:\n",
    "                if c%23==0:\n",
    "                    if c%19==0:\n",
    "                        if c%17==0:\n",
    "                            if c%13==0:\n",
    "                                if c%11==0:\n",
    "                                    if c%7==0:\n",
    "                                        if c%5==0:\n",
    "                                            if c%3==0:\n",
    "                                                if c%2==0:\n",
    "                                                    t: True\n",
    "    return t\n",
    "\n",
    "t0 = time.time()\n",
    "\n",
    "for i in range(50000000):\n",
    "    newf(i)\n",
    "\n",
    "t1 = time.time() - t0\n",
    "\n",
    "print(\"t =\", t1, \"s,\")"
   ]
  },
  {
   "cell_type": "code",
   "execution_count": 23,
   "metadata": {},
   "outputs": [],
   "source": [
    "def linear_search(L, e):\n",
    "    found = False\n",
    "    for i in range(len(L)):\n",
    "        print(\"Now checking\", L[i])\n",
    "        if e == L[i]:\n",
    "            found = True\n",
    "            break\n",
    "        print(\"Found\", found)\n",
    "    return found\n",
    "\n"
   ]
  },
  {
   "cell_type": "code",
   "execution_count": 30,
   "metadata": {},
   "outputs": [
    {
     "name": "stdout",
     "output_type": "stream",
     "text": [
      "Now checking 1\n",
      "Found False\n",
      "Now checking 3\n",
      "Found False\n",
      "Now checking 4\n",
      "Found False\n",
      "Now checking 5\n",
      "Found False\n",
      "Now checking 9\n",
      "Found False\n",
      "Now checking 18\n",
      "Found False\n",
      "Now checking 27\n",
      "Found False\n"
     ]
    },
    {
     "data": {
      "text/plain": [
       "False"
      ]
     },
     "execution_count": 30,
     "metadata": {},
     "output_type": "execute_result"
    }
   ],
   "source": [
    "testList = [1, 3, 4, 5, 9, 18, 27]\n",
    "\n",
    "linear_search(testList,2)"
   ]
  },
  {
   "cell_type": "code",
   "execution_count": 29,
   "metadata": {},
   "outputs": [
    {
     "name": "stdout",
     "output_type": "stream",
     "text": [
      "1\n",
      "3\n"
     ]
    },
    {
     "data": {
      "text/plain": [
       "False"
      ]
     },
     "execution_count": 29,
     "metadata": {},
     "output_type": "execute_result"
    }
   ],
   "source": [
    "def search(L, e):\n",
    "    for i in range(len(L)):\n",
    "        print(L[i])\n",
    "        if L[i] == e:\n",
    "            return True\n",
    "        if L[i] > e:\n",
    "            return False\n",
    "    return False\n",
    "\n",
    "search(testList,2)"
   ]
  },
  {
   "cell_type": "code",
   "execution_count": 33,
   "metadata": {},
   "outputs": [],
   "source": [
    "def isSubset(L1, L2):\n",
    "    for e1 in L1:\n",
    "        print(e1)\n",
    "        matched = False\n",
    "        for e2 in L2:\n",
    "            print(\" \", e2)\n",
    "            if e1 == e2:\n",
    "                matched = True\n",
    "                break\n",
    "        if not matched:\n",
    "            return False\n",
    "    return True\n",
    "\n",
    "\n"
   ]
  },
  {
   "cell_type": "code",
   "execution_count": 34,
   "metadata": {},
   "outputs": [
    {
     "name": "stdout",
     "output_type": "stream",
     "text": [
      "1\n",
      "  1\n",
      "2\n",
      "  1\n",
      "  5\n",
      "  3\n"
     ]
    },
    {
     "data": {
      "text/plain": [
       "False"
      ]
     },
     "execution_count": 34,
     "metadata": {},
     "output_type": "execute_result"
    }
   ],
   "source": [
    "testSet = [1, 2, 3, 4, 5]\n",
    "testSet1 = [1, 5, 3]\n",
    "testSet2 = [1, 6]\n",
    "\n",
    "isSubset(testSet, testSet1)"
   ]
  },
  {
   "cell_type": "code",
   "execution_count": 35,
   "metadata": {},
   "outputs": [
    {
     "name": "stdout",
     "output_type": "stream",
     "text": [
      "1\n",
      "  1\n",
      "5\n",
      "  1\n",
      "  2\n",
      "  3\n",
      "  4\n",
      "  5\n",
      "3\n",
      "  1\n",
      "  2\n",
      "  3\n"
     ]
    },
    {
     "data": {
      "text/plain": [
       "True"
      ]
     },
     "execution_count": 35,
     "metadata": {},
     "output_type": "execute_result"
    }
   ],
   "source": [
    "isSubset(testSet1, testSet)"
   ]
  },
  {
   "cell_type": "code",
   "execution_count": 36,
   "metadata": {},
   "outputs": [
    {
     "name": "stdout",
     "output_type": "stream",
     "text": [
      "1\n",
      "  1\n",
      "6\n",
      "  1\n",
      "  2\n",
      "  3\n",
      "  4\n",
      "  5\n"
     ]
    },
    {
     "data": {
      "text/plain": [
       "False"
      ]
     },
     "execution_count": 36,
     "metadata": {},
     "output_type": "execute_result"
    }
   ],
   "source": [
    "isSubset(testSet2, testSet)"
   ]
  },
  {
   "cell_type": "code",
   "execution_count": 72,
   "metadata": {},
   "outputs": [],
   "source": [
    "def intersect(L1, L2):\n",
    "    tmp = []\n",
    "    for e1 in L1:\n",
    "        #print(e1)\n",
    "        for e2 in L2:\n",
    "            #print(\" \", e2)\n",
    "            if e1 == e2:\n",
    "                tmp.append(e1)\n",
    "                break\n",
    "                \n",
    "    #print(tmp)\n",
    "    res = []\n",
    "    for e in tmp:\n",
    "        if not(e in res):\n",
    "            res.append(e)\n",
    "    return res\n"
   ]
  },
  {
   "cell_type": "code",
   "execution_count": 43,
   "metadata": {},
   "outputs": [
    {
     "name": "stdout",
     "output_type": "stream",
     "text": [
      "1\n",
      "  1\n",
      "5\n",
      "  1\n",
      "  2\n",
      "  3\n",
      "  4\n",
      "  5\n",
      "3\n",
      "  1\n",
      "  2\n",
      "  3\n",
      "[1, 5, 3]\n"
     ]
    },
    {
     "data": {
      "text/plain": [
       "[1, 5, 3]"
      ]
     },
     "execution_count": 43,
     "metadata": {},
     "output_type": "execute_result"
    }
   ],
   "source": [
    "testSet = [1, 2, 3, 4, 5]\n",
    "testSet1 = [1, 5, 3]\n",
    "testSet2 = [1, 6]\n",
    "\n",
    "\n",
    "intersect(testSet1, testSet)"
   ]
  },
  {
   "cell_type": "code",
   "execution_count": null,
   "metadata": {},
   "outputs": [],
   "source": [
    "intersect(testSet2, testSet)"
   ]
  },
  {
   "cell_type": "code",
   "execution_count": 79,
   "metadata": {},
   "outputs": [],
   "source": [
    "import numpy as np\n",
    "\n",
    "np.random.seed(1923)\n",
    "\n",
    "List = np.random.randint(500, size=1000000)\n",
    "#print(List)"
   ]
  },
  {
   "cell_type": "code",
   "execution_count": 80,
   "metadata": {},
   "outputs": [],
   "source": [
    "List2 = np.random.randint(500, size=1000000)\n",
    "#print(List2)"
   ]
  },
  {
   "cell_type": "code",
   "execution_count": 81,
   "metadata": {},
   "outputs": [
    {
     "name": "stdout",
     "output_type": "stream",
     "text": [
      "t = 42.55958867073059 s,\n"
     ]
    }
   ],
   "source": [
    "t0 = time.time()\n",
    "\n",
    "intersect(List, List2)\n",
    "\n",
    "t1 = time.time() - t0\n",
    "\n",
    "print(\"t =\", t1, \"s,\")\n"
   ]
  },
  {
   "cell_type": "code",
   "execution_count": 64,
   "metadata": {},
   "outputs": [
    {
     "name": "stdout",
     "output_type": "stream",
     "text": [
      "t = 3.608114004135132 s,\n"
     ]
    }
   ],
   "source": [
    "print(\"t =\", t1, \"s,\")"
   ]
  },
  {
   "cell_type": "code",
   "execution_count": null,
   "metadata": {},
   "outputs": [],
   "source": []
  },
  {
   "cell_type": "code",
   "execution_count": null,
   "metadata": {},
   "outputs": [],
   "source": []
  },
  {
   "cell_type": "code",
   "execution_count": null,
   "metadata": {},
   "outputs": [],
   "source": []
  },
  {
   "cell_type": "code",
   "execution_count": null,
   "metadata": {},
   "outputs": [],
   "source": []
  }
 ],
 "metadata": {
  "kernelspec": {
   "display_name": "Python 3 (ipykernel)",
   "language": "python",
   "name": "python3"
  },
  "language_info": {
   "codemirror_mode": {
    "name": "ipython",
    "version": 3
   },
   "file_extension": ".py",
   "mimetype": "text/x-python",
   "name": "python",
   "nbconvert_exporter": "python",
   "pygments_lexer": "ipython3",
   "version": "3.9.12"
  }
 },
 "nbformat": 4,
 "nbformat_minor": 2
}
