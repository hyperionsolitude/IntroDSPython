{
 "cells": [
  {
   "cell_type": "code",
   "execution_count": 1,
   "metadata": {},
   "outputs": [
    {
     "name": "stdout",
     "output_type": "stream",
     "text": [
      "[17, 31, 32, 81, 96, 110, 113, 139, 194, 210, 227, 227, 231, 242, 279, 299, 341, 364, 366, 401, 429, 458, 459, 460, 517, 529, 535, 621, 631, 641, 655, 670, 697, 700, 709, 710, 728, 733, 827, 832, 837, 860, 883, 890, 910, 926, 933, 934, 944, 948, 1013, 1028, 1077, 1078, 1080, 1131, 1137, 1175, 1182, 1203, 1211, 1221, 1226, 1250, 1254, 1294, 1311, 1348, 1402, 1403, 1430, 1448, 1450, 1467, 1485, 1496, 1505, 1505, 1507, 1516, 1537, 1547, 1559, 1580, 1603, 1640, 1640, 1658, 1695, 1708, 1717, 1735, 1757, 1757, 1809, 1872, 1879, 1897, 1898, 1913]\n"
     ]
    }
   ],
   "source": [
    "import numpy as np\n",
    "\n",
    "np.random.seed(1907)\n",
    "\n",
    "List = np.random.randint(2000, size=100)\n",
    "List = sorted(List)\n",
    "print(List)"
   ]
  },
  {
   "cell_type": "code",
   "execution_count": 2,
   "metadata": {},
   "outputs": [
    {
     "name": "stdout",
     "output_type": "stream",
     "text": [
      "10000000\n"
     ]
    }
   ],
   "source": [
    "List2 = np.random.randint(200_000_000, size=10_000_000)\n",
    "List2 = sorted(List2)\n",
    "print(len(List2))"
   ]
  },
  {
   "cell_type": "code",
   "execution_count": 23,
   "metadata": {},
   "outputs": [
    {
     "name": "stdout",
     "output_type": "stream",
     "text": [
      "100000000\n"
     ]
    }
   ],
   "source": [
    "List3 = np.random.randint(200_000_000, size=100_000_000)\n",
    "List3 = sorted(List3)\n",
    "print(len(List3))"
   ]
  },
  {
   "cell_type": "code",
   "execution_count": 8,
   "metadata": {},
   "outputs": [],
   "source": [
    "import time"
   ]
  },
  {
   "cell_type": "code",
   "execution_count": 9,
   "metadata": {},
   "outputs": [],
   "source": [
    "def linear_search(L, e):\n",
    "    found = False\n",
    "    for i in range(len(L)):\n",
    "        #print(\"Now checking\", L[i])\n",
    "        if e == L[i]:\n",
    "            found = True\n",
    "            break\n",
    "        #print(\"Found\", found)\n",
    "    return found\n",
    "\n"
   ]
  },
  {
   "cell_type": "code",
   "execution_count": 12,
   "metadata": {},
   "outputs": [
    {
     "name": "stdout",
     "output_type": "stream",
     "text": [
      "t = 0.0 s,\n"
     ]
    }
   ],
   "source": [
    "t0 = time.time()\n",
    "linear_search(List,1545)\n",
    "t1 = time.time() - t0\n",
    "\n",
    "print(\"t =\", t1, \"s,\")"
   ]
  },
  {
   "cell_type": "code",
   "execution_count": 14,
   "metadata": {},
   "outputs": [
    {
     "name": "stdout",
     "output_type": "stream",
     "text": [
      "t = 3.702646017074585 s,\n"
     ]
    }
   ],
   "source": [
    "t0 = time.time()\n",
    "linear_search(List2,15_450_000)\n",
    "t1 = time.time() - t0\n",
    "\n",
    "print(\"t =\", t1, \"s,\")"
   ]
  },
  {
   "cell_type": "code",
   "execution_count": 40,
   "metadata": {},
   "outputs": [
    {
     "name": "stdout",
     "output_type": "stream",
     "text": [
      "t = 52.71926927566528 s,\n"
     ]
    }
   ],
   "source": [
    "t0 = time.time()\n",
    "linear_search(List3,150_450_000)\n",
    "t1 = time.time() - t0\n",
    "\n",
    "print(\"t =\", t1, \"s,\")"
   ]
  },
  {
   "cell_type": "code",
   "execution_count": 20,
   "metadata": {},
   "outputs": [],
   "source": [
    "def bisect_search1(L, e):\n",
    "    if L == []:\n",
    "        return False\n",
    "    elif len(L) == 1:\n",
    "        return L[0] == e\n",
    "    else:\n",
    "        #print(len(L))\n",
    "        half = len(L)//2\n",
    "        if L[half] > e:\n",
    "            return bisect_search1(L[:half], e)\n",
    "        else:\n",
    "            return bisect_search1(L[half:], e)"
   ]
  },
  {
   "cell_type": "code",
   "execution_count": 17,
   "metadata": {},
   "outputs": [
    {
     "name": "stdout",
     "output_type": "stream",
     "text": [
      "100\n",
      "50\n",
      "25\n",
      "12\n",
      "6\n",
      "3\n",
      "2\n",
      "False\n",
      "t = 0.0009586811065673828 s,\n"
     ]
    }
   ],
   "source": [
    "t0 = time.time()\n",
    "print(bisect_search1(List, 76)) \n",
    "t1 = time.time() - t0\n",
    "\n",
    "print(\"t =\", t1, \"s,\")"
   ]
  },
  {
   "cell_type": "code",
   "execution_count": 25,
   "metadata": {},
   "outputs": [
    {
     "name": "stdout",
     "output_type": "stream",
     "text": [
      "False\n",
      "t = 0.0009982585906982422 s,\n"
     ]
    }
   ],
   "source": [
    "t0 = time.time()\n",
    "print(bisect_search1(List, 1545)) \n",
    "t1 = time.time() - t0\n",
    "\n",
    "print(\"t =\", t1, \"s,\")"
   ]
  },
  {
   "cell_type": "code",
   "execution_count": 26,
   "metadata": {},
   "outputs": [
    {
     "name": "stdout",
     "output_type": "stream",
     "text": [
      "False\n",
      "t = 1.0876243114471436 s,\n"
     ]
    }
   ],
   "source": [
    "t0 = time.time()\n",
    "print(bisect_search1(List2, 6000)) \n",
    "t1 = time.time() - t0\n",
    "\n",
    "print(\"t =\", t1, \"s,\")"
   ]
  },
  {
   "cell_type": "code",
   "execution_count": 27,
   "metadata": {},
   "outputs": [
    {
     "name": "stdout",
     "output_type": "stream",
     "text": [
      "False\n",
      "t = 1.1023104190826416 s,\n"
     ]
    }
   ],
   "source": [
    "t0 = time.time()\n",
    "print(bisect_search1(List2, 15_450_000)) \n",
    "t1 = time.time() - t0\n",
    "\n",
    "print(\"t =\", t1, \"s,\")"
   ]
  },
  {
   "cell_type": "code",
   "execution_count": 41,
   "metadata": {},
   "outputs": [
    {
     "name": "stdout",
     "output_type": "stream",
     "text": [
      "False\n",
      "t = 12.270667314529419 s,\n"
     ]
    }
   ],
   "source": [
    "t0 = time.time()\n",
    "print(bisect_search1(List3, 150_450_000)) \n",
    "t1 = time.time() - t0\n",
    "\n",
    "print(\"t =\", t1, \"s,\")"
   ]
  },
  {
   "cell_type": "code",
   "execution_count": 34,
   "metadata": {},
   "outputs": [],
   "source": [
    "def bisect_search2(L, e):\n",
    "    def bisect_search_helper(L, e, low, high):\n",
    "        #print('low: ' + str(low) + '; high: ' + str(high))  #added to visualize\n",
    "        if high == low:\n",
    "            return L[low] == e\n",
    "        mid = (low + high)//2\n",
    "        if L[mid] == e:\n",
    "            return True\n",
    "        elif L[mid] > e:\n",
    "            if low == mid: #nothing left to search\n",
    "                return False\n",
    "            else:\n",
    "                return bisect_search_helper(L, e, low, mid - 1)\n",
    "        else:\n",
    "            return bisect_search_helper(L, e, mid + 1, high)\n",
    "    if len(L) == 0:\n",
    "        return False\n",
    "    else:\n",
    "        return bisect_search_helper(L, e, 0, len(L) - 1)\n"
   ]
  },
  {
   "cell_type": "code",
   "execution_count": 30,
   "metadata": {},
   "outputs": [],
   "source": [
    "testList = []\n",
    "for i in range(100):\n",
    "    testList.append(i)"
   ]
  },
  {
   "cell_type": "code",
   "execution_count": 32,
   "metadata": {},
   "outputs": [
    {
     "name": "stdout",
     "output_type": "stream",
     "text": [
      "low: 0; high: 99\n",
      "low: 50; high: 99\n",
      "low: 75; high: 99\n",
      "low: 75; high: 86\n",
      "low: 75; high: 79\n",
      "low: 75; high: 76\n",
      "low: 76; high: 76\n",
      "True\n"
     ]
    }
   ],
   "source": [
    "print(bisect_search2(testList, 76))"
   ]
  },
  {
   "cell_type": "code",
   "execution_count": 35,
   "metadata": {},
   "outputs": [
    {
     "name": "stdout",
     "output_type": "stream",
     "text": [
      "False\n",
      "t = 0.0 s,\n"
     ]
    }
   ],
   "source": [
    "t0 = time.time()\n",
    "print(bisect_search2(List, 1545)) \n",
    "t1 = time.time() - t0\n",
    "\n",
    "print(\"t =\", t1, \"s,\")"
   ]
  },
  {
   "cell_type": "code",
   "execution_count": 38,
   "metadata": {},
   "outputs": [
    {
     "name": "stdout",
     "output_type": "stream",
     "text": [
      "False\n",
      "t = 0.0010063648223876953 s,\n"
     ]
    }
   ],
   "source": [
    "t0 = time.time()\n",
    "print(bisect_search2(List2, 15_450_000)) \n",
    "t1 = time.time() - t0\n",
    "\n",
    "print(\"t =\", t1, \"s,\")"
   ]
  },
  {
   "cell_type": "code",
   "execution_count": 42,
   "metadata": {},
   "outputs": [
    {
     "name": "stdout",
     "output_type": "stream",
     "text": [
      "False\n",
      "t = 0.0010116100311279297 s,\n"
     ]
    }
   ],
   "source": [
    "t0 = time.time()\n",
    "print(bisect_search2(List3, 150_450_000)) \n",
    "t1 = time.time() - t0\n",
    "\n",
    "print(\"t =\", t1, \"s,\")"
   ]
  },
  {
   "cell_type": "code",
   "execution_count": 45,
   "metadata": {},
   "outputs": [],
   "source": [
    "def intToStr(i):\n",
    "    digits = '0123456789'\n",
    "    if i==0:\n",
    "        return '0'\n",
    "    result = ''\n",
    "    while i>0:\n",
    "        print(i%10, result)\n",
    "        result = digits[i%10]+result\n",
    "        i=i//10\n",
    "    return result"
   ]
  },
  {
   "cell_type": "code",
   "execution_count": 46,
   "metadata": {},
   "outputs": [
    {
     "name": "stdout",
     "output_type": "stream",
     "text": [
      "6 \n",
      "8 6\n",
      "6 86\n",
      "1 686\n"
     ]
    },
    {
     "data": {
      "text/plain": [
       "'1686'"
      ]
     },
     "execution_count": 46,
     "metadata": {},
     "output_type": "execute_result"
    }
   ],
   "source": [
    "result = intToStr(1686)\n",
    "result"
   ]
  },
  {
   "cell_type": "code",
   "execution_count": 47,
   "metadata": {},
   "outputs": [
    {
     "data": {
      "text/plain": [
       "str"
      ]
     },
     "execution_count": 47,
     "metadata": {},
     "output_type": "execute_result"
    }
   ],
   "source": [
    "type(result)"
   ]
  },
  {
   "cell_type": "code",
   "execution_count": 48,
   "metadata": {},
   "outputs": [],
   "source": [
    "def genSubsets(L):\n",
    "    res = []\n",
    "    if len(L) == 0:\n",
    "        return [[]] #list of empty list\n",
    "    smaller = genSubsets(L[:-1]) # all subsets without last element\n",
    "    extra = L[-1:] # create a list of just last element\n",
    "    new = []\n",
    "    for small in smaller:\n",
    "        new.append(small+extra)  # for all smaller solutions, add one with last element\n",
    "    return smaller+new  # combine those with last element and those without\n",
    "\n"
   ]
  },
  {
   "cell_type": "code",
   "execution_count": 50,
   "metadata": {
    "scrolled": true
   },
   "outputs": [
    {
     "name": "stdout",
     "output_type": "stream",
     "text": [
      "[[], [1], [2], [1, 2], [3], [1, 3], [2, 3], [1, 2, 3], [4], [1, 4], [2, 4], [1, 2, 4], [3, 4], [1, 3, 4], [2, 3, 4], [1, 2, 3, 4]]\n",
      "t = 0.0010313987731933594 s,\n"
     ]
    }
   ],
   "source": [
    "t0 = time.time()\n",
    "testSet = [1,2,3,4]\n",
    "print(genSubsets(testSet))\n",
    "t1 = time.time() - t0\n",
    "\n",
    "print(\"t =\", t1, \"s,\")\n"
   ]
  },
  {
   "cell_type": "code",
   "execution_count": 55,
   "metadata": {},
   "outputs": [
    {
     "name": "stdout",
     "output_type": "stream",
     "text": [
      "1024\n",
      "t = 0.001999378204345703 s,\n"
     ]
    }
   ],
   "source": [
    "testSet = []\n",
    "for i in range(10):\n",
    "    testSet.append(i)\n",
    "\n",
    "t0 = time.time()    \n",
    "subsets = genSubsets(testSet)\n",
    "print(len(subsets))\n",
    "t1 = time.time() - t0\n",
    "\n",
    "print(\"t =\", t1, \"s,\")"
   ]
  },
  {
   "cell_type": "code",
   "execution_count": 60,
   "metadata": {},
   "outputs": [
    {
     "name": "stdout",
     "output_type": "stream",
     "text": [
      "262144\n",
      "t = 10.584253549575806 s,\n"
     ]
    }
   ],
   "source": [
    "testSet = []\n",
    "for i in range(18):\n",
    "    testSet.append(i)\n",
    "\n",
    "t0 = time.time()    \n",
    "subsets = genSubsets(testSet)\n",
    "print(len(subsets))\n",
    "t1 = time.time() - t0\n",
    "\n",
    "print(\"t =\", t1, \"s,\")"
   ]
  },
  {
   "cell_type": "code",
   "execution_count": 58,
   "metadata": {},
   "outputs": [
    {
     "name": "stdout",
     "output_type": "stream",
     "text": [
      "1048576\n",
      "t = 64.08570003509521 s,\n"
     ]
    }
   ],
   "source": [
    "testSet = []\n",
    "for i in range(20):\n",
    "    testSet.append(i)\n",
    "\n",
    "t0 = time.time()    \n",
    "subsets = genSubsets(testSet)\n",
    "print(len(subsets))\n",
    "t1 = time.time() - t0\n",
    "\n",
    "print(\"t =\", t1, \"s,\")"
   ]
  },
  {
   "cell_type": "code",
   "execution_count": 63,
   "metadata": {},
   "outputs": [
    {
     "data": {
      "text/plain": [
       "1844674.4073709552"
      ]
     },
     "execution_count": 63,
     "metadata": {},
     "output_type": "execute_result"
    }
   ],
   "source": [
    "2**64/100/100/1000/1000000"
   ]
  },
  {
   "cell_type": "code",
   "execution_count": null,
   "metadata": {},
   "outputs": [],
   "source": [
    "testSet = []\n",
    "for i in range(30):\n",
    "    testSet.append(i)\n",
    "t0 = time.time()    \n",
    "subsets = genSubsets(testSet)\n",
    "print(len(subsets))\n",
    "t1 = time.time() - t0\n",
    "\n",
    "print(\"t =\", t1, \"s,\")"
   ]
  },
  {
   "cell_type": "code",
   "execution_count": null,
   "metadata": {},
   "outputs": [],
   "source": []
  },
  {
   "cell_type": "code",
   "execution_count": null,
   "metadata": {},
   "outputs": [],
   "source": []
  },
  {
   "cell_type": "code",
   "execution_count": null,
   "metadata": {},
   "outputs": [],
   "source": []
  },
  {
   "cell_type": "code",
   "execution_count": null,
   "metadata": {},
   "outputs": [],
   "source": []
  },
  {
   "cell_type": "code",
   "execution_count": null,
   "metadata": {},
   "outputs": [],
   "source": []
  },
  {
   "cell_type": "code",
   "execution_count": null,
   "metadata": {},
   "outputs": [],
   "source": []
  },
  {
   "cell_type": "code",
   "execution_count": null,
   "metadata": {},
   "outputs": [],
   "source": []
  }
 ],
 "metadata": {
  "kernelspec": {
   "display_name": "Python 3 (ipykernel)",
   "language": "python",
   "name": "python3"
  },
  "language_info": {
   "codemirror_mode": {
    "name": "ipython",
    "version": 3
   },
   "file_extension": ".py",
   "mimetype": "text/x-python",
   "name": "python",
   "nbconvert_exporter": "python",
   "pygments_lexer": "ipython3",
   "version": "3.9.12"
  }
 },
 "nbformat": 4,
 "nbformat_minor": 2
}
