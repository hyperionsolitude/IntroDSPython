{
 "cells": [
  {
   "cell_type": "code",
   "execution_count": 1,
   "metadata": {},
   "outputs": [
    {
     "ename": "IndexError",
     "evalue": "list index out of range",
     "output_type": "error",
     "traceback": [
      "\u001b[1;31m---------------------------------------------------------------------------\u001b[0m",
      "\u001b[1;31mIndexError\u001b[0m                                Traceback (most recent call last)",
      "Input \u001b[1;32mIn [1]\u001b[0m, in \u001b[0;36m<cell line: 2>\u001b[1;34m()\u001b[0m\n\u001b[0;32m      1\u001b[0m test \u001b[38;5;241m=\u001b[39m [\u001b[38;5;241m1\u001b[39m,\u001b[38;5;241m2\u001b[39m,\u001b[38;5;241m3\u001b[39m]\n\u001b[1;32m----> 2\u001b[0m \u001b[43mtest\u001b[49m\u001b[43m[\u001b[49m\u001b[38;5;241;43m4\u001b[39;49m\u001b[43m]\u001b[49m\n",
      "\u001b[1;31mIndexError\u001b[0m: list index out of range"
     ]
    }
   ],
   "source": [
    "test = [1,2,3]\n",
    "test[4]"
   ]
  },
  {
   "cell_type": "code",
   "execution_count": 2,
   "metadata": {},
   "outputs": [
    {
     "ename": "TypeError",
     "evalue": "int() argument must be a string, a bytes-like object or a number, not 'list'",
     "output_type": "error",
     "traceback": [
      "\u001b[1;31m---------------------------------------------------------------------------\u001b[0m",
      "\u001b[1;31mTypeError\u001b[0m                                 Traceback (most recent call last)",
      "Input \u001b[1;32mIn [2]\u001b[0m, in \u001b[0;36m<cell line: 1>\u001b[1;34m()\u001b[0m\n\u001b[1;32m----> 1\u001b[0m \u001b[38;5;28;43mint\u001b[39;49m\u001b[43m(\u001b[49m\u001b[43mtest\u001b[49m\u001b[43m)\u001b[49m\n",
      "\u001b[1;31mTypeError\u001b[0m: int() argument must be a string, a bytes-like object or a number, not 'list'"
     ]
    }
   ],
   "source": [
    "int(test)"
   ]
  },
  {
   "cell_type": "code",
   "execution_count": 3,
   "metadata": {},
   "outputs": [
    {
     "ename": "NameError",
     "evalue": "name 'a' is not defined",
     "output_type": "error",
     "traceback": [
      "\u001b[1;31m---------------------------------------------------------------------------\u001b[0m",
      "\u001b[1;31mNameError\u001b[0m                                 Traceback (most recent call last)",
      "Input \u001b[1;32mIn [3]\u001b[0m, in \u001b[0;36m<cell line: 1>\u001b[1;34m()\u001b[0m\n\u001b[1;32m----> 1\u001b[0m \u001b[43ma\u001b[49m\n",
      "\u001b[1;31mNameError\u001b[0m: name 'a' is not defined"
     ]
    }
   ],
   "source": [
    "a"
   ]
  },
  {
   "cell_type": "code",
   "execution_count": 4,
   "metadata": {},
   "outputs": [
    {
     "ename": "TypeError",
     "evalue": "unsupported operand type(s) for /: 'str' and 'int'",
     "output_type": "error",
     "traceback": [
      "\u001b[1;31m---------------------------------------------------------------------------\u001b[0m",
      "\u001b[1;31mTypeError\u001b[0m                                 Traceback (most recent call last)",
      "Input \u001b[1;32mIn [4]\u001b[0m, in \u001b[0;36m<cell line: 1>\u001b[1;34m()\u001b[0m\n\u001b[1;32m----> 1\u001b[0m \u001b[38;5;124;43m'\u001b[39;49m\u001b[38;5;124;43m3\u001b[39;49m\u001b[38;5;124;43m'\u001b[39;49m\u001b[38;5;241;43m/\u001b[39;49m\u001b[38;5;241;43m4\u001b[39;49m\n",
      "\u001b[1;31mTypeError\u001b[0m: unsupported operand type(s) for /: 'str' and 'int'"
     ]
    }
   ],
   "source": [
    "'3'/4"
   ]
  },
  {
   "cell_type": "code",
   "execution_count": 5,
   "metadata": {},
   "outputs": [
    {
     "ename": "SyntaxError",
     "evalue": "invalid syntax (2447915293.py, line 2)",
     "output_type": "error",
     "traceback": [
      "\u001b[1;36m  Input \u001b[1;32mIn [5]\u001b[1;36m\u001b[0m\n\u001b[1;33m    print(a)\u001b[0m\n\u001b[1;37m    ^\u001b[0m\n\u001b[1;31mSyntaxError\u001b[0m\u001b[1;31m:\u001b[0m invalid syntax\n"
     ]
    }
   ],
   "source": [
    "a= len([1,2,3]\n",
    "print(a)"
   ]
  },
  {
   "cell_type": "code",
   "execution_count": 6,
   "metadata": {},
   "outputs": [
    {
     "ename": "AttributeError",
     "evalue": "'int' object has no attribute 'append'",
     "output_type": "error",
     "traceback": [
      "\u001b[1;31m---------------------------------------------------------------------------\u001b[0m",
      "\u001b[1;31mAttributeError\u001b[0m                            Traceback (most recent call last)",
      "Input \u001b[1;32mIn [6]\u001b[0m, in \u001b[0;36m<cell line: 2>\u001b[1;34m()\u001b[0m\n\u001b[0;32m      1\u001b[0m anInt \u001b[38;5;241m=\u001b[39m \u001b[38;5;241m8\u001b[39m\n\u001b[1;32m----> 2\u001b[0m \u001b[43manInt\u001b[49m\u001b[38;5;241;43m.\u001b[39;49m\u001b[43mappend\u001b[49m(\u001b[38;5;241m4\u001b[39m)\n",
      "\u001b[1;31mAttributeError\u001b[0m: 'int' object has no attribute 'append'"
     ]
    }
   ],
   "source": [
    "anInt = 8\n",
    "anInt.append(4)"
   ]
  },
  {
   "cell_type": "code",
   "execution_count": 7,
   "metadata": {},
   "outputs": [
    {
     "ename": "ValueError",
     "evalue": "invalid literal for int() with base 10: 'Orsan'",
     "output_type": "error",
     "traceback": [
      "\u001b[1;31m---------------------------------------------------------------------------\u001b[0m",
      "\u001b[1;31mValueError\u001b[0m                                Traceback (most recent call last)",
      "Input \u001b[1;32mIn [7]\u001b[0m, in \u001b[0;36m<cell line: 1>\u001b[1;34m()\u001b[0m\n\u001b[1;32m----> 1\u001b[0m \u001b[38;5;28;43mint\u001b[39;49m\u001b[43m(\u001b[49m\u001b[38;5;124;43m\"\u001b[39;49m\u001b[38;5;124;43mOrsan\u001b[39;49m\u001b[38;5;124;43m\"\u001b[39;49m\u001b[43m)\u001b[49m\n",
      "\u001b[1;31mValueError\u001b[0m: invalid literal for int() with base 10: 'Orsan'"
     ]
    }
   ],
   "source": [
    "int(\"Orsan\")"
   ]
  },
  {
   "cell_type": "code",
   "execution_count": 8,
   "metadata": {},
   "outputs": [
    {
     "ename": "FileNotFoundError",
     "evalue": "[Errno 2] No such file or directory: 'myfile.txt'",
     "output_type": "error",
     "traceback": [
      "\u001b[1;31m---------------------------------------------------------------------------\u001b[0m",
      "\u001b[1;31mFileNotFoundError\u001b[0m                         Traceback (most recent call last)",
      "Input \u001b[1;32mIn [8]\u001b[0m, in \u001b[0;36m<cell line: 1>\u001b[1;34m()\u001b[0m\n\u001b[1;32m----> 1\u001b[0m f \u001b[38;5;241m=\u001b[39m \u001b[38;5;28;43mopen\u001b[39;49m\u001b[43m(\u001b[49m\u001b[38;5;124;43m'\u001b[39;49m\u001b[38;5;124;43mmyfile.txt\u001b[39;49m\u001b[38;5;124;43m'\u001b[39;49m\u001b[43m)\u001b[49m\n\u001b[0;32m      2\u001b[0m s \u001b[38;5;241m=\u001b[39m f\u001b[38;5;241m.\u001b[39mreadline()\n\u001b[0;32m      3\u001b[0m i \u001b[38;5;241m=\u001b[39m \u001b[38;5;28mint\u001b[39m(s\u001b[38;5;241m.\u001b[39mstrip())\n",
      "\u001b[1;31mFileNotFoundError\u001b[0m: [Errno 2] No such file or directory: 'myfile.txt'"
     ]
    }
   ],
   "source": [
    "f = open('myfile.txt')\n",
    "s = f.readline()\n",
    "i = int(s.strip())"
   ]
  },
  {
   "cell_type": "code",
   "execution_count": 10,
   "metadata": {},
   "outputs": [
    {
     "name": "stdout",
     "output_type": "stream",
     "text": [
      "I/O error(2): No such file or directory\n",
      "deneme\n"
     ]
    }
   ],
   "source": [
    "try:\n",
    "    f = open('myfile.txt')\n",
    "    s = f.readline()\n",
    "    i = int(s.strip())\n",
    "except IOError as e:\n",
    "    print (\"I/O error({0}): {1}\".format(e.errno, e.strerror))\n",
    "    \n",
    "print(\"deneme\")"
   ]
  },
  {
   "cell_type": "code",
   "execution_count": 12,
   "metadata": {},
   "outputs": [
    {
     "name": "stdout",
     "output_type": "stream",
     "text": [
      "Please enter a number: 52\n",
      "Please enter a number: 45\n",
      "Please enter a number: 32\n",
      "Please enter a number: orsan\n",
      "Oops!  That was no valid number.  Try again...\n",
      "Please enter a number: 23\n",
      "Please enter a number: 21\n",
      "Please enter a number: 41\n",
      "Please enter a number: ooo\n",
      "Oops!  That was no valid number.  Try again...\n"
     ]
    },
    {
     "ename": "KeyboardInterrupt",
     "evalue": "Interrupted by user",
     "output_type": "error",
     "traceback": [
      "\u001b[1;31m---------------------------------------------------------------------------\u001b[0m",
      "\u001b[1;31mKeyboardInterrupt\u001b[0m                         Traceback (most recent call last)",
      "Input \u001b[1;32mIn [12]\u001b[0m, in \u001b[0;36m<cell line: 2>\u001b[1;34m()\u001b[0m\n\u001b[0;32m      1\u001b[0m \u001b[38;5;28;01mwhile\u001b[39;00m \u001b[38;5;28;01mTrue\u001b[39;00m:\n\u001b[0;32m      2\u001b[0m     \u001b[38;5;28;01mtry\u001b[39;00m:\n\u001b[1;32m----> 3\u001b[0m         x \u001b[38;5;241m=\u001b[39m \u001b[38;5;28mint\u001b[39m(\u001b[38;5;28;43minput\u001b[39;49m\u001b[43m(\u001b[49m\u001b[38;5;124;43m\"\u001b[39;49m\u001b[38;5;124;43mPlease enter a number: \u001b[39;49m\u001b[38;5;124;43m\"\u001b[39;49m\u001b[43m)\u001b[49m)\n\u001b[0;32m      4\u001b[0m         \u001b[38;5;66;03m#break\u001b[39;00m\n\u001b[0;32m      5\u001b[0m     \u001b[38;5;28;01mexcept\u001b[39;00m \u001b[38;5;167;01mValueError\u001b[39;00m:\n",
      "File \u001b[1;32m~\\anaconda3\\lib\\site-packages\\ipykernel\\kernelbase.py:1075\u001b[0m, in \u001b[0;36mKernel.raw_input\u001b[1;34m(self, prompt)\u001b[0m\n\u001b[0;32m   1071\u001b[0m \u001b[38;5;28;01mif\u001b[39;00m \u001b[38;5;129;01mnot\u001b[39;00m \u001b[38;5;28mself\u001b[39m\u001b[38;5;241m.\u001b[39m_allow_stdin:\n\u001b[0;32m   1072\u001b[0m     \u001b[38;5;28;01mraise\u001b[39;00m StdinNotImplementedError(\n\u001b[0;32m   1073\u001b[0m         \u001b[38;5;124m\"\u001b[39m\u001b[38;5;124mraw_input was called, but this frontend does not support input requests.\u001b[39m\u001b[38;5;124m\"\u001b[39m\n\u001b[0;32m   1074\u001b[0m     )\n\u001b[1;32m-> 1075\u001b[0m \u001b[38;5;28;01mreturn\u001b[39;00m \u001b[38;5;28;43mself\u001b[39;49m\u001b[38;5;241;43m.\u001b[39;49m\u001b[43m_input_request\u001b[49m\u001b[43m(\u001b[49m\n\u001b[0;32m   1076\u001b[0m \u001b[43m    \u001b[49m\u001b[38;5;28;43mstr\u001b[39;49m\u001b[43m(\u001b[49m\u001b[43mprompt\u001b[49m\u001b[43m)\u001b[49m\u001b[43m,\u001b[49m\n\u001b[0;32m   1077\u001b[0m \u001b[43m    \u001b[49m\u001b[38;5;28;43mself\u001b[39;49m\u001b[38;5;241;43m.\u001b[39;49m\u001b[43m_parent_ident\u001b[49m\u001b[43m[\u001b[49m\u001b[38;5;124;43m\"\u001b[39;49m\u001b[38;5;124;43mshell\u001b[39;49m\u001b[38;5;124;43m\"\u001b[39;49m\u001b[43m]\u001b[49m\u001b[43m,\u001b[49m\n\u001b[0;32m   1078\u001b[0m \u001b[43m    \u001b[49m\u001b[38;5;28;43mself\u001b[39;49m\u001b[38;5;241;43m.\u001b[39;49m\u001b[43mget_parent\u001b[49m\u001b[43m(\u001b[49m\u001b[38;5;124;43m\"\u001b[39;49m\u001b[38;5;124;43mshell\u001b[39;49m\u001b[38;5;124;43m\"\u001b[39;49m\u001b[43m)\u001b[49m\u001b[43m,\u001b[49m\n\u001b[0;32m   1079\u001b[0m \u001b[43m    \u001b[49m\u001b[43mpassword\u001b[49m\u001b[38;5;241;43m=\u001b[39;49m\u001b[38;5;28;43;01mFalse\u001b[39;49;00m\u001b[43m,\u001b[49m\n\u001b[0;32m   1080\u001b[0m \u001b[43m\u001b[49m\u001b[43m)\u001b[49m\n",
      "File \u001b[1;32m~\\anaconda3\\lib\\site-packages\\ipykernel\\kernelbase.py:1120\u001b[0m, in \u001b[0;36mKernel._input_request\u001b[1;34m(self, prompt, ident, parent, password)\u001b[0m\n\u001b[0;32m   1117\u001b[0m             \u001b[38;5;28;01mbreak\u001b[39;00m\n\u001b[0;32m   1118\u001b[0m \u001b[38;5;28;01mexcept\u001b[39;00m \u001b[38;5;167;01mKeyboardInterrupt\u001b[39;00m:\n\u001b[0;32m   1119\u001b[0m     \u001b[38;5;66;03m# re-raise KeyboardInterrupt, to truncate traceback\u001b[39;00m\n\u001b[1;32m-> 1120\u001b[0m     \u001b[38;5;28;01mraise\u001b[39;00m \u001b[38;5;167;01mKeyboardInterrupt\u001b[39;00m(\u001b[38;5;124m\"\u001b[39m\u001b[38;5;124mInterrupted by user\u001b[39m\u001b[38;5;124m\"\u001b[39m) \u001b[38;5;28;01mfrom\u001b[39;00m \u001b[38;5;28mNone\u001b[39m\n\u001b[0;32m   1121\u001b[0m \u001b[38;5;28;01mexcept\u001b[39;00m \u001b[38;5;167;01mException\u001b[39;00m:\n\u001b[0;32m   1122\u001b[0m     \u001b[38;5;28mself\u001b[39m\u001b[38;5;241m.\u001b[39mlog\u001b[38;5;241m.\u001b[39mwarning(\u001b[38;5;124m\"\u001b[39m\u001b[38;5;124mInvalid Message:\u001b[39m\u001b[38;5;124m\"\u001b[39m, exc_info\u001b[38;5;241m=\u001b[39m\u001b[38;5;28;01mTrue\u001b[39;00m)\n",
      "\u001b[1;31mKeyboardInterrupt\u001b[0m: Interrupted by user"
     ]
    }
   ],
   "source": [
    "while True:\n",
    "    try:\n",
    "        x = int(input(\"Please enter a number: \"))\n",
    "        #break\n",
    "    except ValueError:\n",
    "        print (\"Oops!  That was no valid number.  Try again...\")\n"
   ]
  },
  {
   "cell_type": "code",
   "execution_count": null,
   "metadata": {},
   "outputs": [],
   "source": []
  },
  {
   "cell_type": "code",
   "execution_count": 13,
   "metadata": {},
   "outputs": [],
   "source": [
    "######################################\n",
    "# EXAMPLE: Buggy code to reverse a list\n",
    "# Try to debug it! (fixes needed are explained below)\n",
    "######################################\n",
    "def rev_list_buggy(L):\n",
    "   \"\"\"\n",
    "   input: L, a list\n",
    "   Modifies L such that its elements are in reverse order\n",
    "   returns: nothing\n",
    "   \"\"\"\n",
    "   for i in range(len(L)):\n",
    "        j = len(L) - i\n",
    "        L[i] = temp\n",
    "        L[i] = L[j]\n",
    "        L[j] = L[i]\n"
   ]
  },
  {
   "cell_type": "code",
   "execution_count": 14,
   "metadata": {},
   "outputs": [
    {
     "ename": "NameError",
     "evalue": "name 'temp' is not defined",
     "output_type": "error",
     "traceback": [
      "\u001b[1;31m---------------------------------------------------------------------------\u001b[0m",
      "\u001b[1;31mNameError\u001b[0m                                 Traceback (most recent call last)",
      "Input \u001b[1;32mIn [14]\u001b[0m, in \u001b[0;36m<cell line: 2>\u001b[1;34m()\u001b[0m\n\u001b[0;32m      1\u001b[0m L \u001b[38;5;241m=\u001b[39m [\u001b[38;5;241m1\u001b[39m,\u001b[38;5;241m2\u001b[39m,\u001b[38;5;241m3\u001b[39m,\u001b[38;5;241m4\u001b[39m]\n\u001b[1;32m----> 2\u001b[0m \u001b[43mrev_list_buggy\u001b[49m\u001b[43m(\u001b[49m\u001b[43mL\u001b[49m\u001b[43m)\u001b[49m\n\u001b[0;32m      3\u001b[0m \u001b[38;5;28mprint\u001b[39m(L)\n",
      "Input \u001b[1;32mIn [13]\u001b[0m, in \u001b[0;36mrev_list_buggy\u001b[1;34m(L)\u001b[0m\n\u001b[0;32m     11\u001b[0m \u001b[38;5;28;01mfor\u001b[39;00m i \u001b[38;5;129;01min\u001b[39;00m \u001b[38;5;28mrange\u001b[39m(\u001b[38;5;28mlen\u001b[39m(L)):\n\u001b[0;32m     12\u001b[0m      j \u001b[38;5;241m=\u001b[39m \u001b[38;5;28mlen\u001b[39m(L) \u001b[38;5;241m-\u001b[39m i\n\u001b[1;32m---> 13\u001b[0m      L[i] \u001b[38;5;241m=\u001b[39m \u001b[43mtemp\u001b[49m\n\u001b[0;32m     14\u001b[0m      L[i] \u001b[38;5;241m=\u001b[39m L[j]\n\u001b[0;32m     15\u001b[0m      L[j] \u001b[38;5;241m=\u001b[39m L[i]\n",
      "\u001b[1;31mNameError\u001b[0m: name 'temp' is not defined"
     ]
    }
   ],
   "source": [
    "L = [1,2,3,4]\n",
    "rev_list_buggy(L)\n",
    "print(L)"
   ]
  },
  {
   "cell_type": "code",
   "execution_count": null,
   "metadata": {},
   "outputs": [],
   "source": [
    "L = [4,3,2,1]"
   ]
  },
  {
   "cell_type": "code",
   "execution_count": 15,
   "metadata": {},
   "outputs": [
    {
     "name": "stdout",
     "output_type": "stream",
     "text": [
      "0 4\n"
     ]
    },
    {
     "ename": "IndexError",
     "evalue": "list index out of range",
     "output_type": "error",
     "traceback": [
      "\u001b[1;31m---------------------------------------------------------------------------\u001b[0m",
      "\u001b[1;31mIndexError\u001b[0m                                Traceback (most recent call last)",
      "Input \u001b[1;32mIn [15]\u001b[0m, in \u001b[0;36m<cell line: 17>\u001b[1;34m()\u001b[0m\n\u001b[0;32m     14\u001b[0m         L[j] \u001b[38;5;241m=\u001b[39m temp\n\u001b[0;32m     16\u001b[0m L \u001b[38;5;241m=\u001b[39m [\u001b[38;5;241m1\u001b[39m,\u001b[38;5;241m2\u001b[39m,\u001b[38;5;241m3\u001b[39m,\u001b[38;5;241m4\u001b[39m]\n\u001b[1;32m---> 17\u001b[0m \u001b[43mrev_list_buggy2\u001b[49m\u001b[43m(\u001b[49m\u001b[43mL\u001b[49m\u001b[43m)\u001b[49m\n\u001b[0;32m     18\u001b[0m \u001b[38;5;28mprint\u001b[39m(L)\n",
      "Input \u001b[1;32mIn [15]\u001b[0m, in \u001b[0;36mrev_list_buggy2\u001b[1;34m(L)\u001b[0m\n\u001b[0;32m     11\u001b[0m \u001b[38;5;28mprint\u001b[39m(i,j)\n\u001b[0;32m     12\u001b[0m temp \u001b[38;5;241m=\u001b[39m L[i] \n\u001b[1;32m---> 13\u001b[0m L[i] \u001b[38;5;241m=\u001b[39m \u001b[43mL\u001b[49m\u001b[43m[\u001b[49m\u001b[43mj\u001b[49m\u001b[43m]\u001b[49m\n\u001b[0;32m     14\u001b[0m L[j] \u001b[38;5;241m=\u001b[39m temp\n",
      "\u001b[1;31mIndexError\u001b[0m: list index out of range"
     ]
    }
   ],
   "source": [
    "## temp unknown\n",
    "\n",
    "def rev_list_buggy2(L):\n",
    "   \"\"\"\n",
    "   input: L, a list\n",
    "   Modifies L such that its elements are in reverse order\n",
    "   returns: nothing\n",
    "   \"\"\"\n",
    "   for i in range(len(L)):\n",
    "        j = len(L) - i\n",
    "        print(i,j)\n",
    "        temp = L[i] \n",
    "        L[i] = L[j]\n",
    "        L[j] = temp\n",
    "\n",
    "L = [1,2,3,4]\n",
    "rev_list_buggy2(L)\n",
    "print(L)\n",
    "\n"
   ]
  },
  {
   "cell_type": "code",
   "execution_count": 18,
   "metadata": {},
   "outputs": [
    {
     "name": "stdout",
     "output_type": "stream",
     "text": [
      "0 [4, 2, 3, 1]\n",
      "1 [4, 3, 2, 1]\n",
      "2 [4, 2, 3, 1]\n",
      "3 [1, 2, 3, 4]\n",
      "[1, 2, 3, 4]\n"
     ]
    }
   ],
   "source": [
    "## list index out of range -> sub 1 to j\n",
    "def rev_list_buggy3(L):\n",
    "   \"\"\"\n",
    "   input: L, a list\n",
    "   Modifies L such that its elements are in reverse order\n",
    "   returns: nothing\n",
    "   \"\"\"\n",
    "   for i in range(len(L)):\n",
    "        j = len(L) - i - 1\n",
    "        temp = L[i] \n",
    "        L[i] = L[j]\n",
    "        L[j] = temp\n",
    "        print(i, L)\n",
    "\n",
    "L = [1,2,3,4]\n",
    "rev_list_buggy3(L)\n",
    "print(L)\n",
    "\n"
   ]
  },
  {
   "cell_type": "code",
   "execution_count": 20,
   "metadata": {},
   "outputs": [
    {
     "name": "stdout",
     "output_type": "stream",
     "text": [
      "[4, 3, 2, 1]\n"
     ]
    }
   ],
   "source": [
    "## get same list back -> iterate only over half\n",
    "def rev_list(L):\n",
    "    \"\"\"\n",
    "    input: L, a list\n",
    "    Modifies L such that its elements are in reverse order\n",
    "    returns: nothing\n",
    "    \"\"\"\n",
    "    for i in range(len(L)//2):\n",
    "        j = len(L) - i - 1\n",
    "        temp = L[i]\n",
    "        L[i] = L[j]\n",
    "        L[j] = temp\n",
    "        \n",
    "L = [1,2,3,4]\n",
    "rev_list(L)\n",
    "print(L)"
   ]
  },
  {
   "cell_type": "code",
   "execution_count": null,
   "metadata": {},
   "outputs": [],
   "source": []
  },
  {
   "cell_type": "code",
   "execution_count": 21,
   "metadata": {},
   "outputs": [],
   "source": [
    "######################################\n",
    "# EXAMPLE: Buggy code to get a list of primes\n",
    "# Try to debug it! (fixes needed are explained below)\n",
    "######################################\n",
    "def primes_list_buggy(n):\n",
    "    \"\"\"\n",
    "    input: n an integer > 1\n",
    "    returns: list of all the primes up to and including n\n",
    "    \"\"\"\n",
    "    # initialize primes list\n",
    "    if n == 2:\n",
    "        primes.append(2)\n",
    "    # go through each elem of primes list\n",
    "    for i in range(len(primes)):\n",
    "        # go through each of 2...n\n",
    "        for j in range(len(n)):\n",
    "            # check if not divisible by elem of list\n",
    "            if i%j != 0:\n",
    "                primes.append(i)\n",
    "\n",
    "\n"
   ]
  },
  {
   "cell_type": "code",
   "execution_count": 22,
   "metadata": {},
   "outputs": [
    {
     "ename": "NameError",
     "evalue": "name 'primes' is not defined",
     "output_type": "error",
     "traceback": [
      "\u001b[1;31m---------------------------------------------------------------------------\u001b[0m",
      "\u001b[1;31mNameError\u001b[0m                                 Traceback (most recent call last)",
      "Input \u001b[1;32mIn [22]\u001b[0m, in \u001b[0;36m<cell line: 1>\u001b[1;34m()\u001b[0m\n\u001b[1;32m----> 1\u001b[0m \u001b[38;5;28mprint\u001b[39m(\u001b[43mprimes_list_buggy\u001b[49m\u001b[43m(\u001b[49m\u001b[38;5;241;43m2\u001b[39;49m\u001b[43m)\u001b[49m)\n",
      "Input \u001b[1;32mIn [21]\u001b[0m, in \u001b[0;36mprimes_list_buggy\u001b[1;34m(n)\u001b[0m\n\u001b[0;32m     10\u001b[0m \u001b[38;5;66;03m# initialize primes list\u001b[39;00m\n\u001b[0;32m     11\u001b[0m \u001b[38;5;28;01mif\u001b[39;00m n \u001b[38;5;241m==\u001b[39m \u001b[38;5;241m2\u001b[39m:\n\u001b[1;32m---> 12\u001b[0m     \u001b[43mprimes\u001b[49m\u001b[38;5;241m.\u001b[39mappend(\u001b[38;5;241m2\u001b[39m)\n\u001b[0;32m     13\u001b[0m \u001b[38;5;66;03m# go through each elem of primes list\u001b[39;00m\n\u001b[0;32m     14\u001b[0m \u001b[38;5;28;01mfor\u001b[39;00m i \u001b[38;5;129;01min\u001b[39;00m \u001b[38;5;28mrange\u001b[39m(\u001b[38;5;28mlen\u001b[39m(primes)):\n\u001b[0;32m     15\u001b[0m     \u001b[38;5;66;03m# go through each of 2...n\u001b[39;00m\n",
      "\u001b[1;31mNameError\u001b[0m: name 'primes' is not defined"
     ]
    }
   ],
   "source": [
    "print(primes_list_buggy(2))               "
   ]
  },
  {
   "cell_type": "code",
   "execution_count": null,
   "metadata": {},
   "outputs": [],
   "source": [
    "print(primes_list_buggy(15)) "
   ]
  },
  {
   "cell_type": "code",
   "execution_count": 23,
   "metadata": {},
   "outputs": [
    {
     "name": "stdout",
     "output_type": "stream",
     "text": [
      "None\n",
      "None\n"
     ]
    }
   ],
   "source": [
    "## FIXES: --------------------------\n",
    "## = invalid syntax, variable i unknown\n",
    "\n",
    "def primes_list_buggy(n):\n",
    "    \"\"\"\n",
    "    input: n an integer > 1\n",
    "    returns: list of all the primes up to and including n\n",
    "    \"\"\"\n",
    "    primes = []\n",
    "    \n",
    "    # initialize primes list\n",
    "    if n == 2:\n",
    "        primes.append(2)\n",
    "    # go through each elem of primes list\n",
    "    for i in range(len(primes)):\n",
    "        # go through each of 2...n\n",
    "        for j in range(2,i):\n",
    "            # check if not divisible by elem of list\n",
    "            if i%j != 0:\n",
    "                primes.append(i)\n",
    "\n",
    "\n",
    "print(primes_list_buggy(2))               \n",
    "print(primes_list_buggy(15)) "
   ]
  },
  {
   "cell_type": "code",
   "execution_count": 24,
   "metadata": {},
   "outputs": [
    {
     "ename": "TypeError",
     "evalue": "object of type 'int' has no len()",
     "output_type": "error",
     "traceback": [
      "\u001b[1;31m---------------------------------------------------------------------------\u001b[0m",
      "\u001b[1;31mTypeError\u001b[0m                                 Traceback (most recent call last)",
      "Input \u001b[1;32mIn [24]\u001b[0m, in \u001b[0;36m<cell line: 20>\u001b[1;34m()\u001b[0m\n\u001b[0;32m     16\u001b[0m             \u001b[38;5;28;01mif\u001b[39;00m i\u001b[38;5;241m%\u001b[39mj \u001b[38;5;241m!=\u001b[39m \u001b[38;5;241m0\u001b[39m:\n\u001b[0;32m     17\u001b[0m                 primes\u001b[38;5;241m.\u001b[39mappend(i)\n\u001b[1;32m---> 20\u001b[0m \u001b[38;5;28mprint\u001b[39m(\u001b[43mprimes_list_buggy\u001b[49m\u001b[43m(\u001b[49m\u001b[38;5;241;43m2\u001b[39;49m\u001b[43m)\u001b[49m)               \n\u001b[0;32m     21\u001b[0m \u001b[38;5;28mprint\u001b[39m(primes_list_buggy(\u001b[38;5;241m15\u001b[39m))\n",
      "Input \u001b[1;32mIn [24]\u001b[0m, in \u001b[0;36mprimes_list_buggy\u001b[1;34m(n)\u001b[0m\n\u001b[0;32m     11\u001b[0m \u001b[38;5;66;03m# go through each elem of primes list\u001b[39;00m\n\u001b[0;32m     12\u001b[0m \u001b[38;5;28;01mfor\u001b[39;00m i \u001b[38;5;129;01min\u001b[39;00m \u001b[38;5;28mrange\u001b[39m(\u001b[38;5;28mlen\u001b[39m(primes)):\n\u001b[0;32m     13\u001b[0m     \u001b[38;5;66;03m# go through each of 2...n\u001b[39;00m\n\u001b[1;32m---> 14\u001b[0m     \u001b[38;5;28;01mfor\u001b[39;00m j \u001b[38;5;129;01min\u001b[39;00m \u001b[38;5;28mrange\u001b[39m(\u001b[38;5;28;43mlen\u001b[39;49m\u001b[43m(\u001b[49m\u001b[43mn\u001b[49m\u001b[43m)\u001b[49m):\n\u001b[0;32m     15\u001b[0m         \u001b[38;5;66;03m# check if not divisible by elem of list\u001b[39;00m\n\u001b[0;32m     16\u001b[0m         \u001b[38;5;28;01mif\u001b[39;00m i\u001b[38;5;241m%\u001b[39mj \u001b[38;5;241m!=\u001b[39m \u001b[38;5;241m0\u001b[39m:\n\u001b[0;32m     17\u001b[0m             primes\u001b[38;5;241m.\u001b[39mappend(i)\n",
      "\u001b[1;31mTypeError\u001b[0m: object of type 'int' has no len()"
     ]
    }
   ],
   "source": [
    "#variable primes unknown\n",
    "def primes_list_buggy(n):\n",
    "    \"\"\"\n",
    "    input: n an integer > 1\n",
    "    returns: list of all the primes up to and including n\n",
    "    \"\"\"\n",
    "    # initialize primes list\n",
    "    primes = []\n",
    "    if n == 2:\n",
    "        primes.append(2)\n",
    "    # go through each elem of primes list\n",
    "    for i in range(len(primes)):\n",
    "        # go through each of 2...n\n",
    "        for j in range(len(n)):\n",
    "            # check if not divisible by elem of list\n",
    "            if i%j != 0:\n",
    "                primes.append(i)\n",
    "\n",
    "\n",
    "print(primes_list_buggy(2))               \n",
    "print(primes_list_buggy(15)) "
   ]
  },
  {
   "cell_type": "code",
   "execution_count": 27,
   "metadata": {},
   "outputs": [
    {
     "name": "stdout",
     "output_type": "stream",
     "text": [
      "[]\n",
      "[2, 3, 5, 7, 11, 13, 17, 19, 23, 29, 31, 37, 41, 43, 47, 53, 59, 61, 67, 71, 73, 79, 83, 89, 97, 101, 103, 107, 109, 113, 127, 131, 137, 139, 149]\n"
     ]
    }
   ],
   "source": [
    "## can't apply 'len' to an int\n",
    "def primes_list_buggy(n):\n",
    "    \"\"\"\n",
    "    input: n an integer > 1\n",
    "    returns: list of all the primes up to and including n\n",
    "    \"\"\"\n",
    "    # initialize primes list\n",
    "    primes = []\n",
    "    if n >= 2:\n",
    "        primes.append(2)\n",
    "    # go through each elem of primes list\n",
    "    for i in range(3,n+1):\n",
    "        # go through each of 2...n\n",
    "        flag = True\n",
    "        for j in range(2, i):\n",
    "            # check if not divisible by elem of list\n",
    "            if i%j == 0:\n",
    "                flag = False\n",
    "                break\n",
    "        if flag:\n",
    "            primes.append(i)\n",
    "    \n",
    "    return primes\n",
    "\n",
    "print(primes_list_buggy(0))               \n",
    "print(primes_list_buggy(150)) \n"
   ]
  },
  {
   "cell_type": "code",
   "execution_count": null,
   "metadata": {},
   "outputs": [],
   "source": [
    "## division by zero -> iterate through elems not indices\n",
    "##                  -> iterate from 2 not 0\n",
    "\n",
    "def primes_list_buggy(n):\n",
    "    \"\"\"\n",
    "    input: n an integer > 1\n",
    "    returns: list of all the primes up to and including n\n",
    "    \"\"\"\n",
    "    # initialize primes list\n",
    "    primes = []\n",
    "    if n == 2:\n",
    "        primes.append(2)\n",
    "    # go through each elem of primes list\n",
    "    for i in range(3,n+1):\n",
    "        # go through each of 3...n\n",
    "        for j in range(2, i):\n",
    "            # check if not divisible by elem of list\n",
    "            if i%j != 0:\n",
    "                primes.append(i)\n",
    "\n",
    "\n",
    "print(primes_list_buggy(2))               \n",
    "print(primes_list_buggy(15)) "
   ]
  },
  {
   "cell_type": "code",
   "execution_count": null,
   "metadata": {},
   "outputs": [],
   "source": [
    "## forgot to return \n",
    "def primes_list_buggy(n):\n",
    "    \"\"\"\n",
    "    input: n an integer > 1\n",
    "    returns: list of all the primes up to and including n\n",
    "    \"\"\"\n",
    "    # initialize primes list\n",
    "    primes = []\n",
    "    if n == 2:\n",
    "        primes.append(2)\n",
    "    # go through each elem of primes list\n",
    "    for i in range(3,n+1):\n",
    "        # go through each of 3...n\n",
    "        for j in range(2, i):\n",
    "            # check if not divisible by elem of list\n",
    "            if i%j != 0:\n",
    "                primes.append(i)\n",
    "\n",
    "    return primes\n",
    "\n",
    "print(primes_list_buggy(2))               \n",
    "print(primes_list_buggy(15)) "
   ]
  },
  {
   "cell_type": "code",
   "execution_count": null,
   "metadata": {},
   "outputs": [],
   "source": [
    "## n = 4 adds 4 -> need way to stop going once found a divisible num\n",
    "##              -> use a flag\n",
    "\n",
    "def primes_list_buggy(n):\n",
    "    \"\"\"\n",
    "    input: n an integer > 1\n",
    "    returns: list of all the primes up to and including n\n",
    "    \"\"\"\n",
    "    # initialize primes list\n",
    "    primes = []\n",
    "    if n == 2:\n",
    "        primes.append(2)\n",
    "    # go through each elem of primes list\n",
    "    for i in range(3,n+1):\n",
    "        is_div = False\n",
    "        # go through each of 3...n\n",
    "        for j in range(2, i):\n",
    "            # check if not divisible by elem of list\n",
    "            if i%j == 0:\n",
    "                is_div = True\n",
    "            if is_div == False:\n",
    "                primes.append(i)\n",
    "\n",
    "    return primes\n",
    "\n",
    "print(primes_list_buggy(2))               \n",
    "print(primes_list_buggy(15)) "
   ]
  },
  {
   "cell_type": "code",
   "execution_count": null,
   "metadata": {},
   "outputs": [],
   "source": [
    "# append to many times\n",
    "def primes_list_buggy(n):\n",
    "    \"\"\"\n",
    "    input: n an integer > 1\n",
    "    returns: list of all the primes up to and including n\n",
    "    \"\"\"\n",
    "    # initialize primes list\n",
    "    primes = []\n",
    "    if n == 2:\n",
    "        primes.append(2)\n",
    "    # go through each elem of primes list\n",
    "    for i in range(3,n+1):\n",
    "        is_div = False\n",
    "        # go through each of 3...n\n",
    "        for j in range(2, i):\n",
    "            # check if not divisible by elem of list\n",
    "            if i%j == 0:\n",
    "                is_div = True\n",
    "        if is_div == False:\n",
    "            primes.append(i)\n",
    "\n",
    "    return primes\n",
    "\n",
    "print(primes_list_buggy(2))               \n",
    "print(primes_list_buggy(15)) "
   ]
  },
  {
   "cell_type": "code",
   "execution_count": null,
   "metadata": {},
   "outputs": [],
   "source": [
    "# clean up and fix not appending 2 \n",
    "def primes_list_buggy(n):\n",
    "    \"\"\"\n",
    "    input: n an integer > 1\n",
    "    returns: list of all the primes up to and including n\n",
    "    \"\"\"\n",
    "    # initialize primes list\n",
    "    primes = [2]\n",
    "    # go through each elem of primes list\n",
    "    for i in range(3,n+1):\n",
    "        is_div = False\n",
    "        # go through each of 3...n\n",
    "        for j in range(2, i):\n",
    "            # check if not divisible by elem of list\n",
    "            if i%j == 0:\n",
    "                is_div = True\n",
    "        if is_div == False:\n",
    "            primes.append(i)\n",
    "\n",
    "    return primes\n",
    "\n",
    "print(primes_list_buggy(2))               \n",
    "print(primes_list_buggy(15)) \n"
   ]
  },
  {
   "cell_type": "code",
   "execution_count": null,
   "metadata": {},
   "outputs": [],
   "source": [
    "# make the code faster\n",
    "def primes_list(n):\n",
    "    \"\"\"\n",
    "    input: n an integer > 1\n",
    "    returns: list of all the primes up to and including n\n",
    "    \"\"\"\n",
    "    # initialize primes list\n",
    "    primes = [2]\n",
    "    # go through each of 3...n\n",
    "    for j in range(3,n+1):\n",
    "        is_div = False\n",
    "        # go through each elem of primes list\n",
    "        for p in primes:\n",
    "            if j%p == 0:\n",
    "                is_div = True\n",
    "        if not is_div:\n",
    "            primes.append(j)\n",
    "    return primes\n",
    "\n",
    "print(primes_list(2))               \n",
    "print(primes_list(15))      "
   ]
  },
  {
   "cell_type": "code",
   "execution_count": 30,
   "metadata": {},
   "outputs": [
    {
     "name": "stdout",
     "output_type": "stream",
     "text": [
      "Tell me one number: ooo\n"
     ]
    },
    {
     "ename": "ValueError",
     "evalue": "invalid literal for int() with base 10: 'ooo'",
     "output_type": "error",
     "traceback": [
      "\u001b[1;31m---------------------------------------------------------------------------\u001b[0m",
      "\u001b[1;31mValueError\u001b[0m                                Traceback (most recent call last)",
      "Input \u001b[1;32mIn [30]\u001b[0m, in \u001b[0;36m<cell line: 4>\u001b[1;34m()\u001b[0m\n\u001b[0;32m      1\u001b[0m \u001b[38;5;66;03m######################################\u001b[39;00m\n\u001b[0;32m      2\u001b[0m \u001b[38;5;66;03m# EXAMPLE: Exceptions and input\u001b[39;00m\n\u001b[0;32m      3\u001b[0m \u001b[38;5;66;03m######################################\u001b[39;00m\n\u001b[1;32m----> 4\u001b[0m a \u001b[38;5;241m=\u001b[39m \u001b[38;5;28;43mint\u001b[39;49m\u001b[43m(\u001b[49m\u001b[38;5;28;43minput\u001b[39;49m\u001b[43m(\u001b[49m\u001b[38;5;124;43m\"\u001b[39;49m\u001b[38;5;124;43mTell me one number: \u001b[39;49m\u001b[38;5;124;43m\"\u001b[39;49m\u001b[43m)\u001b[49m\u001b[43m)\u001b[49m\n\u001b[0;32m      5\u001b[0m b \u001b[38;5;241m=\u001b[39m \u001b[38;5;28mint\u001b[39m(\u001b[38;5;28minput\u001b[39m(\u001b[38;5;124m\"\u001b[39m\u001b[38;5;124mTell me another number: \u001b[39m\u001b[38;5;124m\"\u001b[39m))\n\u001b[0;32m      6\u001b[0m \u001b[38;5;28mprint\u001b[39m(\u001b[38;5;124m\"\u001b[39m\u001b[38;5;124ma/b = \u001b[39m\u001b[38;5;124m\"\u001b[39m, a\u001b[38;5;241m/\u001b[39mb)\n",
      "\u001b[1;31mValueError\u001b[0m: invalid literal for int() with base 10: 'ooo'"
     ]
    }
   ],
   "source": [
    "######################################\n",
    "# EXAMPLE: Exceptions and input\n",
    "######################################\n",
    "a = int(input(\"Tell me one number: \"))\n",
    "b = int(input(\"Tell me another number: \"))\n",
    "print(\"a/b = \", a/b)\n",
    "print(\"a+b = \", a+b)\n",
    "\n",
    "print(\"Orsan\")"
   ]
  },
  {
   "cell_type": "code",
   "execution_count": 33,
   "metadata": {},
   "outputs": [
    {
     "name": "stdout",
     "output_type": "stream",
     "text": [
      "Tell me one number: oo\n",
      "Bug in user input.\n",
      "Orsan\n"
     ]
    }
   ],
   "source": [
    "try:\n",
    "    a = int(input(\"Tell me one number: \"))\n",
    "    b = int(input(\"Tell me another number: \"))\n",
    "    print(\"a/b = \", a/b)\n",
    "except:\n",
    "    print(\"Bug in user input.\")\n",
    "    \n",
    "print(\"Orsan\")"
   ]
  },
  {
   "cell_type": "code",
   "execution_count": 37,
   "metadata": {},
   "outputs": [
    {
     "name": "stdout",
     "output_type": "stream",
     "text": [
      "Tell me one number: -99]\n",
      "Could not convert to a number.\n",
      "Orsan\n"
     ]
    }
   ],
   "source": [
    "try:\n",
    "    a = int(input(\"Tell me one number: \"))\n",
    "    b = int(input(\"Tell me another number: \"))\n",
    "    print(\"a/b = \", a/b)\n",
    "    print(\"a+b = \", a+b)\n",
    "except ValueError:\n",
    "    print(\"Could not convert to a number.\")\n",
    "except ZeroDivisionError:\n",
    "    print(\"Can't divide by zero\")\n",
    "except:\n",
    "    print(\"Something went very wrong.\")\n",
    "    \n",
    "print(\"Orsan\")\n"
   ]
  },
  {
   "cell_type": "code",
   "execution_count": 40,
   "metadata": {},
   "outputs": [
    {
     "name": "stdout",
     "output_type": "stream",
     "text": [
      "result is 0.08\n",
      "executing finally clause\n"
     ]
    }
   ],
   "source": [
    "def divide(x, y):\n",
    "    try:\n",
    "        result = x / y\n",
    "    except ZeroDivisionError:\n",
    "        print (\"division by zero!\")\n",
    "    else:\n",
    "        print (\"result is\", result)\n",
    "    finally:\n",
    "        print (\"executing finally clause\")\n",
    "        \n",
    "divide(2,25)"
   ]
  },
  {
   "cell_type": "code",
   "execution_count": 44,
   "metadata": {},
   "outputs": [
    {
     "name": "stdout",
     "output_type": "stream",
     "text": [
      "success\n",
      "executed no matter what!\n",
      "executed no matter what!\n",
      "executed no matter what!\n"
     ]
    },
    {
     "ename": "ValueError",
     "evalue": "get_ratios called with bad arg",
     "output_type": "error",
     "traceback": [
      "\u001b[1;31m---------------------------------------------------------------------------\u001b[0m",
      "\u001b[1;31mIndexError\u001b[0m                                Traceback (most recent call last)",
      "Input \u001b[1;32mIn [44]\u001b[0m, in \u001b[0;36mget_ratios\u001b[1;34m(L1, L2)\u001b[0m\n\u001b[0;32m      9\u001b[0m \u001b[38;5;28;01mtry\u001b[39;00m:\n\u001b[1;32m---> 10\u001b[0m     ratios\u001b[38;5;241m.\u001b[39mappend(L1[index]\u001b[38;5;241m/\u001b[39m\u001b[43mL2\u001b[49m\u001b[43m[\u001b[49m\u001b[43mindex\u001b[49m\u001b[43m]\u001b[49m)\n\u001b[0;32m     11\u001b[0m \u001b[38;5;28;01mexcept\u001b[39;00m \u001b[38;5;167;01mZeroDivisionError\u001b[39;00m:\n",
      "\u001b[1;31mIndexError\u001b[0m: list index out of range",
      "\nDuring handling of the above exception, another exception occurred:\n",
      "\u001b[1;31mValueError\u001b[0m                                Traceback (most recent call last)",
      "Input \u001b[1;32mIn [44]\u001b[0m, in \u001b[0;36m<cell line: 21>\u001b[1;34m()\u001b[0m\n\u001b[0;32m     18\u001b[0m             \u001b[38;5;28mprint\u001b[39m(\u001b[38;5;124m\"\u001b[39m\u001b[38;5;124mexecuted no matter what!\u001b[39m\u001b[38;5;124m\"\u001b[39m)\n\u001b[0;32m     19\u001b[0m     \u001b[38;5;28;01mreturn\u001b[39;00m ratios\n\u001b[1;32m---> 21\u001b[0m \u001b[38;5;28mprint\u001b[39m(\u001b[43mget_ratios\u001b[49m\u001b[43m(\u001b[49m\u001b[43m[\u001b[49m\u001b[38;5;241;43m7\u001b[39;49m\u001b[43m,\u001b[49m\u001b[43m \u001b[49m\u001b[38;5;241;43m4\u001b[39;49m\u001b[43m,\u001b[49m\u001b[43m \u001b[49m\u001b[38;5;241;43m8\u001b[39;49m\u001b[43m]\u001b[49m\u001b[43m,\u001b[49m\u001b[43m \u001b[49m\u001b[43m[\u001b[49m\u001b[38;5;241;43m15\u001b[39;49m\u001b[43m,\u001b[49m\u001b[43m \u001b[49m\u001b[38;5;241;43m0\u001b[39;49m\u001b[43m]\u001b[49m\u001b[43m)\u001b[49m)\n",
      "Input \u001b[1;32mIn [44]\u001b[0m, in \u001b[0;36mget_ratios\u001b[1;34m(L1, L2)\u001b[0m\n\u001b[0;32m     12\u001b[0m     ratios\u001b[38;5;241m.\u001b[39mappend(\u001b[38;5;28mfloat\u001b[39m(\u001b[38;5;124m'\u001b[39m\u001b[38;5;124mnan\u001b[39m\u001b[38;5;124m'\u001b[39m)) \u001b[38;5;66;03m#nan = Not a Number\u001b[39;00m\n\u001b[0;32m     13\u001b[0m \u001b[38;5;28;01mexcept\u001b[39;00m:\n\u001b[1;32m---> 14\u001b[0m     \u001b[38;5;28;01mraise\u001b[39;00m \u001b[38;5;167;01mValueError\u001b[39;00m(\u001b[38;5;124m'\u001b[39m\u001b[38;5;124mget_ratios called with bad arg\u001b[39m\u001b[38;5;124m'\u001b[39m)\n\u001b[0;32m     15\u001b[0m \u001b[38;5;28;01melse\u001b[39;00m:\n\u001b[0;32m     16\u001b[0m     \u001b[38;5;28mprint\u001b[39m(\u001b[38;5;124m\"\u001b[39m\u001b[38;5;124msuccess\u001b[39m\u001b[38;5;124m\"\u001b[39m)\n",
      "\u001b[1;31mValueError\u001b[0m: get_ratios called with bad arg"
     ]
    }
   ],
   "source": [
    "######################################\n",
    "# EXAMPLE: Raising your own exceptions\n",
    "######################################\n",
    "def get_ratios(L1, L2):\n",
    "    \"\"\" Assumes: L1 and L2 are lists of equal length of numbers\n",
    "        Returns: a list containing L1[i]/L2[i] \"\"\"\n",
    "    ratios = []\n",
    "    for index in range(len(L1)):\n",
    "        try:\n",
    "            ratios.append(L1[index]/L2[index])\n",
    "        except ZeroDivisionError:\n",
    "            ratios.append(float('nan')) #nan = Not a Number\n",
    "        except:\n",
    "            raise ValueError('get_ratios called with bad arg')\n",
    "        else:\n",
    "            print(\"success\")\n",
    "        finally:\n",
    "            print(\"executed no matter what!\")\n",
    "    return ratios\n",
    "    \n",
    "print(get_ratios([7, 4, 8], [15, 0]))"
   ]
  },
  {
   "cell_type": "code",
   "execution_count": 45,
   "metadata": {},
   "outputs": [
    {
     "ename": "ZeroDivisionError",
     "evalue": "division by zero",
     "output_type": "error",
     "traceback": [
      "\u001b[1;31m---------------------------------------------------------------------------\u001b[0m",
      "\u001b[1;31mZeroDivisionError\u001b[0m                         Traceback (most recent call last)",
      "Input \u001b[1;32mIn [45]\u001b[0m, in \u001b[0;36m<cell line: 19>\u001b[1;34m()\u001b[0m\n\u001b[0;32m     12\u001b[0m     \u001b[38;5;28;01mreturn\u001b[39;00m (\u001b[38;5;28msum\u001b[39m(grades))\u001b[38;5;241m/\u001b[39m\u001b[38;5;28mlen\u001b[39m(grades)\n\u001b[0;32m     14\u001b[0m test_grades \u001b[38;5;241m=\u001b[39m [[[\u001b[38;5;124m'\u001b[39m\u001b[38;5;124mpeter\u001b[39m\u001b[38;5;124m'\u001b[39m, \u001b[38;5;124m'\u001b[39m\u001b[38;5;124mparker\u001b[39m\u001b[38;5;124m'\u001b[39m], [\u001b[38;5;241m80.0\u001b[39m, \u001b[38;5;241m70.0\u001b[39m, \u001b[38;5;241m85.0\u001b[39m]], \n\u001b[0;32m     15\u001b[0m               [[\u001b[38;5;124m'\u001b[39m\u001b[38;5;124mbruce\u001b[39m\u001b[38;5;124m'\u001b[39m, \u001b[38;5;124m'\u001b[39m\u001b[38;5;124mwayne\u001b[39m\u001b[38;5;124m'\u001b[39m], [\u001b[38;5;241m100.0\u001b[39m, \u001b[38;5;241m80.0\u001b[39m, \u001b[38;5;241m74.0\u001b[39m]],\n\u001b[0;32m     16\u001b[0m               [[\u001b[38;5;124m'\u001b[39m\u001b[38;5;124mcaptain\u001b[39m\u001b[38;5;124m'\u001b[39m, \u001b[38;5;124m'\u001b[39m\u001b[38;5;124mamerica\u001b[39m\u001b[38;5;124m'\u001b[39m], [\u001b[38;5;241m80.0\u001b[39m, \u001b[38;5;241m70.0\u001b[39m, \u001b[38;5;241m96.0\u001b[39m]],\n\u001b[0;32m     17\u001b[0m               [[\u001b[38;5;124m'\u001b[39m\u001b[38;5;124mdeadpool\u001b[39m\u001b[38;5;124m'\u001b[39m], []]]\n\u001b[1;32m---> 19\u001b[0m \u001b[38;5;28mprint\u001b[39m(\u001b[43mget_stats\u001b[49m\u001b[43m(\u001b[49m\u001b[43mtest_grades\u001b[49m\u001b[43m)\u001b[49m)\n",
      "Input \u001b[1;32mIn [45]\u001b[0m, in \u001b[0;36mget_stats\u001b[1;34m(class_list)\u001b[0m\n\u001b[0;32m      5\u001b[0m new_stats \u001b[38;5;241m=\u001b[39m []\n\u001b[0;32m      6\u001b[0m \u001b[38;5;28;01mfor\u001b[39;00m person \u001b[38;5;129;01min\u001b[39;00m class_list:\n\u001b[1;32m----> 7\u001b[0m     new_stats\u001b[38;5;241m.\u001b[39mappend([person[\u001b[38;5;241m0\u001b[39m], person[\u001b[38;5;241m1\u001b[39m], \u001b[43mavg\u001b[49m\u001b[43m(\u001b[49m\u001b[43mperson\u001b[49m\u001b[43m[\u001b[49m\u001b[38;5;241;43m1\u001b[39;49m\u001b[43m]\u001b[49m\u001b[43m)\u001b[49m])\n\u001b[0;32m      8\u001b[0m \u001b[38;5;28;01mreturn\u001b[39;00m new_stats\n",
      "Input \u001b[1;32mIn [45]\u001b[0m, in \u001b[0;36mavg\u001b[1;34m(grades)\u001b[0m\n\u001b[0;32m     11\u001b[0m \u001b[38;5;28;01mdef\u001b[39;00m \u001b[38;5;21mavg\u001b[39m(grades):\n\u001b[1;32m---> 12\u001b[0m     \u001b[38;5;28;01mreturn\u001b[39;00m \u001b[43m(\u001b[49m\u001b[38;5;28;43msum\u001b[39;49m\u001b[43m(\u001b[49m\u001b[43mgrades\u001b[49m\u001b[43m)\u001b[49m\u001b[43m)\u001b[49m\u001b[38;5;241;43m/\u001b[39;49m\u001b[38;5;28;43mlen\u001b[39;49m\u001b[43m(\u001b[49m\u001b[43mgrades\u001b[49m\u001b[43m)\u001b[49m\n",
      "\u001b[1;31mZeroDivisionError\u001b[0m: division by zero"
     ]
    }
   ],
   "source": [
    "#######################################\n",
    "## EXAMPLE: Exceptions and lists\n",
    "#######################################\n",
    "def get_stats(class_list):\n",
    "    new_stats = []\n",
    "    for person in class_list:\n",
    "        new_stats.append([person[0], person[1], avg(person[1])])\n",
    "    return new_stats \n",
    "\n",
    "# avg function: version without an exception\n",
    "def avg(grades):\n",
    "    return (sum(grades))/len(grades)\n",
    "    \n",
    "test_grades = [[['peter', 'parker'], [80.0, 70.0, 85.0]], \n",
    "              [['bruce', 'wayne'], [100.0, 80.0, 74.0]],\n",
    "              [['captain', 'america'], [80.0, 70.0, 96.0]],\n",
    "              [['deadpool'], []]]\n",
    "\n",
    "print(get_stats(test_grades))\n"
   ]
  },
  {
   "cell_type": "code",
   "execution_count": 46,
   "metadata": {},
   "outputs": [
    {
     "name": "stdout",
     "output_type": "stream",
     "text": [
      "warning: no grades data\n",
      "[[['peter', 'parker'], [80.0, 70.0, 85.0], 78.33333333333333], [['bruce', 'wayne'], [100.0, 80.0, 74.0], 84.66666666666667], [['captain', 'america'], [80.0, 70.0, 96.0], 82.0], [['deadpool'], [], 0.0]]\n"
     ]
    }
   ],
   "source": [
    "#######################################\n",
    "## EXAMPLE: Exceptions and lists\n",
    "#######################################\n",
    "def get_stats(class_list):\n",
    "    new_stats = []\n",
    "    for person in class_list:\n",
    "        new_stats.append([person[0], person[1], avg(person[1])])\n",
    "    return new_stats \n",
    "\n",
    "\n",
    "# avg function: version with an exception\n",
    "def avg(grades):\n",
    "    try:\n",
    "        return sum(grades)/len(grades)\n",
    "    except ZeroDivisionError:\n",
    "        print('warning: no grades data')\n",
    "        return 0.0\n",
    "\n",
    "    \n",
    "test_grades = [[['peter', 'parker'], [80.0, 70.0, 85.0]], \n",
    "              [['bruce', 'wayne'], [100.0, 80.0, 74.0]],\n",
    "              [['captain', 'america'], [80.0, 70.0, 96.0]],\n",
    "              [['deadpool'], []]]\n",
    "\n",
    "print(get_stats(test_grades))\n"
   ]
  },
  {
   "cell_type": "code",
   "execution_count": null,
   "metadata": {},
   "outputs": [],
   "source": [
    "#######################################\n",
    "## EXAMPLE: Exceptions and lists\n",
    "#######################################\n",
    "def get_stats(class_list):\n",
    "    new_stats = []\n",
    "    for person in class_list:\n",
    "        new_stats.append([person[0], person[1], avg(person[1])])\n",
    "    return new_stats \n",
    "\n",
    "# avg function: version with assert\n",
    "def avg(grades):\n",
    "    assert len(grades) != 0, 'warning: no grades data'\n",
    "    return sum(grades)/len(grades)\n",
    "\n",
    "    \n",
    "test_grades = [[['peter', 'parker'], [80.0, 70.0, 85.0]], \n",
    "              [['bruce', 'wayne'], [100.0, 80.0, 74.0]],\n",
    "              [['captain', 'america'], [80.0, 70.0, 96.0]],\n",
    "              [['deadpool'], [62]]]\n",
    "\n",
    "print(get_stats(test_grades))\n"
   ]
  },
  {
   "cell_type": "code",
   "execution_count": null,
   "metadata": {},
   "outputs": [],
   "source": []
  }
 ],
 "metadata": {
  "kernelspec": {
   "display_name": "Python 3 (ipykernel)",
   "language": "python",
   "name": "python3"
  },
  "language_info": {
   "codemirror_mode": {
    "name": "ipython",
    "version": 3
   },
   "file_extension": ".py",
   "mimetype": "text/x-python",
   "name": "python",
   "nbconvert_exporter": "python",
   "pygments_lexer": "ipython3",
   "version": "3.9.12"
  }
 },
 "nbformat": 4,
 "nbformat_minor": 2
}
