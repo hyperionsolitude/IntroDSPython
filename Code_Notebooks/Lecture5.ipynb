{
 "cells": [
  {
   "cell_type": "code",
   "execution_count": 1,
   "metadata": {},
   "outputs": [],
   "source": [
    "tup = (\"orsan\", 4, True, 72.0, \"A\")"
   ]
  },
  {
   "cell_type": "code",
   "execution_count": 2,
   "metadata": {},
   "outputs": [
    {
     "data": {
      "text/plain": [
       "('orsan', 4, True, 72.0, 'A')"
      ]
     },
     "execution_count": 2,
     "metadata": {},
     "output_type": "execute_result"
    }
   ],
   "source": [
    "tup"
   ]
  },
  {
   "cell_type": "code",
   "execution_count": 4,
   "metadata": {},
   "outputs": [
    {
     "data": {
      "text/plain": [
       "'A'"
      ]
     },
     "execution_count": 4,
     "metadata": {},
     "output_type": "execute_result"
    }
   ],
   "source": [
    "tup[-1]"
   ]
  },
  {
   "cell_type": "code",
   "execution_count": 5,
   "metadata": {},
   "outputs": [
    {
     "data": {
      "text/plain": [
       "('orsan', 4, True, 72.0, 'A', 2, 'A')"
      ]
     },
     "execution_count": 5,
     "metadata": {},
     "output_type": "execute_result"
    }
   ],
   "source": [
    "tup + (2, \"A\")"
   ]
  },
  {
   "cell_type": "code",
   "execution_count": 6,
   "metadata": {},
   "outputs": [
    {
     "data": {
      "text/plain": [
       "('orsan', 4, True, 72.0, 'A')"
      ]
     },
     "execution_count": 6,
     "metadata": {},
     "output_type": "execute_result"
    }
   ],
   "source": [
    "tup"
   ]
  },
  {
   "cell_type": "code",
   "execution_count": 7,
   "metadata": {},
   "outputs": [
    {
     "data": {
      "text/plain": [
       "(4,)"
      ]
     },
     "execution_count": 7,
     "metadata": {},
     "output_type": "execute_result"
    }
   ],
   "source": [
    "tup[1:2]"
   ]
  },
  {
   "cell_type": "code",
   "execution_count": 8,
   "metadata": {},
   "outputs": [
    {
     "data": {
      "text/plain": [
       "(True, 72.0)"
      ]
     },
     "execution_count": 8,
     "metadata": {},
     "output_type": "execute_result"
    }
   ],
   "source": [
    "tup[2:4]"
   ]
  },
  {
   "cell_type": "code",
   "execution_count": 9,
   "metadata": {},
   "outputs": [
    {
     "data": {
      "text/plain": [
       "5"
      ]
     },
     "execution_count": 9,
     "metadata": {},
     "output_type": "execute_result"
    }
   ],
   "source": [
    "len(tup)"
   ]
  },
  {
   "cell_type": "code",
   "execution_count": 10,
   "metadata": {},
   "outputs": [
    {
     "data": {
      "text/plain": [
       "('orsan', 4, True, 72.0, 'A')"
      ]
     },
     "execution_count": 10,
     "metadata": {},
     "output_type": "execute_result"
    }
   ],
   "source": [
    "tup"
   ]
  },
  {
   "cell_type": "code",
   "execution_count": 11,
   "metadata": {},
   "outputs": [
    {
     "data": {
      "text/plain": [
       "(True, 72.0, 'A')"
      ]
     },
     "execution_count": 11,
     "metadata": {},
     "output_type": "execute_result"
    }
   ],
   "source": [
    "tup[2:]"
   ]
  },
  {
   "cell_type": "code",
   "execution_count": 12,
   "metadata": {},
   "outputs": [
    {
     "data": {
      "text/plain": [
       "('orsan', 4)"
      ]
     },
     "execution_count": 12,
     "metadata": {},
     "output_type": "execute_result"
    }
   ],
   "source": [
    "tup[:2]"
   ]
  },
  {
   "cell_type": "code",
   "execution_count": 13,
   "metadata": {},
   "outputs": [
    {
     "data": {
      "text/plain": [
       "('orsan', True, 'A')"
      ]
     },
     "execution_count": 13,
     "metadata": {},
     "output_type": "execute_result"
    }
   ],
   "source": [
    "tup[::2]    "
   ]
  },
  {
   "cell_type": "code",
   "execution_count": 14,
   "metadata": {},
   "outputs": [
    {
     "ename": "TypeError",
     "evalue": "'tuple' object does not support item assignment",
     "output_type": "error",
     "traceback": [
      "\u001b[1;31m---------------------------------------------------------------------------\u001b[0m",
      "\u001b[1;31mTypeError\u001b[0m                                 Traceback (most recent call last)",
      "Input \u001b[1;32mIn [14]\u001b[0m, in \u001b[0;36m<cell line: 1>\u001b[1;34m()\u001b[0m\n\u001b[1;32m----> 1\u001b[0m tup[\u001b[38;5;241m1\u001b[39m] \u001b[38;5;241m=\u001b[39m \u001b[38;5;124m\"\u001b[39m\u001b[38;5;124mS\u001b[39m\u001b[38;5;124m\"\u001b[39m\n",
      "\u001b[1;31mTypeError\u001b[0m: 'tuple' object does not support item assignment"
     ]
    }
   ],
   "source": [
    "tup[1] = \"S\""
   ]
  },
  {
   "cell_type": "code",
   "execution_count": 15,
   "metadata": {},
   "outputs": [
    {
     "data": {
      "text/plain": [
       "'r'"
      ]
     },
     "execution_count": 15,
     "metadata": {},
     "output_type": "execute_result"
    }
   ],
   "source": [
    "tup[0][1]"
   ]
  },
  {
   "cell_type": "code",
   "execution_count": 16,
   "metadata": {},
   "outputs": [],
   "source": [
    "a = (14, 2, 'Orsan', (7.25,-23))"
   ]
  },
  {
   "cell_type": "code",
   "execution_count": 17,
   "metadata": {},
   "outputs": [
    {
     "data": {
      "text/plain": [
       "(7.25, -23)"
      ]
     },
     "execution_count": 17,
     "metadata": {},
     "output_type": "execute_result"
    }
   ],
   "source": [
    "a[-1]"
   ]
  },
  {
   "cell_type": "code",
   "execution_count": 19,
   "metadata": {},
   "outputs": [
    {
     "ename": "TypeError",
     "evalue": "'tuple' object does not support item assignment",
     "output_type": "error",
     "traceback": [
      "\u001b[1;31m---------------------------------------------------------------------------\u001b[0m",
      "\u001b[1;31mTypeError\u001b[0m                                 Traceback (most recent call last)",
      "Input \u001b[1;32mIn [19]\u001b[0m, in \u001b[0;36m<cell line: 1>\u001b[1;34m()\u001b[0m\n\u001b[1;32m----> 1\u001b[0m a[\u001b[38;5;241m-\u001b[39m\u001b[38;5;241m1\u001b[39m][\u001b[38;5;241m0\u001b[39m] \u001b[38;5;241m=\u001b[39m \u001b[38;5;241m6.25\u001b[39m\n",
      "\u001b[1;31mTypeError\u001b[0m: 'tuple' object does not support item assignment"
     ]
    }
   ],
   "source": [
    "a[-1][0] = 6.25"
   ]
  },
  {
   "cell_type": "code",
   "execution_count": 20,
   "metadata": {},
   "outputs": [],
   "source": [
    "a = (14, 2, 'Orsan', [7.25,-23])"
   ]
  },
  {
   "cell_type": "code",
   "execution_count": 22,
   "metadata": {},
   "outputs": [],
   "source": [
    "a[-1][0] = 6"
   ]
  },
  {
   "cell_type": "code",
   "execution_count": 23,
   "metadata": {},
   "outputs": [
    {
     "data": {
      "text/plain": [
       "(14, 2, 'Orsan', [6, -23])"
      ]
     },
     "execution_count": 23,
     "metadata": {},
     "output_type": "execute_result"
    }
   ],
   "source": [
    "a"
   ]
  },
  {
   "cell_type": "code",
   "execution_count": 24,
   "metadata": {},
   "outputs": [],
   "source": [
    "x = -12\n",
    "y = 3/4\n",
    "z = \"Orsan\""
   ]
  },
  {
   "cell_type": "code",
   "execution_count": 25,
   "metadata": {},
   "outputs": [
    {
     "data": {
      "text/plain": [
       "(-12, 0.75, 'Orsan')"
      ]
     },
     "execution_count": 25,
     "metadata": {},
     "output_type": "execute_result"
    }
   ],
   "source": [
    "x, y, z = -12, 3/4, \"Orsan\"\n",
    "x,y,z"
   ]
  },
  {
   "cell_type": "code",
   "execution_count": 26,
   "metadata": {},
   "outputs": [
    {
     "data": {
      "text/plain": [
       "(0.75, -12)"
      ]
     },
     "execution_count": 26,
     "metadata": {},
     "output_type": "execute_result"
    }
   ],
   "source": [
    "x,y = y,x\n",
    "x,y"
   ]
  },
  {
   "cell_type": "code",
   "execution_count": 27,
   "metadata": {},
   "outputs": [
    {
     "name": "stdout",
     "output_type": "stream",
     "text": [
      "1\n",
      "2\n"
     ]
    }
   ],
   "source": [
    "#########################\n",
    "## EXAMPLE: returning a tuple\n",
    "#########################\n",
    "def quotient_and_remainder(x, y):\n",
    "    q = x // y\n",
    "    r = x % y\n",
    "    return (q, r)\n",
    "    \n",
    "(quot, rem) = quotient_and_remainder(5,3)\n",
    "print(quot)\n",
    "print(rem)"
   ]
  },
  {
   "cell_type": "code",
   "execution_count": 28,
   "metadata": {},
   "outputs": [
    {
     "data": {
      "text/plain": [
       "('orsan', 4, True, 72.0, 'A')"
      ]
     },
     "execution_count": 28,
     "metadata": {},
     "output_type": "execute_result"
    }
   ],
   "source": [
    "tup"
   ]
  },
  {
   "cell_type": "code",
   "execution_count": 29,
   "metadata": {},
   "outputs": [
    {
     "name": "stdout",
     "output_type": "stream",
     "text": [
      "0 orsan\n",
      "1 4\n",
      "2 True\n",
      "3 72.0\n",
      "4 A\n"
     ]
    }
   ],
   "source": [
    "for i in range(len(tup)): \n",
    "    print(i, tup[i])"
   ]
  },
  {
   "cell_type": "code",
   "execution_count": 30,
   "metadata": {},
   "outputs": [
    {
     "name": "stdout",
     "output_type": "stream",
     "text": [
      "orsan\n",
      "4\n",
      "True\n",
      "72.0\n",
      "A\n"
     ]
    }
   ],
   "source": [
    "for i in (tup): \n",
    "    print(i)"
   ]
  },
  {
   "cell_type": "code",
   "execution_count": null,
   "metadata": {},
   "outputs": [],
   "source": [
    "((34, \"a\"), (42, \"orsan\"), (25, \"a\"))\n",
    "\n",
    "num = (34, 42, 25)\n",
    "\n",
    "words = (\"a\", \"orsan\")\n",
    "\n",
    "25, 42, 2"
   ]
  },
  {
   "cell_type": "code",
   "execution_count": 35,
   "metadata": {},
   "outputs": [
    {
     "name": "stdout",
     "output_type": "stream",
     "text": [
      "(1, 'a') () ()\n",
      "\t (1,) ('a',)\n",
      "(2, 'b') (1,) ('a',)\n",
      "\t (1, 2) ('a', 'b')\n",
      "(1, 'a') (1, 2) ('a', 'b')\n",
      "\t (1, 2, 1) ('a', 'b')\n",
      "(7, 'b') (1, 2, 1) ('a', 'b')\n",
      "\t (1, 2, 1, 7) ('a', 'b')\n",
      "minV: 1 MaxV: 7 UniqV: 2\n"
     ]
    }
   ],
   "source": [
    "#########################\n",
    "## EXAMPLE: iterating over tuples\n",
    "#########################\n",
    "def get_dataOld(aTuple):\n",
    "    \"\"\"\n",
    "    aTuple, tuple of tuples (int, string)\n",
    "    Extracts all integers from aTuple and sets \n",
    "    them as elements in a new tuple. \n",
    "    Extracts all unique strings from aTuple \n",
    "    and sets them as elements in a new tuple.\n",
    "    Returns a tuple of the minimum integer, the\n",
    "    maximum integer, and the number of unique strings\n",
    "    \"\"\"\n",
    "    nums = ()    # empty tuple\n",
    "    words = ()\n",
    "    for t in aTuple:\n",
    "        print(t, nums, words)\n",
    "        # concatenating with a singleton tuple\n",
    "        nums = nums + (t[0],)   \n",
    "        # only add words haven't added before\n",
    "        if t[1] not in words:   \n",
    "            words = words + (t[1],)\n",
    "        print(\"\\t\", nums, words)\n",
    "    min_n = min(nums)\n",
    "    max_n = max(nums)\n",
    "    unique_words = len(words)\n",
    "    return (min_n, max_n, unique_words)\n",
    "\n",
    "test = ((1,\"a\"),(2,\"b\"),\n",
    "        (1,\"a\"),(7,\"b\")) #,(\"o\", 5)) #, , (\"z\", \"d\"))\n",
    "\n",
    "(minV, MaxV, UniqV) = get_data(test)\n",
    "print(\"minV:\",minV,\"MaxV:\",MaxV,\"UniqV:\",UniqV)\n",
    "\n"
   ]
  },
  {
   "cell_type": "code",
   "execution_count": 37,
   "metadata": {},
   "outputs": [
    {
     "name": "stdout",
     "output_type": "stream",
     "text": [
      "(1, 'a') () ()\n",
      "\t (1,) ('a',)\n",
      "(2, 'b') (1,) ('a',)\n",
      "\t (1, 2) ('a', 'b')\n",
      "(1, 'a') (1, 2) ('a', 'b')\n",
      "\t (1, 2, 1) ('a', 'b')\n",
      "(7, 'b') (1, 2, 1) ('a', 'b')\n",
      "\t (1, 2, 1, 7) ('a', 'b')\n",
      "('o', 5) (1, 2, 1, 7) ('a', 'b')\n",
      "\t (1, 2, 1, 7, 5) ('a', 'b', 'o')\n",
      "('z', 'd') (1, 2, 1, 7, 5) ('a', 'b', 'o')\n",
      "\t (1, 2, 1, 7, 5) ('a', 'b', 'o')\n",
      "minV: 1 MaxV: 7 UniqV: 3\n"
     ]
    }
   ],
   "source": [
    "#########################\n",
    "## EXAMPLE: iterating over tuples\n",
    "#########################\n",
    "def get_data(aTuple):\n",
    "    \"\"\"\n",
    "    aTuple, tuple of tuples (int, string)\n",
    "    Extracts all integers from aTuple and sets \n",
    "    them as elements in a new tuple. \n",
    "    Extracts all unique strings from aTuple \n",
    "    and sets them as elements in a new tuple.\n",
    "    Returns a tuple of the minimum integer, the\n",
    "    maximum integer, and the number of unique strings\n",
    "    \"\"\"\n",
    "    nums = ()    # empty tuple\n",
    "    words = ()\n",
    "    for t in aTuple:\n",
    "        print(t, nums, words)\n",
    "        # concatenating with a singleton tuple\n",
    "        if (type(t[0])==int) and (type(t[1])==str): \n",
    "            nums = nums + (t[0],)   \n",
    "            # only add words haven't added before\n",
    "            if t[1] not in words:   \n",
    "                words = words + (t[1],)\n",
    "        if (type(t[0])==str) and (type(t[1])==int): \n",
    "            nums = nums + (t[1],)   \n",
    "            # only add words haven't added before\n",
    "            if t[0] not in words:   \n",
    "                words = words + (t[0],)\n",
    "        print(\"\\t\", nums, words)\n",
    "    min_n = min(nums)\n",
    "    max_n = max(nums)\n",
    "    unique_words = len(words)\n",
    "    return (min_n, max_n, unique_words)\n",
    "\n",
    "test = ((1,\"a\"),(2,\"b\"),\n",
    "        (1,\"a\"),(7,\"b\"),(\"o\", 5), (\"z\", \"d\"))\n",
    "\n",
    "(minV, MaxV, UniqV) = get_data(test)\n",
    "print(\"minV:\",minV,\"MaxV:\",MaxV,\"UniqV:\",UniqV)\n",
    "\n"
   ]
  },
  {
   "cell_type": "code",
   "execution_count": null,
   "metadata": {},
   "outputs": [],
   "source": [
    "#########################\n",
    "## EXAMPLE: iterating over tuples\n",
    "#########################\n",
    "def get_data(aTuple):\n",
    "    \"\"\"\n",
    "    aTuple, tuple of tuples (int, string)\n",
    "    Extracts all integers from aTuple and sets \n",
    "    them as elements in a new tuple. \n",
    "    Extracts all unique strings from aTuple \n",
    "    and sets them as elements in a new tuple.\n",
    "    Returns a tuple of the minimum integer, the\n",
    "    maximum integer, and the number of unique strings\n",
    "    \"\"\"\n",
    "    nums = ()    # empty tuple\n",
    "    words = ()\n",
    "    for t in aTuple:\n",
    "        #print(t, nums, words)\n",
    "        if (type(t[0])==int and type(t[1])==str): \n",
    "            # concatenating with a singleton tuple\n",
    "            nums = nums + (t[0],)   \n",
    "            # only add words haven't added before\n",
    "            if t[1] not in words:   \n",
    "                words = words + (t[1],)\n",
    "            #print(\"\\t\", nums, words)\n",
    "        elif (type(t[1])==int and type(t[0])==str): \n",
    "            # concatenating with a singleton tuple\n",
    "            nums = nums + (t[1],)   \n",
    "            # only add words haven't added before\n",
    "            if t[0] not in words:   \n",
    "                words = words + (t[0],)\n",
    "            #print(\"\\t\", nums, words)\n",
    "            \n",
    "    min_n = min(nums)\n",
    "    max_n = max(nums)\n",
    "    unique_words = len(words)\n",
    "    return (min_n, max_n, unique_words)\n",
    "\n",
    "test = ((1,\"a\"),(2,\"b\"),\n",
    "        (1,\"a\"),(7,\"b\"),(\"o\", 5), (\"z\", \"d\"))   \n",
    "\n",
    "(minV, MaxV, UniqV) = get_data(test)\n",
    "print(\"minV:\",minV,\"MaxV:\",MaxV,\"UniqV:\",UniqV)\n",
    "\n"
   ]
  },
  {
   "cell_type": "code",
   "execution_count": null,
   "metadata": {},
   "outputs": [],
   "source": [
    "type(\"A\") == int"
   ]
  },
  {
   "cell_type": "code",
   "execution_count": 38,
   "metadata": {},
   "outputs": [
    {
     "name": "stdout",
     "output_type": "stream",
     "text": [
      "(2014, 'Katy') () ()\n",
      "\t (2014,) ('Katy',)\n",
      "(2014, 'Harry') (2014,) ('Katy',)\n",
      "\t (2014, 2014) ('Katy', 'Harry')\n",
      "(2010, 'Taylor') (2014, 2014) ('Katy', 'Harry')\n",
      "\t (2014, 2014, 2010) ('Katy', 'Harry', 'Taylor')\n",
      "(2012, 'Jake') (2014, 2014, 2010) ('Katy', 'Harry', 'Taylor')\n",
      "\t (2014, 2014, 2010, 2012) ('Katy', 'Harry', 'Taylor', 'Jake')\n",
      "('Jake', 2013) (2014, 2014, 2010, 2012) ('Katy', 'Harry', 'Taylor', 'Jake')\n",
      "\t (2014, 2014, 2010, 2012, 2013) ('Katy', 'Harry', 'Taylor', 'Jake')\n",
      "('Smith', 'Anne') (2014, 2014, 2010, 2012, 2013) ('Katy', 'Harry', 'Taylor', 'Jake')\n",
      "\t (2014, 2014, 2010, 2012, 2013) ('Katy', 'Harry', 'Taylor', 'Jake')\n",
      "(2008, 'Joe') (2014, 2014, 2010, 2012, 2013) ('Katy', 'Harry', 'Taylor', 'Jake')\n",
      "\t (2014, 2014, 2010, 2012, 2013, 2008) ('Katy', 'Harry', 'Taylor', 'Jake', 'Joe')\n",
      "(2015, 'Jake') (2014, 2014, 2010, 2012, 2013, 2008) ('Katy', 'Harry', 'Taylor', 'Jake', 'Joe')\n",
      "\t (2014, 2014, 2010, 2012, 2013, 2008, 2015) ('Katy', 'Harry', 'Taylor', 'Jake', 'Joe')\n",
      "From 2008 to 2015 Taylor Swift wrote songs about 5 people!\n"
     ]
    }
   ],
   "source": [
    "# apply to any data you want!\n",
    "tswift = ((2014,\"Katy\"),\n",
    "          (2014, \"Harry\"),\n",
    "          (2010,\"Taylor\"), \n",
    "          (2012,\"Jake\"),\n",
    "          (\"Jake\", 2013), \n",
    "          (\"Smith\", \"Anne\"),\n",
    "          (2008,\"Joe\"), \n",
    "          (2015,\"Jake\"))    \n",
    "(min_year, max_year, num_people) = get_data(tswift)\n",
    "print(\"From\", min_year, \"to\", max_year, \\\n",
    "        \"Taylor Swift wrote songs about\", num_people, \"people!\")\n"
   ]
  },
  {
   "cell_type": "code",
   "execution_count": null,
   "metadata": {},
   "outputs": [],
   "source": []
  },
  {
   "cell_type": "code",
   "execution_count": 46,
   "metadata": {},
   "outputs": [],
   "source": [
    "L = [5, \"hello\", (2,3,1), [-1,0,2]]"
   ]
  },
  {
   "cell_type": "code",
   "execution_count": 40,
   "metadata": {},
   "outputs": [
    {
     "data": {
      "text/plain": [
       "4"
      ]
     },
     "execution_count": 40,
     "metadata": {},
     "output_type": "execute_result"
    }
   ],
   "source": [
    "len(L)"
   ]
  },
  {
   "cell_type": "code",
   "execution_count": null,
   "metadata": {},
   "outputs": [],
   "source": []
  },
  {
   "cell_type": "code",
   "execution_count": 47,
   "metadata": {},
   "outputs": [
    {
     "data": {
      "text/plain": [
       "[5, 'hello', (2, 3, 1), [-1, 0, 2]]"
      ]
     },
     "execution_count": 47,
     "metadata": {},
     "output_type": "execute_result"
    }
   ],
   "source": [
    "L"
   ]
  },
  {
   "cell_type": "code",
   "execution_count": 42,
   "metadata": {},
   "outputs": [
    {
     "data": {
      "text/plain": [
       "[-1, 0, 2]"
      ]
     },
     "execution_count": 42,
     "metadata": {},
     "output_type": "execute_result"
    }
   ],
   "source": [
    "L[-1]"
   ]
  },
  {
   "cell_type": "code",
   "execution_count": 48,
   "metadata": {},
   "outputs": [
    {
     "data": {
      "text/plain": [
       "[4.1, 'hello', (2, 3, 1), [-1, 0, 2]]"
      ]
     },
     "execution_count": 48,
     "metadata": {},
     "output_type": "execute_result"
    }
   ],
   "source": [
    "L[0] = 4.1\n",
    "L"
   ]
  },
  {
   "cell_type": "code",
   "execution_count": 49,
   "metadata": {},
   "outputs": [
    {
     "ename": "TypeError",
     "evalue": "'tuple' object does not support item assignment",
     "output_type": "error",
     "traceback": [
      "\u001b[1;31m---------------------------------------------------------------------------\u001b[0m",
      "\u001b[1;31mTypeError\u001b[0m                                 Traceback (most recent call last)",
      "Input \u001b[1;32mIn [49]\u001b[0m, in \u001b[0;36m<cell line: 1>\u001b[1;34m()\u001b[0m\n\u001b[1;32m----> 1\u001b[0m L[\u001b[38;5;241m2\u001b[39m][\u001b[38;5;241m0\u001b[39m] \u001b[38;5;241m=\u001b[39m \u001b[38;5;241m12\u001b[39m\n\u001b[0;32m      2\u001b[0m L\n",
      "\u001b[1;31mTypeError\u001b[0m: 'tuple' object does not support item assignment"
     ]
    }
   ],
   "source": [
    "L[2][0] = 12\n",
    "L"
   ]
  },
  {
   "cell_type": "code",
   "execution_count": 50,
   "metadata": {},
   "outputs": [
    {
     "data": {
      "text/plain": [
       "[4.1, 'hello', 12, [-1, 0, 2]]"
      ]
     },
     "execution_count": 50,
     "metadata": {},
     "output_type": "execute_result"
    }
   ],
   "source": [
    "L[2] = 12\n",
    "L"
   ]
  },
  {
   "cell_type": "code",
   "execution_count": 51,
   "metadata": {},
   "outputs": [
    {
     "data": {
      "text/plain": [
       "[4.1, 'hello', [-1, 0, 2]]"
      ]
     },
     "execution_count": 51,
     "metadata": {},
     "output_type": "execute_result"
    }
   ],
   "source": [
    "del L[2]\n",
    "L"
   ]
  },
  {
   "cell_type": "code",
   "execution_count": 52,
   "metadata": {},
   "outputs": [
    {
     "ename": "TypeError",
     "evalue": "'str' object does not support item assignment",
     "output_type": "error",
     "traceback": [
      "\u001b[1;31m---------------------------------------------------------------------------\u001b[0m",
      "\u001b[1;31mTypeError\u001b[0m                                 Traceback (most recent call last)",
      "Input \u001b[1;32mIn [52]\u001b[0m, in \u001b[0;36m<cell line: 1>\u001b[1;34m()\u001b[0m\n\u001b[1;32m----> 1\u001b[0m L[\u001b[38;5;241m1\u001b[39m][\u001b[38;5;241m1\u001b[39m] \u001b[38;5;241m=\u001b[39m \u001b[38;5;124m\"\u001b[39m\u001b[38;5;124ma\u001b[39m\u001b[38;5;124m\"\u001b[39m\n\u001b[0;32m      2\u001b[0m L\n",
      "\u001b[1;31mTypeError\u001b[0m: 'str' object does not support item assignment"
     ]
    }
   ],
   "source": [
    "L[1][1] = \"a\"\n",
    "L"
   ]
  },
  {
   "cell_type": "code",
   "execution_count": 53,
   "metadata": {},
   "outputs": [
    {
     "data": {
      "text/plain": [
       "range(0, 10)"
      ]
     },
     "execution_count": 53,
     "metadata": {},
     "output_type": "execute_result"
    }
   ],
   "source": [
    "range(10)"
   ]
  },
  {
   "cell_type": "code",
   "execution_count": 54,
   "metadata": {},
   "outputs": [
    {
     "data": {
      "text/plain": [
       "[0, 1, 2, 3, 4, 5, 6, 7, 8, 9]"
      ]
     },
     "execution_count": 54,
     "metadata": {},
     "output_type": "execute_result"
    }
   ],
   "source": [
    "list(range(10))"
   ]
  },
  {
   "cell_type": "code",
   "execution_count": 55,
   "metadata": {},
   "outputs": [
    {
     "data": {
      "text/plain": [
       "[2, 3, 4, 5, 6, 7, 8, 9]"
      ]
     },
     "execution_count": 55,
     "metadata": {},
     "output_type": "execute_result"
    }
   ],
   "source": [
    "list(range(2,10))"
   ]
  },
  {
   "cell_type": "code",
   "execution_count": 56,
   "metadata": {},
   "outputs": [
    {
     "data": {
      "text/plain": [
       "[2, 4, 6, 8]"
      ]
     },
     "execution_count": 56,
     "metadata": {},
     "output_type": "execute_result"
    }
   ],
   "source": [
    "list(range(2,10,2))"
   ]
  },
  {
   "cell_type": "code",
   "execution_count": 57,
   "metadata": {},
   "outputs": [
    {
     "name": "stdout",
     "output_type": "stream",
     "text": [
      "0 2 4 6 8 10 12 14 16 18 "
     ]
    }
   ],
   "source": [
    "for i in range(0,20,2):\n",
    "    #print(i)\n",
    "    print(i,end=\" \")"
   ]
  },
  {
   "cell_type": "code",
   "execution_count": 58,
   "metadata": {},
   "outputs": [
    {
     "data": {
      "text/plain": [
       "['h', 'e', 'l', 'l', 'o']"
      ]
     },
     "execution_count": 58,
     "metadata": {},
     "output_type": "execute_result"
    }
   ],
   "source": [
    "s = \"hello\"\n",
    "list(s) "
   ]
  },
  {
   "cell_type": "code",
   "execution_count": 59,
   "metadata": {},
   "outputs": [
    {
     "data": {
      "text/plain": [
       "[1, 2, 3, 4]"
      ]
     },
     "execution_count": 59,
     "metadata": {},
     "output_type": "execute_result"
    }
   ],
   "source": [
    "t = (1,2,3,4)\n",
    "list(t)  "
   ]
  },
  {
   "cell_type": "code",
   "execution_count": 60,
   "metadata": {},
   "outputs": [
    {
     "data": {
      "text/plain": [
       "('h', 'e', 'l', 'l', 'o')"
      ]
     },
     "execution_count": 60,
     "metadata": {},
     "output_type": "execute_result"
    }
   ],
   "source": [
    "s = \"hello\"\n",
    "tuple(s)"
   ]
  },
  {
   "cell_type": "code",
   "execution_count": 61,
   "metadata": {},
   "outputs": [
    {
     "data": {
      "text/plain": [
       "'hello'"
      ]
     },
     "execution_count": 61,
     "metadata": {},
     "output_type": "execute_result"
    }
   ],
   "source": [
    "L = ['h', 'e', 'l', 'l', 'o']\n",
    "\"\".join(L)"
   ]
  },
  {
   "cell_type": "code",
   "execution_count": 62,
   "metadata": {},
   "outputs": [
    {
     "data": {
      "text/plain": [
       "8"
      ]
     },
     "execution_count": 62,
     "metadata": {},
     "output_type": "execute_result"
    }
   ],
   "source": [
    "L = [4,2,8,3,1,7]\n",
    "max(L)"
   ]
  },
  {
   "cell_type": "code",
   "execution_count": 63,
   "metadata": {},
   "outputs": [
    {
     "data": {
      "text/plain": [
       "1"
      ]
     },
     "execution_count": 63,
     "metadata": {},
     "output_type": "execute_result"
    }
   ],
   "source": [
    "L = [4,2,8,3,1,7]\n",
    "min(L)"
   ]
  },
  {
   "cell_type": "code",
   "execution_count": 64,
   "metadata": {},
   "outputs": [
    {
     "data": {
      "text/plain": [
       "-5"
      ]
     },
     "execution_count": 64,
     "metadata": {},
     "output_type": "execute_result"
    }
   ],
   "source": [
    "L = [-1,-3, 4, -5, 2]\n",
    "max(L, key=abs)"
   ]
  },
  {
   "cell_type": "code",
   "execution_count": 65,
   "metadata": {},
   "outputs": [
    {
     "data": {
      "text/plain": [
       "56"
      ]
     },
     "execution_count": 65,
     "metadata": {},
     "output_type": "execute_result"
    }
   ],
   "source": [
    "sum([11,2,43])"
   ]
  },
  {
   "cell_type": "code",
   "execution_count": 66,
   "metadata": {},
   "outputs": [
    {
     "data": {
      "text/plain": [
       "-0.6"
      ]
     },
     "execution_count": 66,
     "metadata": {},
     "output_type": "execute_result"
    }
   ],
   "source": [
    "sum(L)/len(L)"
   ]
  },
  {
   "cell_type": "code",
   "execution_count": 67,
   "metadata": {},
   "outputs": [
    {
     "data": {
      "text/plain": [
       "[(4, 'a'), (5, 'b'), (9, 'c')]"
      ]
     },
     "execution_count": 67,
     "metadata": {},
     "output_type": "execute_result"
    }
   ],
   "source": [
    "L1 = [4, 5, 9]\n",
    "L2 = ['a', 'b', 'c']\n",
    "list(zip(L1, L2))"
   ]
  },
  {
   "cell_type": "code",
   "execution_count": 68,
   "metadata": {},
   "outputs": [
    {
     "name": "stdout",
     "output_type": "stream",
     "text": [
      "age: 19 height: 170 weight: 75\n",
      "age: 25 height: 180 weight: 78\n",
      "age: 32 height: 175 weight: 81\n",
      "age: 27 height: 169 weight: 71\n"
     ]
    }
   ],
   "source": [
    "age = [19, 25, 32, 27]\n",
    "height = [170, 180, 175, 169]\n",
    "weight = [75, 78, 81, 71]\n",
    "for y, b, a in zip(age, height, weight):\n",
    "    print(\"age:\", y, \"height:\", b, \"weight:\",a)"
   ]
  },
  {
   "cell_type": "code",
   "execution_count": 69,
   "metadata": {},
   "outputs": [
    {
     "data": {
      "text/plain": [
       "4"
      ]
     },
     "execution_count": 69,
     "metadata": {},
     "output_type": "execute_result"
    }
   ],
   "source": [
    "L = [1,2,1,2,2,2,3,3,1,1]\n",
    "L.count(1)"
   ]
  },
  {
   "cell_type": "code",
   "execution_count": 70,
   "metadata": {},
   "outputs": [
    {
     "name": "stdout",
     "output_type": "stream",
     "text": [
      "10\n"
     ]
    }
   ],
   "source": [
    "#########################\n",
    "## EXAMPLE: sum of elements in a list\n",
    "#########################\n",
    "def sum_elem_method1(L):\n",
    "    total = 0 \n",
    "    for i in range(len(L)): \n",
    "        total += L[i] \n",
    "    return total\n",
    "    \n",
    "print(sum_elem_method1([1,2,3,4]))\n"
   ]
  },
  {
   "cell_type": "code",
   "execution_count": 71,
   "metadata": {},
   "outputs": [
    {
     "name": "stdout",
     "output_type": "stream",
     "text": [
      "10\n"
     ]
    }
   ],
   "source": [
    "def sum_elem_method2(L):\n",
    "    total = 0 \n",
    "    for i in L: \n",
    "        total += i \n",
    "    return total\n",
    "\n",
    "print(sum_elem_method2([1,2,3,4]))"
   ]
  },
  {
   "cell_type": "code",
   "execution_count": null,
   "metadata": {},
   "outputs": [],
   "source": []
  },
  {
   "cell_type": "code",
   "execution_count": 72,
   "metadata": {},
   "outputs": [
    {
     "name": "stdout",
     "output_type": "stream",
     "text": [
      "[2, 1, 3, 4, 5, 6]\n"
     ]
    }
   ],
   "source": [
    "#########################\n",
    "## EXAMPLE: various list operations\n",
    "## put print(L) at different locations to see how it gets mutated\n",
    "#########################\n",
    "L1 = [2,1,3]\n",
    "L2 = [4,5,6]\n",
    "L3 = L1 + L2\n",
    "print(L3)"
   ]
  },
  {
   "cell_type": "code",
   "execution_count": 73,
   "metadata": {},
   "outputs": [
    {
     "data": {
      "text/plain": [
       "[2, 1, 3]"
      ]
     },
     "execution_count": 73,
     "metadata": {},
     "output_type": "execute_result"
    }
   ],
   "source": [
    "L1"
   ]
  },
  {
   "cell_type": "code",
   "execution_count": 74,
   "metadata": {},
   "outputs": [
    {
     "data": {
      "text/plain": [
       "[4, 5, 6]"
      ]
     },
     "execution_count": 74,
     "metadata": {},
     "output_type": "execute_result"
    }
   ],
   "source": [
    "L2"
   ]
  },
  {
   "cell_type": "code",
   "execution_count": 75,
   "metadata": {},
   "outputs": [
    {
     "data": {
      "text/plain": [
       "[2, 1, 3, 0, 6]"
      ]
     },
     "execution_count": 75,
     "metadata": {},
     "output_type": "execute_result"
    }
   ],
   "source": [
    "L1.extend([0,6])\n",
    "L1"
   ]
  },
  {
   "cell_type": "code",
   "execution_count": 76,
   "metadata": {},
   "outputs": [
    {
     "data": {
      "text/plain": [
       "[2, 1, 3, 4, 5, 6]"
      ]
     },
     "execution_count": 76,
     "metadata": {},
     "output_type": "execute_result"
    }
   ],
   "source": [
    "L3"
   ]
  },
  {
   "cell_type": "code",
   "execution_count": 77,
   "metadata": {},
   "outputs": [
    {
     "data": {
      "text/plain": [
       "[1, 'abc', 3, 'xyz', 5]"
      ]
     },
     "execution_count": 77,
     "metadata": {},
     "output_type": "execute_result"
    }
   ],
   "source": [
    "L1 = [1, \"abc\", 3]\n",
    "L2 = [\"xyz\", 5]\n",
    "L1.extend(L2)\n",
    "L1"
   ]
  },
  {
   "cell_type": "code",
   "execution_count": 78,
   "metadata": {},
   "outputs": [
    {
     "data": {
      "text/plain": [
       "['xyz', 5]"
      ]
     },
     "execution_count": 78,
     "metadata": {},
     "output_type": "execute_result"
    }
   ],
   "source": [
    "L2"
   ]
  },
  {
   "cell_type": "code",
   "execution_count": 79,
   "metadata": {},
   "outputs": [
    {
     "data": {
      "text/plain": [
       "[1, 'abc', 3, ['xyz', 5]]"
      ]
     },
     "execution_count": 79,
     "metadata": {},
     "output_type": "execute_result"
    }
   ],
   "source": [
    "L1 = [1, \"abc\", 3]\n",
    "L2 = [\"xyz\", 5]\n",
    "L1.append(L2)\n",
    "L1"
   ]
  },
  {
   "cell_type": "code",
   "execution_count": 80,
   "metadata": {},
   "outputs": [
    {
     "data": {
      "text/plain": [
       "[2, 1, 3, 6, 3, 0, 6, 7, 9]"
      ]
     },
     "execution_count": 80,
     "metadata": {},
     "output_type": "execute_result"
    }
   ],
   "source": [
    "L = [2,1,3,6,3,7,0,6,7,9]\n",
    "L.remove(7)\n",
    "L"
   ]
  },
  {
   "cell_type": "code",
   "execution_count": 81,
   "metadata": {},
   "outputs": [
    {
     "name": "stdout",
     "output_type": "stream",
     "text": [
      "[2, 1, 6, 3, 0, 6, 7, 9]\n"
     ]
    }
   ],
   "source": [
    "L.remove(3)\n",
    "print(L)"
   ]
  },
  {
   "cell_type": "code",
   "execution_count": 82,
   "metadata": {},
   "outputs": [
    {
     "name": "stdout",
     "output_type": "stream",
     "text": [
      "[2, 1, 3, 0, 6, 7, 9]\n"
     ]
    }
   ],
   "source": [
    "del(L[2])\n",
    "print(L)\n"
   ]
  },
  {
   "cell_type": "code",
   "execution_count": 83,
   "metadata": {},
   "outputs": [
    {
     "name": "stdout",
     "output_type": "stream",
     "text": [
      "9\n",
      "[2, 1, 3, 0, 6, 7]\n"
     ]
    }
   ],
   "source": [
    "print(L.pop())\n",
    "print(L)"
   ]
  },
  {
   "cell_type": "code",
   "execution_count": null,
   "metadata": {},
   "outputs": [],
   "source": []
  },
  {
   "cell_type": "code",
   "execution_count": 84,
   "metadata": {},
   "outputs": [
    {
     "name": "stdout",
     "output_type": "stream",
     "text": [
      "['I', '<', '3', ' ', 'c', 's']\n"
     ]
    }
   ],
   "source": [
    "s = \"I<3 cs\"\n",
    "print(list(s))"
   ]
  },
  {
   "cell_type": "code",
   "execution_count": 85,
   "metadata": {},
   "outputs": [
    {
     "name": "stdout",
     "output_type": "stream",
     "text": [
      "['I', '3 cs']\n"
     ]
    }
   ],
   "source": [
    "print(s.split('<'))\n"
   ]
  },
  {
   "cell_type": "code",
   "execution_count": 86,
   "metadata": {},
   "outputs": [
    {
     "name": "stdout",
     "output_type": "stream",
     "text": [
      "abc\n",
      "a_b_c\n"
     ]
    }
   ],
   "source": [
    "L = ['a', 'b', 'c']\n",
    "print(''.join(L))\n",
    "print('_'.join(L))"
   ]
  },
  {
   "cell_type": "code",
   "execution_count": 87,
   "metadata": {},
   "outputs": [
    {
     "name": "stdout",
     "output_type": "stream",
     "text": [
      "[0, 3, 6, 9]\n"
     ]
    }
   ],
   "source": [
    "L=[9,6,0,3]\n",
    "print(sorted(L))"
   ]
  },
  {
   "cell_type": "code",
   "execution_count": 88,
   "metadata": {},
   "outputs": [
    {
     "name": "stdout",
     "output_type": "stream",
     "text": [
      "[9, 6, 0, 3]\n"
     ]
    }
   ],
   "source": [
    "print(L)"
   ]
  },
  {
   "cell_type": "code",
   "execution_count": 89,
   "metadata": {},
   "outputs": [
    {
     "name": "stdout",
     "output_type": "stream",
     "text": [
      "[0, 3, 6, 9]\n"
     ]
    }
   ],
   "source": [
    "L.sort()\n",
    "print(L)"
   ]
  },
  {
   "cell_type": "code",
   "execution_count": 90,
   "metadata": {},
   "outputs": [
    {
     "name": "stdout",
     "output_type": "stream",
     "text": [
      "[9, 6, 3, 0]\n"
     ]
    }
   ],
   "source": [
    "L.reverse()\n",
    "print(L)"
   ]
  },
  {
   "cell_type": "code",
   "execution_count": 91,
   "metadata": {},
   "outputs": [
    {
     "data": {
      "text/plain": [
       "1"
      ]
     },
     "execution_count": 91,
     "metadata": {},
     "output_type": "execute_result"
    }
   ],
   "source": [
    "L = [12, \"abc\", -4, 11, \"abc\", 0.25, 64]\n",
    "L.index(\"abc\")"
   ]
  },
  {
   "cell_type": "code",
   "execution_count": 92,
   "metadata": {},
   "outputs": [
    {
     "ename": "ValueError",
     "evalue": "'xyz' is not in list",
     "output_type": "error",
     "traceback": [
      "\u001b[1;31m---------------------------------------------------------------------------\u001b[0m",
      "\u001b[1;31mValueError\u001b[0m                                Traceback (most recent call last)",
      "Input \u001b[1;32mIn [92]\u001b[0m, in \u001b[0;36m<cell line: 1>\u001b[1;34m()\u001b[0m\n\u001b[1;32m----> 1\u001b[0m \u001b[43mL\u001b[49m\u001b[38;5;241;43m.\u001b[39;49m\u001b[43mindex\u001b[49m\u001b[43m(\u001b[49m\u001b[38;5;124;43m\"\u001b[39;49m\u001b[38;5;124;43mxyz\u001b[39;49m\u001b[38;5;124;43m\"\u001b[39;49m\u001b[43m)\u001b[49m\n",
      "\u001b[1;31mValueError\u001b[0m: 'xyz' is not in list"
     ]
    }
   ],
   "source": [
    "L.index(\"xyz\")"
   ]
  },
  {
   "cell_type": "code",
   "execution_count": 93,
   "metadata": {},
   "outputs": [
    {
     "name": "stdout",
     "output_type": "stream",
     "text": [
      "1\n"
     ]
    }
   ],
   "source": [
    "L = [12, \"abc\", -4, 11, \"abc\", 0.25, 64, \"abc\", 7, 89, \"abc\"]\n",
    "loc = L.index(\"abc\")\n",
    "print(loc)"
   ]
  },
  {
   "cell_type": "code",
   "execution_count": 94,
   "metadata": {},
   "outputs": [
    {
     "data": {
      "text/plain": [
       "False"
      ]
     },
     "execution_count": 94,
     "metadata": {},
     "output_type": "execute_result"
    }
   ],
   "source": [
    "\"xyz\" in L"
   ]
  },
  {
   "cell_type": "code",
   "execution_count": 95,
   "metadata": {},
   "outputs": [
    {
     "data": {
      "text/plain": [
       "4"
      ]
     },
     "execution_count": 95,
     "metadata": {},
     "output_type": "execute_result"
    }
   ],
   "source": [
    "L.index(\"abc\",loc+1)"
   ]
  },
  {
   "cell_type": "code",
   "execution_count": 96,
   "metadata": {},
   "outputs": [
    {
     "data": {
      "text/plain": [
       "[1, 4, 7, 10]"
      ]
     },
     "execution_count": 96,
     "metadata": {},
     "output_type": "execute_result"
    }
   ],
   "source": [
    "[i for i,el in enumerate(L) if el==\"abc\"]"
   ]
  },
  {
   "cell_type": "code",
   "execution_count": 97,
   "metadata": {},
   "outputs": [
    {
     "data": {
      "text/plain": [
       "[1, 2, 'abc', 'xyz', -45]"
      ]
     },
     "execution_count": 97,
     "metadata": {},
     "output_type": "execute_result"
    }
   ],
   "source": [
    "L = [1, 2, \"abc\", -45]\n",
    "L.insert(3, \"xyz\")            \n",
    "L"
   ]
  },
  {
   "cell_type": "code",
   "execution_count": 98,
   "metadata": {},
   "outputs": [
    {
     "data": {
      "text/plain": [
       "[2]"
      ]
     },
     "execution_count": 98,
     "metadata": {},
     "output_type": "execute_result"
    }
   ],
   "source": [
    "[i for i,el in enumerate(L) if el==\"abc\"]"
   ]
  },
  {
   "cell_type": "code",
   "execution_count": 99,
   "metadata": {},
   "outputs": [
    {
     "data": {
      "text/plain": [
       "[2]"
      ]
     },
     "execution_count": 99,
     "metadata": {},
     "output_type": "execute_result"
    }
   ],
   "source": [
    "K = []\n",
    "for i, el in enumerate(L):\n",
    "    if (el==\"abc\"):\n",
    "        K.append(i)\n",
    "K"
   ]
  },
  {
   "cell_type": "code",
   "execution_count": 100,
   "metadata": {},
   "outputs": [
    {
     "data": {
      "text/plain": [
       "[2, 1, 5, 2, 1, 'abc', 1]"
      ]
     },
     "execution_count": 100,
     "metadata": {},
     "output_type": "execute_result"
    }
   ],
   "source": [
    "L = [2,1,5,2,\"abc\",1,\"abc\",1]\n",
    "L.remove(\"abc\")\n",
    "L"
   ]
  },
  {
   "cell_type": "code",
   "execution_count": 101,
   "metadata": {},
   "outputs": [
    {
     "data": {
      "text/plain": [
       "[2, 1, 5, 2, 1, 1]"
      ]
     },
     "execution_count": 101,
     "metadata": {},
     "output_type": "execute_result"
    }
   ],
   "source": [
    "L.remove(\"abc\")\n",
    "L"
   ]
  },
  {
   "cell_type": "code",
   "execution_count": 102,
   "metadata": {},
   "outputs": [
    {
     "ename": "ValueError",
     "evalue": "list.remove(x): x not in list",
     "output_type": "error",
     "traceback": [
      "\u001b[1;31m---------------------------------------------------------------------------\u001b[0m",
      "\u001b[1;31mValueError\u001b[0m                                Traceback (most recent call last)",
      "Input \u001b[1;32mIn [102]\u001b[0m, in \u001b[0;36m<cell line: 1>\u001b[1;34m()\u001b[0m\n\u001b[1;32m----> 1\u001b[0m \u001b[43mL\u001b[49m\u001b[38;5;241;43m.\u001b[39;49m\u001b[43mremove\u001b[49m\u001b[43m(\u001b[49m\u001b[38;5;124;43m\"\u001b[39;49m\u001b[38;5;124;43mabc\u001b[39;49m\u001b[38;5;124;43m\"\u001b[39;49m\u001b[43m)\u001b[49m\n\u001b[0;32m      2\u001b[0m L\n",
      "\u001b[1;31mValueError\u001b[0m: list.remove(x): x not in list"
     ]
    }
   ],
   "source": [
    "L.remove(\"abc\")\n",
    "L"
   ]
  },
  {
   "cell_type": "code",
   "execution_count": 103,
   "metadata": {},
   "outputs": [
    {
     "name": "stdout",
     "output_type": "stream",
     "text": [
      "a: 5\n",
      "b: 5\n"
     ]
    }
   ],
   "source": [
    "#########################\n",
    "## EXAMPLE: aliasing\n",
    "#########################\n",
    "a = 5\n",
    "b = a\n",
    "print(\"a:\",a)\n",
    "print(\"b:\",b)"
   ]
  },
  {
   "cell_type": "code",
   "execution_count": 104,
   "metadata": {},
   "outputs": [
    {
     "name": "stdout",
     "output_type": "stream",
     "text": [
      "a: 2\n",
      "b: 5\n"
     ]
    }
   ],
   "source": [
    "a = 2\n",
    "print(\"a:\",a)\n",
    "print(\"b:\",b)"
   ]
  },
  {
   "cell_type": "code",
   "execution_count": 105,
   "metadata": {},
   "outputs": [
    {
     "data": {
      "text/plain": [
       "['red', 'yellow', 'orange']"
      ]
     },
     "execution_count": 105,
     "metadata": {},
     "output_type": "execute_result"
    }
   ],
   "source": [
    "warm = ['red', 'yellow', 'orange']\n",
    "hot = warm\n",
    "hot"
   ]
  },
  {
   "cell_type": "code",
   "execution_count": 106,
   "metadata": {},
   "outputs": [
    {
     "data": {
      "text/plain": [
       "['red', 'yellow', 'orange']"
      ]
     },
     "execution_count": 106,
     "metadata": {},
     "output_type": "execute_result"
    }
   ],
   "source": [
    "warm"
   ]
  },
  {
   "cell_type": "code",
   "execution_count": 107,
   "metadata": {},
   "outputs": [
    {
     "name": "stdout",
     "output_type": "stream",
     "text": [
      "['red', 'yellow', 'orange', 'pink']\n",
      "['red', 'yellow', 'orange', 'pink']\n"
     ]
    }
   ],
   "source": [
    "warm.append('pink')\n",
    "print(hot)\n",
    "print(warm)"
   ]
  },
  {
   "cell_type": "code",
   "execution_count": 108,
   "metadata": {},
   "outputs": [
    {
     "name": "stdout",
     "output_type": "stream",
     "text": [
      "['blue', 'green', 'grey', 'black']\n",
      "['blue', 'green', 'grey']\n"
     ]
    }
   ],
   "source": [
    "#########################\n",
    "## EXAMPLE: cloning\n",
    "#########################\n",
    "cool = ['blue', 'green', 'grey']\n",
    "chill = cool[:]\n",
    "chill.append('black')\n",
    "print(chill)\n",
    "print(cool)"
   ]
  },
  {
   "cell_type": "code",
   "execution_count": 110,
   "metadata": {},
   "outputs": [
    {
     "name": "stdout",
     "output_type": "stream",
     "text": [
      "['blue', 'green', 'grey']\n",
      "['blue', 'green', 'grey', 'black']\n"
     ]
    }
   ],
   "source": [
    "cool = ['blue', 'green', 'grey']\n",
    "chill = cool[:]\n",
    "cool.append('black')\n",
    "print(chill)\n",
    "print(cool)"
   ]
  },
  {
   "cell_type": "code",
   "execution_count": 111,
   "metadata": {},
   "outputs": [
    {
     "name": "stdout",
     "output_type": "stream",
     "text": [
      "['blue', 'green', 'grey', 'black']\n",
      "['blue', 'green', 'grey']\n"
     ]
    }
   ],
   "source": [
    "cool = ['blue', 'green', 'grey']\n",
    "chill = cool.copy()\n",
    "chill.append('black')\n",
    "print(chill)\n",
    "print(cool)"
   ]
  },
  {
   "cell_type": "code",
   "execution_count": 112,
   "metadata": {},
   "outputs": [
    {
     "name": "stdout",
     "output_type": "stream",
     "text": [
      "['blue', 'green', 'grey']\n",
      "['blue', 'green', 'grey', 'black']\n"
     ]
    }
   ],
   "source": [
    "cool = ['blue', 'green', 'grey']\n",
    "chill = cool.copy()\n",
    "cool.append('black')\n",
    "print(chill)\n",
    "print(cool)"
   ]
  },
  {
   "cell_type": "code",
   "execution_count": 113,
   "metadata": {},
   "outputs": [
    {
     "name": "stdout",
     "output_type": "stream",
     "text": [
      "['orange', 'red', 'yellow']\n",
      "None\n"
     ]
    }
   ],
   "source": [
    "#########################\n",
    "## EXAMPLE: sorting with/without mutation\n",
    "#########################\n",
    "warm = ['red', 'yellow', 'orange']\n",
    "sortedwarm = warm.sort()\n",
    "print(warm)\n",
    "print(sortedwarm)"
   ]
  },
  {
   "cell_type": "code",
   "execution_count": 114,
   "metadata": {},
   "outputs": [
    {
     "name": "stdout",
     "output_type": "stream",
     "text": [
      "['orange', 'red', 'yellow']\n"
     ]
    }
   ],
   "source": [
    "warm = ['red', 'yellow', 'orange']\n",
    "warm.sort()\n",
    "print(warm)"
   ]
  },
  {
   "cell_type": "code",
   "execution_count": 115,
   "metadata": {},
   "outputs": [
    {
     "name": "stdout",
     "output_type": "stream",
     "text": [
      "['grey', 'green', 'blue']\n",
      "['blue', 'green', 'grey']\n"
     ]
    }
   ],
   "source": [
    "cool = ['grey', 'green', 'blue']\n",
    "sortedcool = sorted(cool)\n",
    "print(cool)\n",
    "print(sortedcool)"
   ]
  },
  {
   "cell_type": "code",
   "execution_count": 116,
   "metadata": {},
   "outputs": [
    {
     "data": {
      "text/plain": [
       "[-8, -4, 1, 1, 2, 5, 7, 9]"
      ]
     },
     "execution_count": 116,
     "metadata": {},
     "output_type": "execute_result"
    }
   ],
   "source": [
    "L = [-4, -8, 1, 2, 1, 5, 9, 7]\n",
    "L.sort()\n",
    "L"
   ]
  },
  {
   "cell_type": "code",
   "execution_count": 117,
   "metadata": {},
   "outputs": [
    {
     "data": {
      "text/plain": [
       "[1, 1, 2, -4, 5, 7, -8, 9]"
      ]
     },
     "execution_count": 117,
     "metadata": {},
     "output_type": "execute_result"
    }
   ],
   "source": [
    "L = [-4, -8, 1, 2, 1, 5, 9, 7]\n",
    "L.sort(key=abs)\n",
    "L"
   ]
  },
  {
   "cell_type": "code",
   "execution_count": 118,
   "metadata": {},
   "outputs": [
    {
     "name": "stdout",
     "output_type": "stream",
     "text": [
      "[['yellow', 'orange'], ['red']]\n"
     ]
    }
   ],
   "source": [
    "#########################\n",
    "## EXAMPLE: lists of lists of lists...\n",
    "#########################\n",
    "warm = ['yellow', 'orange']\n",
    "hot = ['red']\n",
    "brightcolors = [warm]\n",
    "brightcolors.append(hot)\n",
    "print(brightcolors)"
   ]
  },
  {
   "cell_type": "code",
   "execution_count": 119,
   "metadata": {},
   "outputs": [
    {
     "name": "stdout",
     "output_type": "stream",
     "text": [
      "['red', 'pink']\n",
      "[['yellow', 'orange'], ['red', 'pink']]\n"
     ]
    }
   ],
   "source": [
    "hot.append('pink')\n",
    "print(hot)\n",
    "print(brightcolors)"
   ]
  },
  {
   "cell_type": "code",
   "execution_count": 120,
   "metadata": {},
   "outputs": [
    {
     "name": "stdout",
     "output_type": "stream",
     "text": [
      "1\n",
      "3\n",
      "4\n",
      "[2, 3, 4] [1, 2, 5, 6]\n"
     ]
    }
   ],
   "source": [
    "###############################\n",
    "## EXAMPLE: mutating a list while iterating over it\n",
    "###############################\n",
    "def remove_dups(L1, L2):\n",
    "    for e in L1:\n",
    "        print(e)\n",
    "        if e in L2:\n",
    "            L1.remove(e)\n",
    "      \n",
    "\n",
    "L1 = [1, 2, 3, 4]\n",
    "L2 = [1, 2, 5, 6]\n",
    "remove_dups(L1, L2)\n",
    "print(L1, L2)\n",
    "\n"
   ]
  },
  {
   "cell_type": "code",
   "execution_count": null,
   "metadata": {},
   "outputs": [],
   "source": []
  },
  {
   "cell_type": "code",
   "execution_count": null,
   "metadata": {},
   "outputs": [],
   "source": []
  },
  {
   "cell_type": "code",
   "execution_count": null,
   "metadata": {},
   "outputs": [],
   "source": []
  },
  {
   "cell_type": "code",
   "execution_count": null,
   "metadata": {},
   "outputs": [],
   "source": []
  },
  {
   "cell_type": "code",
   "execution_count": null,
   "metadata": {},
   "outputs": [],
   "source": []
  },
  {
   "cell_type": "code",
   "execution_count": 121,
   "metadata": {},
   "outputs": [
    {
     "name": "stdout",
     "output_type": "stream",
     "text": [
      "1\n",
      "2\n",
      "3\n",
      "4\n",
      "[3, 4] [1, 2, 5, 6]\n"
     ]
    }
   ],
   "source": [
    "def remove_dups_new(L1, L2):\n",
    "    L1_copy = L1[:]\n",
    "    for e in L1_copy:\n",
    "        print(e)\n",
    "        if e in L2:\n",
    "            L1.remove(e)\n",
    "            \n",
    "L1 = [1, 2, 3, 4]\n",
    "L2 = [1, 2, 5, 6]\n",
    "remove_dups_new(L1, L2)\n",
    "print(L1, L2)\n"
   ]
  },
  {
   "cell_type": "code",
   "execution_count": 122,
   "metadata": {},
   "outputs": [
    {
     "name": "stdout",
     "output_type": "stream",
     "text": [
      "['blue', 'green']\n",
      "['red', 'yellow', 'orange']\n"
     ]
    }
   ],
   "source": [
    "###############################\n",
    "## EXERCISE: Test yourself by predicting what the output is and \n",
    "##           what gets mutated then check with the Python Tutor\n",
    "###############################\n",
    "cool = ['blue', 'green']\n",
    "warm = ['red', 'yellow', 'orange']\n",
    "print(cool)\n",
    "print(warm)"
   ]
  },
  {
   "cell_type": "code",
   "execution_count": 123,
   "metadata": {},
   "outputs": [
    {
     "name": "stdout",
     "output_type": "stream",
     "text": [
      "[['blue', 'green']]\n",
      "colors1 =  [['blue', 'green'], ['red', 'yellow', 'orange']]\n"
     ]
    }
   ],
   "source": [
    "colors1 = [cool]\n",
    "print(colors1)\n",
    "colors1.append(warm)\n",
    "print('colors1 = ', colors1)"
   ]
  },
  {
   "cell_type": "code",
   "execution_count": 124,
   "metadata": {},
   "outputs": [
    {
     "data": {
      "text/plain": [
       "2"
      ]
     },
     "execution_count": 124,
     "metadata": {},
     "output_type": "execute_result"
    }
   ],
   "source": [
    "len(colors1)"
   ]
  },
  {
   "cell_type": "code",
   "execution_count": 125,
   "metadata": {},
   "outputs": [
    {
     "name": "stdout",
     "output_type": "stream",
     "text": [
      "colors2 = [['blue', 'green'], ['red', 'yellow', 'orange']]\n"
     ]
    }
   ],
   "source": [
    "colors2 = [['blue', 'green'],\n",
    "          ['red', 'yellow', 'orange']]\n",
    "print('colors2 =', colors2)\n",
    "\n"
   ]
  },
  {
   "cell_type": "code",
   "execution_count": 126,
   "metadata": {},
   "outputs": [
    {
     "name": "stdout",
     "output_type": "stream",
     "text": [
      "warm =  ['yellow', 'orange']\n",
      "colors1 =  [['blue', 'green'], ['yellow', 'orange']]\n",
      "colors2 = [['blue', 'green'], ['red', 'yellow', 'orange']]\n"
     ]
    }
   ],
   "source": [
    "warm.remove('red') \n",
    "print('warm = ', warm)\n",
    "print('colors1 = ', colors1)\n",
    "print('colors2 =', colors2)"
   ]
  },
  {
   "cell_type": "code",
   "execution_count": 127,
   "metadata": {},
   "outputs": [
    {
     "name": "stdout",
     "output_type": "stream",
     "text": [
      "e = ['blue', 'green']\n",
      "e = ['yellow', 'orange']\n"
     ]
    }
   ],
   "source": [
    "for e in colors1:\n",
    "    print('e =', e)"
   ]
  },
  {
   "cell_type": "code",
   "execution_count": 128,
   "metadata": {},
   "outputs": [
    {
     "name": "stdout",
     "output_type": "stream",
     "text": [
      "blue\n",
      "green\n",
      "yellow\n",
      "orange\n"
     ]
    }
   ],
   "source": [
    "for e in colors1:\n",
    "    if type(e) == list:\n",
    "        for e1 in e:\n",
    "            print(e1)\n",
    "    else:\n",
    "        print(e)\n"
   ]
  },
  {
   "cell_type": "code",
   "execution_count": 129,
   "metadata": {},
   "outputs": [
    {
     "name": "stdout",
     "output_type": "stream",
     "text": [
      "flat = ['blue', 'green', 'yellow', 'orange']\n"
     ]
    }
   ],
   "source": [
    "flat = cool + warm\n",
    "print('flat =', flat)"
   ]
  },
  {
   "cell_type": "code",
   "execution_count": 130,
   "metadata": {},
   "outputs": [
    {
     "name": "stdout",
     "output_type": "stream",
     "text": [
      "None\n",
      "flat = ['blue', 'green', 'orange', 'yellow']\n"
     ]
    }
   ],
   "source": [
    "print(flat.sort())\n",
    "print('flat =', flat)"
   ]
  },
  {
   "cell_type": "code",
   "execution_count": null,
   "metadata": {},
   "outputs": [],
   "source": [
    "new_flat = sorted(flat, reverse = True)\n",
    "print('flat =', flat)\n",
    "print('new_flat =', new_flat)\n",
    "\n"
   ]
  },
  {
   "cell_type": "code",
   "execution_count": null,
   "metadata": {},
   "outputs": [],
   "source": [
    "cool[1] = 'black'\n",
    "print(cool)\n",
    "print(colors1)"
   ]
  },
  {
   "cell_type": "code",
   "execution_count": null,
   "metadata": {},
   "outputs": [],
   "source": [
    "print(colors2)"
   ]
  },
  {
   "cell_type": "code",
   "execution_count": 131,
   "metadata": {},
   "outputs": [],
   "source": [
    "L  = [None]*10"
   ]
  },
  {
   "cell_type": "code",
   "execution_count": 132,
   "metadata": {},
   "outputs": [
    {
     "data": {
      "text/plain": [
       "[None, None, None, None, None, None, None, None, None, None]"
      ]
     },
     "execution_count": 132,
     "metadata": {},
     "output_type": "execute_result"
    }
   ],
   "source": [
    "L"
   ]
  },
  {
   "cell_type": "code",
   "execution_count": 133,
   "metadata": {},
   "outputs": [
    {
     "data": {
      "text/plain": [
       "[0, 0, 0, 0, 0, 0, 0, 0, 0, 0]"
      ]
     },
     "execution_count": 133,
     "metadata": {},
     "output_type": "execute_result"
    }
   ],
   "source": [
    "L  = [0]*10\n",
    "L"
   ]
  },
  {
   "cell_type": "code",
   "execution_count": 134,
   "metadata": {},
   "outputs": [
    {
     "data": {
      "text/plain": [
       "[0, 0, 0, 672, 0, 0, 0, 0, 0, 0]"
      ]
     },
     "execution_count": 134,
     "metadata": {},
     "output_type": "execute_result"
    }
   ],
   "source": [
    "L[3]= 672\n",
    "L"
   ]
  },
  {
   "cell_type": "code",
   "execution_count": null,
   "metadata": {},
   "outputs": [],
   "source": []
  }
 ],
 "metadata": {
  "kernelspec": {
   "display_name": "Python 3 (ipykernel)",
   "language": "python",
   "name": "python3"
  },
  "language_info": {
   "codemirror_mode": {
    "name": "ipython",
    "version": 3
   },
   "file_extension": ".py",
   "mimetype": "text/x-python",
   "name": "python",
   "nbconvert_exporter": "python",
   "pygments_lexer": "ipython3",
   "version": "3.9.12"
  }
 },
 "nbformat": 4,
 "nbformat_minor": 2
}
